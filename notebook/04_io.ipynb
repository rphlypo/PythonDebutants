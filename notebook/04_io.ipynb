{
 "cells": [
  {
   "cell_type": "markdown",
   "metadata": {},
   "source": [
    "# 4. handling input/output\n",
    "\n",
    "1. [file handling](#file handling)\n",
    "1. [modules](#modules)"
   ]
  },
  {
   "cell_type": "markdown",
   "metadata": {},
   "source": [
    "## 4.1 File handling <a name=\"file handling\" />\n",
    "\n",
    "_The different modes in which a file can be opened can be found at [reading and writing files](https://docs.python.org/3.6/tutorial/inputoutput.html#reading-and-writing-files)_\n",
    "\n",
    "### 4.1.1 File handling context\n",
    "\n",
    "* a file must be opened, manipulated, then closed"
   ]
  },
  {
   "cell_type": "code",
   "execution_count": null,
   "metadata": {},
   "outputs": [],
   "source": [
    "fid = open(\"./extra/test.txt\", \"w+\")\n",
    "print(\"working with file: file open? {}\".format(not(fid.closed)))\n",
    "if not fid.closed:\n",
    "    print(\"do not forget to close your file to avoid data corruption\")\n",
    "    fid.close()\n",
    "print(\"stopped working with file: file open? {}\\n\".format(not(fid.closed)))"
   ]
  },
  {
   "cell_type": "markdown",
   "metadata": {},
   "source": [
    "* easier &rightarrow; context manager<br />\n",
    "  when leaving the context (decrease indentation) &rightarrow; automatic closing of file "
   ]
  },
  {
   "cell_type": "code",
   "execution_count": null,
   "metadata": {},
   "outputs": [],
   "source": [
    "with open(\"./extra/test.txt\", \"r\") as fid:\n",
    "    print(\"context active: file open? {}\".format(not(fid.closed)))\n",
    "print(\"context inactive: file open? {}\".format(not(fid.closed)))"
   ]
  },
  {
   "cell_type": "markdown",
   "metadata": {},
   "source": [
    "#### reading from and writing to a file"
   ]
  },
  {
   "cell_type": "code",
   "execution_count": null,
   "metadata": {},
   "outputs": [],
   "source": [
    "text = ''\n",
    "with open(\"./extra/test.txt\", \"r\") as fid:\n",
    "    for line in fid:\n",
    "        text += line # if we would print line by line, extra linebreaks would be inserted by print(), concatenate\n",
    "\n",
    "# first 250 characters of the text\n",
    "print([text[:250]]) # linebreaks are represented by \\n and are automatically formatted by print()\n",
    "\n",
    "print('\\n', '-' * 25, ' full text starts here ', '-' * 25, '\\n')\n",
    "\n",
    "# full text\n",
    "print(text)"
   ]
  },
  {
   "cell_type": "code",
   "execution_count": null,
   "metadata": {},
   "outputs": [],
   "source": [
    "text = 'March 20, 2018 is the 250th birthday of Jean-Baptiste Joseph Fourier\\nHappy birthday Count Fourier!'\n",
    "with open(\"./extra/myFile.txt\", \"w+\") as fid: # writes by concatenating to the end of the file\n",
    "    fid.writelines(text)\n",
    "    \n",
    "text = ''\n",
    "with open(\"./extra/myFile.txt\", \"r\") as fid:\n",
    "    for line in fid:\n",
    "        text += line\n",
    "print(text)"
   ]
  },
  {
   "cell_type": "markdown",
   "metadata": {},
   "source": [
    "### 4.1.2 Python scripts\n",
    "\n",
    "* save all your statements in a `.py`, e.g., `test.py`\n",
    "\n",
    "* a collection of variables, functions, statements, &#8230;\n",
    "\n",
    "* execute statements from command line / import functionalities\n",
    "\n",
    "```bash\n",
    "$ python test.py\n",
    "```\n",
    "\n",
    "_HINT:_ a .py file can be executed when called from the command line. To do so consistently on all systems (Windows, Mac OS, Linux) one must put the following condition\n",
    "\n",
    "```python\n",
    "if __name__ == \"__main__\":\n",
    "    <content>\n",
    "```\n",
    "\n",
    "We will see later what the part outside this conditional becomes.\n",
    "\n",
    "_HINT:_ For automatic execution by the correct python interpreter on unix/linux platforms add the shebang! on the first line\n",
    "\n",
    "```bash\n",
    "#!/usr/bin/env python3\n",
    "```"
   ]
  },
  {
   "cell_type": "markdown",
   "metadata": {
    "collapsed": true
   },
   "source": [
    "### 4.1.3 dynamically writing a Python script\n",
    "\n",
    "One can dynamically create a Python script by writing into a .py file using formatters!"
   ]
  },
  {
   "cell_type": "code",
   "execution_count": null,
   "metadata": {},
   "outputs": [],
   "source": [
    "a = 42 # change this value to any python structure, as you wish\n",
    "with open(\"myfirstscript.py\", \"w\") as fid:\n",
    "    fid.writelines(\"#!/usr/bin/env python3\\n\") # the Python 3 shebang!\n",
    "    fid.writelines( # new lines should use the correct indentation needed in the file (otherwise use \\n\\t escapes)\n",
    "        \"\"\"\n",
    "if __name__ == '__main__':\n",
    "    a = {}\n",
    "    print('a is {{}}'.format({}))\n",
    "    \"\"\".format(a, a)) # double braces {{ }} are needed to escape the first level"
   ]
  },
  {
   "cell_type": "code",
   "execution_count": null,
   "metadata": {},
   "outputs": [],
   "source": [
    "!python myfirstscript.py # bash interpreter"
   ]
  },
  {
   "cell_type": "markdown",
   "metadata": {},
   "source": [
    "### Exercise: Making a word histogram\n",
    "_HINT:_ Search for \"Aligning the text and specifying a width\" on [formatting strings](https://docs.python.org/3/library/string.html#format-string-syntax)"
   ]
  },
  {
   "cell_type": "code",
   "execution_count": null,
   "metadata": {},
   "outputs": [],
   "source": [
    "from string import ascii_letters\n",
    "from urllib.request import urlopen\n",
    "from collections import OrderedDict\n",
    "\n",
    "d = dict() # initialise an empty dictionary\n",
    "\n",
    "with urlopen(\"http://www.textfiles.com/science/kennedy.txt\") as f: # acts just as open(filename, \"r\")\n",
    "    for line in f:\n",
    "        for word in line.split():\n",
    "            word = word.decode(\"ascii\") # binary strings --> ascii strings\n",
    "            word = \"\".join([c for c in word.lower() if c in ascii_letters]) # make lower case, purge punctuation\n",
    "            # *** to complete *** : use the dictionary d to store word frequencies\n",
    "\n",
    "\n",
    "# sorting the dictionary such that words with highest frequency appear first\n",
    "d_ordered = OrderedDict(sorted(d.items(), key=lambda x: x[1])[::-1] ) \n",
    "\n",
    "L = max([len(k) for k in d_ordered.keys()])\n",
    "print(L)\n",
    "\n",
    "# printing\n",
    "for k in d_ordered:\n",
    "    \"\"\"\n",
    "    *** to complete *** with print statement such as to print lines with words and their frequency\n",
    "    word1      : +++++++\n",
    "    long_word2 : +++\n",
    "    \"\"\""
   ]
  },
  {
   "cell_type": "markdown",
   "metadata": {},
   "source": [
    "## 4.2 Packages and modules <a name=\"modules\" />\n",
    "\n",
    "Packages extend the functionality of the basic Python functionality through multiple modules. When downloading Python, all of the modules of the [standard library](https://docs.python.org/3/library/index.html) are automatically available.\n",
    "\n",
    "* packages are to Python what libraries are to C\n",
    "* __modules__ &in; __packages__\n",
    "* a collection of modules available in the standard library of a Python distribution\n",
    "\n",
    "    * `math`, `sys`, `random`, `datetime`, `email`, &#8230;\n",
    "\n",
    "One of the most used stacks is the scientific python stack &rightarrow; [scipy ecosystem](https://scipy.org/about.html)\n",
    "* [scipy](http://scipy.org/): special functions, ODE solvers, &hellip;\n",
    "* [numpy](http://www.numpy.org/): numerical computation\n",
    "* [matplotlib](http://matplotlib.org/): plotting\n",
    "* [IPython](http://ipython.org/) (+[Jupyter](http://jupyter.org/)): interactive console\n",
    "* [sympy](http://www.sympy.org/): symbolic computing\n",
    "* [pandas](http://pandas.pydata.org/): data structures and computation\n",
    "* [nose](http://nose.readthedocs.io/en/latest/): continuous integration\n",
    "\n",
    "Frequently augmented with the [scikits](https://www.scipy.org/scikits.html) packages ([list](http://scikits.appspot.com/scikits))\n",
    "\n",
    "Machine learning:\n",
    "* [scikit-learn](http://scikit-learn.org/stable/index.html)\n",
    "\n",
    "Image processing:\n",
    "* [scikit-image](http://scikit-image.org/)\n",
    "* [openCV](https://docs.opencv.org/3.0-beta/doc/py_tutorials/py_tutorials.html)\n",
    "* python imaging library [PIL](http://pythonware.com/products/pil/)\n",
    "\n",
    "and many, many more &hellip;\n",
    "\n",
    "### 4.2.1 simple import\n",
    "\n",
    "* `import module`\n",
    "\n",
    "    * functions must be called as `module.function` &rightarrow; namespaces\n",
    "\n",
    "\n",
    "* `from module import function1, function2`\n",
    "\n",
    "    * only specific functions are imported\n",
    "\n",
    "    * functions can be called as `function1`\n",
    "\n",
    "\n",
    "* `from module import *`\n",
    "\n",
    "    * __avoid__ whenever possible!\n",
    "    \n",
    "### 4.2.2 more advanced import\n",
    "\n",
    "* `import modules as modulename`\n",
    "\n",
    "  * choose your own namespace for the module\n",
    "  \n",
    "  * frequently used `numpy as np` `matplotlib.pyplot as plt`\n",
    "  \n",
    "\n",
    "* `from module import function as fn`\n",
    "\n",
    "  * choose your name for a specific function\n",
    "  \n",
    "  * function can be called as `fn`"
   ]
  },
  {
   "cell_type": "markdown",
   "metadata": {},
   "source": [
    "#### `log` is a function in the `math` module\n",
    "after executing the next cell, try executing the previous cell again!"
   ]
  },
  {
   "cell_type": "code",
   "execution_count": null,
   "metadata": {},
   "outputs": [],
   "source": [
    "import math\n",
    "math.log(100)/math.log(10)"
   ]
  },
  {
   "cell_type": "code",
   "execution_count": null,
   "metadata": {},
   "outputs": [],
   "source": [
    "log(100)/log(10) # log is only known in the namespace 'math'"
   ]
  },
  {
   "cell_type": "code",
   "execution_count": null,
   "metadata": {},
   "outputs": [],
   "source": [
    "from math import log\n",
    "log(100)/log(10)"
   ]
  },
  {
   "cell_type": "code",
   "execution_count": null,
   "metadata": {},
   "outputs": [],
   "source": [
    "from math import log as ln\n",
    "ln(100)"
   ]
  },
  {
   "cell_type": "markdown",
   "metadata": {},
   "source": [
    "### 4.2.3 creating your own module (easy starter's guide)\n",
    "For more information see the [modules tutorial](https://docs.python.org/3/tutorial/modules.html)"
   ]
  },
  {
   "cell_type": "code",
   "execution_count": null,
   "metadata": {},
   "outputs": [],
   "source": [
    "print(abc) # variable not defined"
   ]
  },
  {
   "cell_type": "code",
   "execution_count": null,
   "metadata": {},
   "outputs": [],
   "source": [
    "z = 'abc' # change this value to any python structure, as you wish\n",
    "with open(\"mymodule.py\", \"w\") as fid:\n",
    "    fid.writelines(\"#!/usr/bin/env python3\\n\\n\") # the Python 3 shebang!\n",
    "    fid.writelines(\"abc = '{}'\".format(z))\n",
    "print(abc) # abc is still unknown, but the lines before have been executed"
   ]
  },
  {
   "cell_type": "code",
   "execution_count": null,
   "metadata": {},
   "outputs": [],
   "source": [
    "with open(\"mymodule.py\", \"r\") as fid:\n",
    "    for line in fid:\n",
    "        print(line)"
   ]
  },
  {
   "cell_type": "code",
   "execution_count": null,
   "metadata": {},
   "outputs": [],
   "source": [
    "import mymodule\n",
    "\n",
    "print(mymodule.abc) # but it is in this module\n",
    "\n",
    "from mymodule import abc as q\n",
    "\n",
    "print(q)"
   ]
  },
  {
   "cell_type": "code",
   "execution_count": null,
   "metadata": {},
   "outputs": [],
   "source": [
    "import importlib # Python remembers which modules have already been imported, no new import takes place\n",
    "importlib.reload(mymodule) # force reload of the module"
   ]
  },
  {
   "cell_type": "markdown",
   "metadata": {},
   "source": [
    "#### Exercise: create a module\n",
    "\n",
    "* use an external editor (you can use new &rightarrow; textfile from the notebook tree)\n",
    "* name your module first_name.py\n",
    "* the module should contain the variables that can be imported\n",
    "  * age = your_Python_age (int, number of years of experience)\n",
    "  * firstName = 'your_first_name' (string)\n",
    "  * lastName = 'your_last_name' (string)\n",
    "* when called from the command line, a string should be returned:\n",
    "  * 'Hi, I'm /firstName/ /lastName/ , and I am /age/ Python years old'\n",
    "  \n",
    "Use `import <module>` and display the variables with calls to `print`, then run `!python <module>`"
   ]
  }
 ],
 "metadata": {
  "anaconda-cloud": {},
  "kernelspec": {
   "display_name": "Python [conda env:inp]",
   "language": "python",
   "name": "conda-env-inp-py"
  },
  "language_info": {
   "codemirror_mode": {
    "name": "ipython",
    "version": 3
   },
   "file_extension": ".py",
   "mimetype": "text/x-python",
   "name": "python",
   "nbconvert_exporter": "python",
   "pygments_lexer": "ipython3",
   "version": "3.6.5"
  },
  "latex_envs": {
   "LaTeX_envs_menu_present": true,
   "autocomplete": true,
   "bibliofile": "biblio.bib",
   "cite_by": "apalike",
   "current_citInitial": 1,
   "eqLabelWithNumbers": true,
   "eqNumInitial": 1,
   "hotkeys": {
    "equation": "Ctrl-E",
    "itemize": "Ctrl-I"
   },
   "labels_anchors": false,
   "latex_user_defs": false,
   "report_style_numbering": false,
   "user_envs_cfg": false
  },
  "varInspector": {
   "cols": {
    "lenName": 16,
    "lenType": 16,
    "lenVar": 40
   },
   "kernels_config": {
    "python": {
     "delete_cmd_postfix": "",
     "delete_cmd_prefix": "del ",
     "library": "var_list.py",
     "varRefreshCmd": "print(var_dic_list())"
    },
    "r": {
     "delete_cmd_postfix": ") ",
     "delete_cmd_prefix": "rm(",
     "library": "var_list.r",
     "varRefreshCmd": "cat(var_dic_list()) "
    }
   },
   "types_to_exclude": [
    "module",
    "function",
    "builtin_function_or_method",
    "instance",
    "_Feature"
   ],
   "window_display": false
  }
 },
 "nbformat": 4,
 "nbformat_minor": 2
}
