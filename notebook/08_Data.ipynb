{
 "cells": [
  {
   "cell_type": "markdown",
   "metadata": {
    "collapsed": true
   },
   "source": [
    "# 8. Data processing <a name=\"index\" />\n",
    "\n",
    "1. [example intro](#example intro)\n",
    "1. [numpy package](#numpy package)\n",
    "1. [ndarray operations](#operations)\n",
    "1. [indexing](#indexing)\n",
    "1. [ndarray iteration](#iterate)\n",
    "1. [copies and views](#view)\n",
    "1. [advanced indexing and broadcasting](#broadcasting)\n",
    "1. [Exercise](#exo)\n",
    "\n",
    "## 8.1 Example intro <a name=\"example intro\" />"
   ]
  },
  {
   "cell_type": "code",
   "execution_count": null,
   "metadata": {},
   "outputs": [],
   "source": [
    "import numpy as np\n",
    "from scipy.stats import gaussian_kde\n",
    "from bokeh.io import output_notebook, push_notebook, show\n",
    "from bokeh.plotting import figure\n",
    "from ipywidgets import interact\n",
    "\n",
    "output_notebook()"
   ]
  },
  {
   "cell_type": "code",
   "execution_count": null,
   "metadata": {
    "collapsed": true
   },
   "outputs": [],
   "source": [
    "np.fromfile?"
   ]
  },
  {
   "cell_type": "code",
   "execution_count": null,
   "metadata": {},
   "outputs": [],
   "source": [
    "n_samples, n_vars = 10, 1000\n",
    "X = np.random.uniform(size=(n_samples, n_vars), low=-1, high=1)\n",
    "s = X.sum(axis=0)\n",
    "g = gaussian_kde(s, 1)\n",
    "x = np.linspace(-n_samples, n_samples, 200 * n_samples + 1)\n",
    "\n",
    "# set up figure\n",
    "p = figure(title=\"kde of sum of {} uniform variables on [-1, 1]\".format(n_samples), plot_height=400, plot_width=600)\n",
    "r = p.line(x, g(x))\n",
    "h = show(p, notebook_handle=True)\n",
    "\n",
    "@interact(kde_width=(.01, 1, .01))\n",
    "def update(kde_width):\n",
    "    g = gaussian_kde(s, kde_width)\n",
    "    r.data_source.data['y'] = g(x)\n",
    "    push_notebook(handle=h)"
   ]
  },
  {
   "cell_type": "markdown",
   "metadata": {},
   "source": [
    "## 8.2 `numpy` package <a name=\"numpy package\" />\n",
    "[back to index](#index)\n",
    "\n",
    "* part of the Python scientific stack\n",
    "\n",
    "* purpose: numerical computing\n",
    "\n",
    "* central object: `ndarray`\n",
    "\n",
    "A good starting point: [numpy quickstart](https://docs.scipy.org/doc/numpy-dev/user/quickstart.html)\n",
    "\n",
    "### 8.2.1 `ndarray` or `matrix` class ?\n",
    "\n",
    "* `matrix` is Matlab&reg;&ndash;like\n",
    "  * incoherence: `/` is element-wise, `*` is matrix product\n",
    "  * **only** 2-dim arrays &Rightarrow; vector shape `(n, 1)`\n",
    "\n",
    "\n",
    "* `ndarray`\n",
    "  * all operators act element-wise, matrix product = `numpy.dot`\n",
    "  * unified interface for n-dim arrays &Rightarrow; vector shape `(n, )`\n",
    "\n",
    "\n",
    "* `numpy` functions : type preservation\n",
    "  * `matrix` &mapsto; `matrix`\n",
    "  * `ndarray` &mapsto; `ndarray`\n",
    "\n",
    "\n",
    "### 8.2.2 `ndarray` initialisation and elementary operators\n",
    "\n",
    "* `ndarray` is probably the most important class of `numpy`\n",
    "\n",
    "\n",
    "* `ndarray` main attributes\n",
    "\n",
    "| attribute | description |\n",
    "|:---:|:---|\n",
    "| `ndim`  | matrix &mapsto; 2, vector &mapsto; 1 |\n",
    "| `shape` | number of elements in each of the dimensions, as a tuple |\n",
    "| `size` | total number of elements = `np.prod(ndarray.shape)` |\n",
    "| `dtype` | data type of the elements |\n",
    "| `itemsize` | size in bytes of each element (related to `dtype`) |\n",
    "| `data` | buffer containing the elements, __do not use directly__ |\n",
    "\n",
    "* [numpy data types](https://docs.scipy.org/doc/numpy/user/basics.types.html)"
   ]
  },
  {
   "cell_type": "code",
   "execution_count": null,
   "metadata": {
    "collapsed": true
   },
   "outputs": [],
   "source": [
    "import numpy as np\n",
    "x = np.identity(10)              # The identity matrix in IF^{10x10} (IF = IR ou IC)\n",
    "y = np.ones(shape=(10, 10)) * .1 # a matrix of ones of shape 10x10, all elements multiplied by 0.1\n",
    "z = y - x                        # difference of two matrices (must be of \"compatible\" size)\n",
    "z = np.diag(z.sum(axis=1)) - z   # Laplacian of the fully connected (weighted) symmetric graph\n",
    "print(type(z))\n",
    "print(z.dtype)                   # what is the type() of the entries\n",
    "print(z)"
   ]
  },
  {
   "cell_type": "markdown",
   "metadata": {},
   "source": [
    "### 8.2.3 convert `list` to `ndarray` ... and an introduction to views\n",
    "\n",
    "This is also a good opportunity to check attributes like `ndim`, `shape`, `size`, `dtype`, and `itemsize`"
   ]
  },
  {
   "cell_type": "code",
   "execution_count": null,
   "metadata": {},
   "outputs": [],
   "source": [
    "x = list(range(20))\n",
    "print(\"x is of type {}\".format(type(x)))\n",
    "print(\"\\nx = {}\".format(x))\n",
    "X = np.asarray(x)      # casting the list to a numpy.ndarray: np.asarray is more efficient than np.array constructor\n",
    "print(\"\\nX is of type {}\".format(type(X)))\n",
    "print(\"\\nX =\\n{}\".format(X))\n",
    "X.reshape(4, 5)      # reshape does not act on the array, but returns a \"view\"\n",
    "print(\"\\nX = \\n{}\".format(X))\n",
    "Y = X.reshape(4, 5)  # attribution of a view to a variable stores that view\n",
    "print(\"\\nY =\\n{}\".format(Y))\n",
    "X[3] = 100           # but BE CAREFUL: Y is a reference to a view of X!\n",
    "print(\"\\nChanged X[3] to {}\".format(X[3]))\n",
    "print(\"\\nY =\\n{}\".format(Y))"
   ]
  },
  {
   "cell_type": "markdown",
   "metadata": {},
   "source": [
    "#### can you see what has changed between the version above and below?"
   ]
  },
  {
   "cell_type": "code",
   "execution_count": null,
   "metadata": {},
   "outputs": [],
   "source": [
    "x = list(range(20))\n",
    "print(\"x is of type {}\".format(type(x)))\n",
    "print(\"\\nx = {}\".format(x))\n",
    "X = np.asarray(x)                 # casting the list to a numpy.ndarray\n",
    "print(\"\\nX is of type {}\".format(type(X)))\n",
    "print(\"\\nX =\\n{}\".format(X))\n",
    "X.reshape(4, 5)                 # reshape does not act on the array, but returns a \"view\"\n",
    "print(\"\\nX = \\n{}\".format(X))\n",
    "Y = X.reshape(4, 5, order='F')  # attribution of a view to a variable stores that view\n",
    "print(\"\\nY =\\n{}\".format(Y))\n",
    "X[3] = 100                      # but BE CAREFUL: Y is a reference to a view of X!\n",
    "print(\"\\nChanged X[3] to {}\".format(X[3]))\n",
    "print(\"\\nY =\\n{}\".format(Y))"
   ]
  },
  {
   "cell_type": "markdown",
   "metadata": {},
   "source": [
    "### 8.2.4 array creation is dynamic \n",
    "\n",
    "data types are derived from data or can be enforced"
   ]
  },
  {
   "cell_type": "code",
   "execution_count": null,
   "metadata": {},
   "outputs": [],
   "source": [
    "z = list()\n",
    "z.append(np.asarray([1, 2, 3]))\n",
    "z.append(np.asarray([1, 2, 3], dtype=float)) # enforce casting to float\n",
    "z.append(np.asarray([1., 2, 3]))\n",
    "z.append(np.asarray([1 + 1j, 2, 3]))\n",
    "z.append(np.asarray([\"a\", \"b\", \"c\"]))\n",
    "\n",
    "for k, z_ in enumerate(z):\n",
    "    print(\"type of elements in z[{ix}] is {x.dtype}\".format(ix=k, x=z_))"
   ]
  },
  {
   "cell_type": "markdown",
   "metadata": {},
   "source": [
    "### 8.2.5 Create a `ndarray` from a function"
   ]
  },
  {
   "cell_type": "code",
   "execution_count": null,
   "metadata": {},
   "outputs": [],
   "source": [
    "def f(i, j):\n",
    "    return np.abs(i - j)\n",
    "\n",
    "print(np.fromfunction(f, (5, 5), dtype=int))"
   ]
  },
  {
   "cell_type": "markdown",
   "metadata": {},
   "source": [
    "#### Exercise\n",
    "Create a matrix that is $n$ by $n$ in size whose entries are\n",
    "$$\n",
    "\\exp\\left(-\\frac{\\left|x[i] - x[j]\\right|^2}{2}\\right)\n",
    "$$\n",
    "for a vector $x$ of shape $(n,)$.\n",
    "\n",
    "_Hint_: look for `partial` in the package [functools](https://docs.python.org/3/library/functools.html)"
   ]
  },
  {
   "cell_type": "code",
   "execution_count": null,
   "metadata": {},
   "outputs": [],
   "source": [
    "from functools import partial\n",
    "import numpy as np\n",
    "import matplotlib.pyplot as plt\n",
    "import seaborn as sns\n",
    "sns.set()\n",
    "%matplotlib notebook\n",
    "\n",
    "n = 50\n",
    "\n",
    "x = np.sort(np.random.normal(size=(n,)))\n",
    "\n",
    "# Create the function f that depends on both indices and the data x\n",
    "# then create g as a partial evaluation of f where the data has been fixed to x\n",
    "\n",
    "# complete here\n",
    "\n",
    "mat = np.fromfunction(g, (n, n), dtype=int)\n",
    "\n",
    "fig = plt.figure(figsize=(8, 6))\n",
    "ax = fig.add_subplot(111)\n",
    "mats = ax.matshow(mat)\n",
    "plt.colorbar(mats)"
   ]
  },
  {
   "cell_type": "markdown",
   "metadata": {},
   "source": [
    "## 8.3 operations on `ndarray`s <a name=\"operations\" />\n",
    "\n",
    "see [numpy routines](https://docs.scipy.org/doc/numpy-dev/reference/routines.html#routines)\n",
    "\n",
    "* `ufunc` (universal functions)\n",
    "  * element-wise\n",
    "\n",
    "\n",
    "* unary functions (mostly `ndarray` methods)\n",
    "  * `ndarray`-wise\n",
    "  * __axis__ keyword &rightarrow; specific dimension\n",
    "\n",
    "\n",
    "* binary functions (`ndarray` methods and functions)\n",
    "  * interaction between `ndarray`s\n",
    "  \n",
    "\n",
    "* non-exhaustive list !\n",
    "\n",
    "| ufunc | unary | binary |\n",
    "|:---:|:---:|:---:|\n",
    "| +&nbsp; *&nbsp; /&nbsp; ** | sum, prod, cumsum | dot, inner, outer |\n",
    "| >&nbsp; <&nbsp; >=&nbsp; <= | min, max | minimum, maximum |\n",
    "| sin, cos, exp | ||\n",
    "|| ravel, flatten |  |\n",
    "\n",
    "\n",
    "**Automatic upcasting**: result gets type of most precise (most general) numeric class"
   ]
  },
  {
   "cell_type": "code",
   "execution_count": null,
   "metadata": {},
   "outputs": [],
   "source": [
    "def sep(k=5):\n",
    "    print('\\n' + '-'*k + '\\n')\n",
    "\n",
    "x = np.random.randint(201, size=(4, 5))\n",
    "print(x)\n",
    "sep()\n",
    "\n",
    "# universal functions\n",
    "x -= 100  # inline operator subtracts 100 of each element\n",
    "print(x)\n",
    "sep()\n",
    "\n",
    "# unary functions\n",
    "print(np.max(x))\n",
    "print(np.sum(x))\n",
    "print(x.sum(axis=0))\n",
    "print(x.sum(axis=0).shape) # /!\\ returns a vector, which is always a \"column\" vector\n",
    "print(x.sum(axis=1))\n",
    "print(x.sum(axis=1).shape) # /!\\ returns a vector, which is always a \"column\" vector\n",
    "sep()\n",
    "\n",
    "# n-ary functions\n",
    "\n",
    "print(np.vstack([x] * 3))\n",
    "sep()\n",
    "print(np.hstack([x] * 3))\n",
    "sep()\n",
    "y = x.T.dot(x)\n",
    "print(y)"
   ]
  },
  {
   "cell_type": "markdown",
   "metadata": {},
   "source": [
    "## 8.4 numpy indexing <a name=\"indexing\" />\n",
    "[back to index](#index)\n",
    "\n",
    "* 1-dim `ndarray`s: much like `list`s<br />\n",
    "  &rightarrow; `start:stop:step`\n",
    "\n",
    "\n",
    "* `ndarray` (dim > 1)<br />\n",
    "  &rightarrow; `:` selects all elements in this dimension<br />\n",
    "  &rightarrow; `...` selects all elements in remaining dimensions\n",
    "  &rightarrow; omitted indices equivalent to `...`"
   ]
  },
  {
   "cell_type": "code",
   "execution_count": null,
   "metadata": {},
   "outputs": [],
   "source": [
    "import numpy as np\n",
    "x = np.arange(24).reshape(2, 3, 4, order='F')\n",
    "print(x)\n",
    "print(x[0, 1, 2])     # single element\n",
    "print(x[:, 1, 2])     # single column of two elements as vector\n",
    "print(x[[1, 0], [0, 2], [1, 1]]) # two elements\n",
    "print(x[0, ...]) # ndarray of size (3, 4)"
   ]
  },
  {
   "cell_type": "markdown",
   "metadata": {},
   "source": [
    "But these are all __views__! "
   ]
  },
  {
   "cell_type": "code",
   "execution_count": null,
   "metadata": {},
   "outputs": [],
   "source": [
    "y = x[..., 2]\n",
    "print(y, '\\n')\n",
    "x[0, 0, 2] = 0\n",
    "print(y)"
   ]
  },
  {
   "cell_type": "markdown",
   "metadata": {},
   "source": [
    "`ndarray`s can be indexed as lists of lists!"
   ]
  },
  {
   "cell_type": "code",
   "execution_count": null,
   "metadata": {},
   "outputs": [],
   "source": [
    "def sep(n=5):\n",
    "    print('\\n' + n * '-' + '\\n')\n",
    "\n",
    "\n",
    "x = np.arange(24).reshape(2, 3, 4, order='F') # --> same as np.array(range(12)).reshape(3, 4)\n",
    "    \n",
    "print(x)\n",
    "sep()\n",
    "print(x[0])\n",
    "sep()\n",
    "print(x[0][1])\n",
    "sep()\n",
    "print(x[0][1][2])\n",
    "sep()\n",
    "print(x[0, 1, 2])"
   ]
  },
  {
   "cell_type": "markdown",
   "metadata": {},
   "source": [
    "#### pythonic diagonal extraction"
   ]
  },
  {
   "cell_type": "code",
   "execution_count": null,
   "metadata": {},
   "outputs": [],
   "source": [
    "n = 4\n",
    "a = np.arange(n ** 2).reshape(n, n)\n",
    "print(a)\n",
    "print('diagonal :', a.flat[::n+1]) # flatten first, then iterate by steps of n+1\n",
    "print(np.diag(a))"
   ]
  },
  {
   "cell_type": "markdown",
   "metadata": {},
   "source": [
    "## 8.5 Iterating over `ndarray`s <a name=\"iterate\"/>\n",
    "[back to index](#index)\n",
    "\n",
    "* since `x[0] = x[0, ...]` we have"
   ]
  },
  {
   "cell_type": "code",
   "execution_count": null,
   "metadata": {},
   "outputs": [],
   "source": [
    "x = np.empty(shape=(3, 4, 5, 6))\n",
    "print(x.shape)\n",
    "for r in x:\n",
    "    print(r.shape)   # shape (4, 5, 6)"
   ]
  },
  {
   "cell_type": "markdown",
   "metadata": {},
   "source": [
    "* iterating is __always__ over 1st non-empty axis\n",
    "\n",
    "* element-wise iteration with `.flat`\n",
    "  * `flat` attribute returns an element-wise __iterator__ for `ndarray`"
   ]
  },
  {
   "cell_type": "code",
   "execution_count": null,
   "metadata": {
    "collapsed": true,
    "scrolled": true
   },
   "outputs": [],
   "source": [
    "for el in x.flat:\n",
    "    print(el)        # single entries"
   ]
  },
  {
   "cell_type": "markdown",
   "metadata": {},
   "source": [
    "## 8.6 Copies and views <a name=\"view\" />\n",
    "[back to index](#index)\n",
    "    \n",
    "*  _copy_ and _view_ ... or _data_ and _reference_\n",
    "    \n",
    "\n",
    "* `ndarray` &equiv; `list` + extra attributes &Rightarrow; mutable\n",
    "\n",
    "\n",
    "* reshape/resize\n",
    "\n",
    "    * `reshape` &rightarrow; __return__ reshaped\n",
    "    * `resize` &rightarrow; __in-place__ reshape\n",
    "\n",
    "\n",
    "* ravel/flatten/flat\n",
    "\n",
    "    * `ravel` &rightarrow; __return__ unfolded\n",
    "    * `flatten` &rightarrow; __in-place__ unfolding\n",
    "    * `flat` &rightarrow; __return__ iterator\n",
    "\n",
    "\n",
    "* transpose\n",
    "\n",
    "    * `T` &rightarrow; __return__ transposed\n",
    "\n",
    "\n",
    "* memory organisation &equiv; list + __view__ &rightarrow; shape\n",
    "\n",
    "    * _Example_: list [0, 1, 2, 3, 4, 5] with shape (2, 3)\n",
    "        * C-order _row first_ &mapsto; [[0, 1, 2], [3, 4, 5]]\n",
    "        * Fortran-order _column first_ &mapsto; [[0, 2, 4], [1, 3, 5]]\n",
    "\n",
    "\n",
    "| method | description |\n",
    "|:---|:---|\n",
    "| `view()` | look at data &equiv; referencing |\n",
    "| `copy()` | copy data, new instance |"
   ]
  },
  {
   "cell_type": "code",
   "execution_count": null,
   "metadata": {},
   "outputs": [],
   "source": [
    "x = np.empty(shape=(2, 3))\n",
    "print(id(x))\n",
    "x += 1        # in-place operator --> leaves reference as is\n",
    "print(id(x))\n",
    "x = x + 1     # not an in-place operator --> creates a copy\n",
    "print(id(x))\n",
    "print(x.base)"
   ]
  },
  {
   "cell_type": "code",
   "execution_count": null,
   "metadata": {},
   "outputs": [],
   "source": [
    "def func(x):\n",
    "    print(\"id(x) = {}\".format(id(x)))\n",
    "    print(x.flags.owndata)\n",
    "    \n",
    "y = np.empty(shape=(2, 2))\n",
    "print(\"id(y) = {}\".format(id(y)))\n",
    "func(y)    # arguments are always passed by reference, no copy is made!!"
   ]
  },
  {
   "cell_type": "code",
   "execution_count": null,
   "metadata": {},
   "outputs": [],
   "source": [
    "def sep(n=5):\n",
    "    print('\\n' + n * '-' + '\\n')\n",
    "    \n",
    "y = np.random.randint(11, size=(2, 3)) - 5\n",
    "\n",
    "w = y\n",
    "print(w is y)           # True\n",
    "print(w.base is y)      # False, w is y\n",
    "print(w.base is y.base) # True, w is y\n",
    "print(w.flags.owndata)  # True, since y owns data and w is y\n",
    "sep()\n",
    "\n",
    "x = y.view()            # create a view only, no ownership\n",
    "print(x is y)           # False, it is a reference to y\n",
    "print(x.base is y)      # True, the base reference of x is y\n",
    "print(x.flags.owndata)  # False, x is not the owner\n",
    "\n",
    "sep()\n",
    "z = y.copy()            # create a copy, ownership\n",
    "print(z is y)           # False\n",
    "print(z.base is y)      # False, z independent of y\n",
    "print(z.flags.owndata)  # True, z is the owner"
   ]
  },
  {
   "cell_type": "markdown",
   "metadata": {},
   "source": [
    "* assignment &mapsto; view"
   ]
  },
  {
   "cell_type": "code",
   "execution_count": null,
   "metadata": {},
   "outputs": [],
   "source": [
    "x = np.arange(12).reshape(3, 4, order='C')  # default 'C'\n",
    "y = x\n",
    "print(y)\n",
    "print(y is x)  # prints True!\n",
    "\n",
    "y.resize(2, 3, 2) # change view on y\n",
    "print(y) \n",
    "\n",
    "print(x) # x has also been changed view!"
   ]
  },
  {
   "cell_type": "markdown",
   "metadata": {},
   "source": [
    "* indexing &mapsto; (partial) view"
   ]
  },
  {
   "cell_type": "code",
   "execution_count": null,
   "metadata": {},
   "outputs": [],
   "source": [
    "x = np.arange(12).reshape(3, 4, order='F')\n",
    "print(x[1, 2])     # single element\n",
    "print(x[1][2])     # same element\n",
    "print(x[:, 2])     # single column\n",
    "print(x[[1, 2], [0, 3]]) # two elements\n",
    "print(x[1, 0], x[2, 3])  # same two elements, explicitely extracted\n",
    "\n",
    "print(x[list(zip(*[(1, 0), (2, 3)]))]) # again the same two elements"
   ]
  },
  {
   "cell_type": "code",
   "execution_count": null,
   "metadata": {},
   "outputs": [],
   "source": [
    "def sep(n=5):\n",
    "    print('\\n' + n * '-' + '\\n')\n",
    "    \n",
    "x = np.random.randint(10, size=(2, 3, 4)) # how confusing to use size here instead of shape! cf. sample size\n",
    "print(x.size)   # 24 elements\n",
    "print(x.shape)  # shape (2, 3, 4)\n",
    "print(x)\n",
    "sep()\n",
    "\n",
    "y = x[:, 1, :]  # shape (2, 4), second slice\n",
    "print(y.shape)\n",
    "y[0, 0] = -y[0, 0]\n",
    "\n",
    "print(x)        # y is a reference to a part of x! it's a \"view\", not a \"copy\"!"
   ]
  },
  {
   "cell_type": "code",
   "execution_count": null,
   "metadata": {
    "collapsed": true
   },
   "outputs": [],
   "source": [
    "def sep(n=5):\n",
    "    print('\\n' + n * '-' + '\\n')\n",
    "\n",
    "x = np.arange(12) * 2\n",
    "print(x[np.array([1, 1, 3])])                   # [2, 2, 6] twice the same index\n",
    "sep()\n",
    "print(x[np.array([[1, 1], [1, 0]])])            # [[2, 2], [2, 0]]\n",
    "sep()\n",
    "print(x.resize(3, 4))                           # resize x to [[0, 2, 4, 6], ...] in-place, returns None!\n",
    "sep()\n",
    "print(x)\n",
    "sep()\n",
    "print(x[np.array([1, 1]), np.array([0, 3])])    # returns [8, 14]"
   ]
  },
  {
   "cell_type": "markdown",
   "metadata": {},
   "source": [
    "## 8.7 advanced indexing and broadcasting <a name=\"broadcasting\" />\n",
    "\n",
    "* repeated indices &rightarrow; using `ndarray`s as indices\n",
    "\n",
    "\n",
    "* boolean indices &rightarrow; allow filtering\n",
    "  &rightarrow; useful in re-assignment\n",
    "\n",
    "\n",
    "* `np.ix_` to get minors\n",
    "\n",
    "\n",
    "* __broadcasting__\n",
    "  * autocomplete arrays for dimension compatibility\n",
    "  * operations without needless copying\n",
    "  \n",
    "  \n",
    "More on [broadcasting](https://docs.scipy.org/doc/numpy-dev/user/basics.broadcasting.html)"
   ]
  },
  {
   "cell_type": "code",
   "execution_count": null,
   "metadata": {},
   "outputs": [],
   "source": [
    "x = np.random.normal(size=(1000, 4), loc=10, scale=4)\n",
    "m = x.mean(axis=0)\n",
    "s = x.std(axis=0)\n",
    "print(\"variables have\\n\\tmean {loc}\\n\\t std {scale}\".format(loc=m, scale=s))\n",
    "print(m.shape)\n",
    "print(s.shape)\n",
    "print(\"standardising the variables ...\")\n",
    "x = (x - m) / s            # magic called broadcasting\n",
    "print(\"variables have\\n\\tmean {loc} \\n\\t std {scale}\".format(loc=x.mean(axis=0), scale=x.std(axis=0)))"
   ]
  },
  {
   "cell_type": "markdown",
   "metadata": {},
   "source": [
    "## 8.8 Exercise: closest point <a name=\"exo\"/>\n",
    "\n",
    "1. generate a set of random points in the unit square: list of tuples\n",
    "1. search for the point closest to a given coordinate P(x, y)\n",
    "\n",
    "use `%time` and `%timeit` to get the time of execution"
   ]
  }
 ],
 "metadata": {
  "anaconda-cloud": {},
  "kernelspec": {
   "display_name": "Python [conda env:inp]",
   "language": "python",
   "name": "conda-env-inp-py"
  },
  "language_info": {
   "codemirror_mode": {
    "name": "ipython",
    "version": 3
   },
   "file_extension": ".py",
   "mimetype": "text/x-python",
   "name": "python",
   "nbconvert_exporter": "python",
   "pygments_lexer": "ipython3",
   "version": "3.6.3"
  },
  "latex_envs": {
   "LaTeX_envs_menu_present": true,
   "autocomplete": true,
   "bibliofile": "biblio.bib",
   "cite_by": "apalike",
   "current_citInitial": 1,
   "eqLabelWithNumbers": true,
   "eqNumInitial": 1,
   "hotkeys": {
    "equation": "Ctrl-E",
    "itemize": "Ctrl-I"
   },
   "labels_anchors": false,
   "latex_user_defs": false,
   "report_style_numbering": false,
   "user_envs_cfg": false
  },
  "varInspector": {
   "cols": {
    "lenName": 16,
    "lenType": 16,
    "lenVar": 40
   },
   "kernels_config": {
    "python": {
     "delete_cmd_postfix": "",
     "delete_cmd_prefix": "del ",
     "library": "var_list.py",
     "varRefreshCmd": "print(var_dic_list())"
    },
    "r": {
     "delete_cmd_postfix": ") ",
     "delete_cmd_prefix": "rm(",
     "library": "var_list.r",
     "varRefreshCmd": "cat(var_dic_list()) "
    }
   },
   "types_to_exclude": [
    "module",
    "function",
    "builtin_function_or_method",
    "instance",
    "_Feature"
   ],
   "window_display": false
  }
 },
 "nbformat": 4,
 "nbformat_minor": 2
}
