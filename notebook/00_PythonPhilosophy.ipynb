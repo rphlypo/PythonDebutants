{
 "cells": [
  {
   "cell_type": "markdown",
   "metadata": {
    "slideshow": {
     "slide_type": "slide"
    }
   },
   "source": [
    "# 0. Introduction to Python\n",
    "## Python as a philosophy"
   ]
  },
  {
   "cell_type": "code",
   "execution_count": null,
   "metadata": {
    "collapsed": true,
    "slideshow": {
     "slide_type": "fragment"
    }
   },
   "outputs": [],
   "source": [
    "print(\"Hello world\")"
   ]
  },
  {
   "cell_type": "markdown",
   "metadata": {
    "slideshow": {
     "slide_type": "slide"
    }
   },
   "source": [
    "## 0.1 The origins of Python\n",
    "\n",
    "* **what?** _ABC_ a general purpose programming language and environment\n",
    "\n",
    "* **where?** CWI (centrum voor wiskunde en informatika), Amsterdam, NL\n",
    "\n",
    "* **who?** Guido Van Rossum\n",
    "\n",
    "* **why?** inspired by _Monthy Python's flying circus_\n",
    "\n",
    "### Evolution\n",
    "\n",
    "* Feb'91: \n",
    "  * version 0.9 of source code published on _alt.sources_\n",
    "  * _Exception handling, objects, functions, modules, &#8230;_\n",
    "\n",
    "\n",
    "* Jan'94:\n",
    "  * Python 1.0\n",
    "  * _functional programming : lambda, filter, map, reduce_\n",
    "\n",
    "\n",
    "* Oct'00:\n",
    "  * Python 2.0\n",
    "  * _list comprehension, garbage collector, unicode support_\n",
    "\n",
    "\n",
    "* Dec'08:\n",
    "  * Python 3.0\n",
    "  * _print() ~~print~~, integer division &mapsto; float, &#8230;_\n",
    "\n",
    "\n",
    "* today:\n",
    "  * python 3.7\n",
    "  * _data classes, nanosecond resolution in time, context variables, [French documentation](https://docs.python.org/fr/)_"
   ]
  },
  {
   "cell_type": "code",
   "execution_count": null,
   "metadata": {},
   "outputs": [],
   "source": [
    "%%HTML\n",
    "<iframe width=\"560\" height=\"315\" src=\"https://www.youtube.com/embed/Q1sXeUHBHgk\" \\\n",
    "frameborder=\"0\" allow=\"autoplay; encrypted-media\" allowfullscreen></iframe>"
   ]
  },
  {
   "cell_type": "markdown",
   "metadata": {},
   "source": [
    "### [PEP 20](https://www.python.org/dev/peps/pep-0020/) : The zen of Python\n",
    "\n",
    "* Beautiful is better than ugly.\n",
    "\n",
    "\n",
    "* Explicit is better than implicit.\n",
    "\n",
    "\n",
    "* Simple is better than complex.\n",
    "\n",
    "\n",
    "* Complex is better than complicated.\n",
    "\n",
    "\n",
    "* Flat is better than nested.\n",
    "\n",
    "\n",
    "* Sparse is better than dense.\n",
    "\n",
    "\n",
    "* Readability counts.\n",
    "\n",
    "\n",
    "* Special cases aren't special enough to break the rules.\n",
    "\n",
    "\n",
    "* Although practicality beats purity.\n",
    "\n",
    "\n",
    "* Errors should never pass silently.\n",
    "\n",
    "\n",
    "* Unless explicitly silenced.\n",
    "\n",
    "\n",
    "* In the face of ambiguity, refuse the temptation to guess.\n",
    "\n",
    "\n",
    "* There should be one &mdash; and preferably only one &mdash; obvious way to do it.\n",
    "\n",
    "\n",
    "* Although that way may not be obvious at first unless you're Dutch.\n",
    "\n",
    "\n",
    "* Now is better than never.\n",
    "\n",
    "\n",
    "* Although never is often better than *right* now.\n",
    "\n",
    "\n",
    "* If the implementation is hard to explain, it's a bad idea.\n",
    "\n",
    "\n",
    "* If the implementation is easy to explain, it may be a good idea.\n",
    "\n",
    "\n",
    "*\tNamespaces are one honking great idea &mdash; let's do more of those!"
   ]
  },
  {
   "cell_type": "markdown",
   "metadata": {},
   "source": [
    "### Why Python ?\n",
    "\n",
    "[PSF Python brochure Vol.1](http://brochure.getpython.info/media/releases/psf-python-brochure-vol.-i-final-download.pdf/at_download/file): a list of applications that should convince _anyone_ of the widespread use of Python\n",
    "\n",
    "* web applications\n",
    "\n",
    "* data science / machine learning\n",
    "\n",
    "* graphical user interfaces\n",
    "\n",
    "* (bash-like) automation processes\n",
    "\n",
    "* IoT"
   ]
  },
  {
   "cell_type": "markdown",
   "metadata": {},
   "source": [
    "### Some Useful Python Acronyms\n",
    "\n",
    "* __OO:__ object oriented, objects are 1<sup>st</sup> class citizens in Python\n",
    "\n",
    "* __PEP:__ [Python enhancement proposals](https://www.python.org/dev/peps/) maintains coherence throughout\n",
    "\n",
    "* __PSF:__ [Python software foundation](https://www.python.org/psf/) non-profit organsation\n",
    "  > The mission of the Python Software Foundation is to promote, protect, and advance the Python programming language, and to support and facilitate the growth of a diverse and international community of Python programmers.\n",
    "  > &mdash; <small>extract of PSF mission statement</small>"
   ]
  },
  {
   "cell_type": "markdown",
   "metadata": {},
   "source": [
    "### OO language\n",
    "\n",
    "* object = 1<sup>st</sup> class citizen\n",
    "\n",
    "  * functions, strings, integers, &#8230; are all objects\n",
    "\n",
    "\n",
    "* object = description + actions\n",
    "\n",
    "  * description: characteristics or _attributes_\n",
    "  * action: _methods_ to change attributes or functionality"
   ]
  },
  {
   "cell_type": "markdown",
   "metadata": {},
   "source": [
    "### OO language : examples\n",
    "\n",
    "* geometry : point in 3D space\n",
    "\n",
    "  &rightarrow; attributes = coordinates x, y, z (wrt a basis)\n",
    "  \n",
    "  &rightarrow; actions = reflecting, translating, rotating, homotopy, &#8230;\n",
    "\n",
    "\n",
    "* daily objects : car\n",
    "\n",
    "  &rightarrow; attributes = make, model, cylinders, color, gpm, &#8230;\n",
    "\n",
    "  &rightarrow; actions = fill fuel, drive to, tire wear, &#8230;"
   ]
  },
  {
   "cell_type": "markdown",
   "metadata": {},
   "source": [
    "### sampling PEPs\n",
    "\n",
    "* [__PEP 1__](https://www.python.org/dev/peps/pep-0001/) :Purpose and Guidelines\n",
    "\n",
    "* [__PEP 5__](https://www.python.org/dev/peps/pep-0005/): Guidelines of language evolution (community driven)\n",
    "\n",
    "* [__PEP 8__](https://www.python.org/dev/peps/pep-0008/): Style Guide for Python Code\n",
    "\n",
    "* [__PEP 20__](https://www.python.org/dev/peps/pep-0020/): The Zen of Python\n",
    "\n",
    "* [__PEP 285__](https://www.python.org/dev/peps/pep-0285/): Adding a bool type\n",
    "\n",
    "* [__PEP 450__](https://www.python.org/dev/peps/pep-0450/): Adding A Statistics Module To The Standard Library"
   ]
  },
  {
   "cell_type": "markdown",
   "metadata": {},
   "source": [
    "### PSF's sponsors\n",
    "\n",
    "<center>\n",
    "![Sponsor logos](./images/logos.png \"PSF Sponsors\")\n",
    "</center>"
   ]
  },
  {
   "cell_type": "markdown",
   "metadata": {},
   "source": [
    "### Python = community effort\n",
    "\n",
    "You will progressively become **pythonistas** !"
   ]
  },
  {
   "cell_type": "markdown",
   "metadata": {},
   "source": [
    "### Before going further &#8230;\n",
    "\n",
    "In what follows we'll use _Jupyter Notebooks_ for the exercices &rightarrow; read [**Using the notebook**](./extra/NotebookIntro.ipynb) carefully!"
   ]
  }
 ],
 "metadata": {
  "anaconda-cloud": {},
  "extensions": {
   "jupyter_dashboards": {
    "activeView": "report_default",
    "version": 1,
    "views": {
     "grid_default": {
      "cellMargin": 10,
      "defaultCellHeight": 20,
      "maxColumns": 12,
      "name": "grid",
      "type": "grid"
     },
     "report_default": {
      "name": "report",
      "type": "report"
     }
    }
   }
  },
  "kernelspec": {
   "display_name": "Python [conda env:inp]",
   "language": "python",
   "name": "conda-env-inp-py"
  },
  "language_info": {
   "codemirror_mode": {
    "name": "ipython",
    "version": 3
   },
   "file_extension": ".py",
   "mimetype": "text/x-python",
   "name": "python",
   "nbconvert_exporter": "python",
   "pygments_lexer": "ipython3",
   "version": "3.6.3"
  },
  "latex_envs": {
   "LaTeX_envs_menu_present": true,
   "autocomplete": true,
   "bibliofile": "biblio.bib",
   "cite_by": "apalike",
   "current_citInitial": 1,
   "eqLabelWithNumbers": true,
   "eqNumInitial": 1,
   "hotkeys": {
    "equation": "Ctrl-E",
    "itemize": "Ctrl-I"
   },
   "labels_anchors": false,
   "latex_user_defs": false,
   "report_style_numbering": false,
   "user_envs_cfg": false
  },
  "varInspector": {
   "cols": {
    "lenName": 16,
    "lenType": 16,
    "lenVar": 40
   },
   "kernels_config": {
    "python": {
     "delete_cmd_postfix": "",
     "delete_cmd_prefix": "del ",
     "library": "var_list.py",
     "varRefreshCmd": "print(var_dic_list())"
    },
    "r": {
     "delete_cmd_postfix": ") ",
     "delete_cmd_prefix": "rm(",
     "library": "var_list.r",
     "varRefreshCmd": "cat(var_dic_list()) "
    }
   },
   "types_to_exclude": [
    "module",
    "function",
    "builtin_function_or_method",
    "instance",
    "_Feature"
   ],
   "window_display": false
  }
 },
 "nbformat": 4,
 "nbformat_minor": 2
}
