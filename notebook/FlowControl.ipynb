{
 "cells": [
  {
   "cell_type": "markdown",
   "metadata": {},
   "source": [
    "# Flow control\n",
    "\n",
    "1. [introduction](#introduction)\n",
    "1. [Exceptions](#exception handling)\n",
    "1. [Boolean logic](#boolean logic)\n",
    "1. [buffer](#buffer)\n",
    "1. [iterators](#iterators)\n",
    "1. [primes](#primes)\n",
    "\n",
    "## Introduction <a name=\"introduction\" />\n",
    "\n",
    "### using flow control to model motivation\n",
    "\n",
    "An example where at each time a sample is drawn from the [http://mathworld.wolfram.com/ExponentialDistribution.html](exponential distribution) with $\\lambda=1$, the probability of loosing motivation after $k$ minutes is $\\Pr(k)=(1 - \\exp(-5))^k\\exp(-5)$, see [http://mathworld.wolfram.com/GeometricDistribution.html](geometric distribution)"
   ]
  },
  {
   "cell_type": "code",
   "execution_count": null,
   "metadata": {
    "collapsed": true
   },
   "outputs": [],
   "source": [
    "from math import log, exp\n",
    "from random import uniform\n",
    "motivated = True\n",
    "minutes = 0\n",
    "while motivated:\n",
    "    minutes += 1\n",
    "    if -log(1 - uniform(0, 1)) > 5:\n",
    "        motivated = False  # probability to stop now or later is exp(-5)\n",
    "print(\"Motivated during {} minutes\".format(minutes))"
   ]
  },
  {
   "cell_type": "markdown",
   "metadata": {},
   "source": [
    "## Exception handling <a name=\"exception handling\" />"
   ]
  },
  {
   "cell_type": "code",
   "execution_count": null,
   "metadata": {},
   "outputs": [],
   "source": [
    "a = 1\n",
    "b = 0\n",
    "a / b"
   ]
  },
  {
   "cell_type": "code",
   "execution_count": null,
   "metadata": {},
   "outputs": [],
   "source": [
    "a = 1\n",
    "b = 0\n",
    "try:\n",
    "    a = 1\n",
    "    b = 0\n",
    "    c = a / b\n",
    "except:\n",
    "    print(\"Exception was raised, but which one ?\")"
   ]
  },
  {
   "cell_type": "code",
   "execution_count": null,
   "metadata": {
    "collapsed": true
   },
   "outputs": [],
   "source": [
    "a = 1\n",
    "b = 0\n",
    "try:\n",
    "    a = 1\n",
    "    b = 0\n",
    "    c = a / b\n",
    "except:\n",
    "    print(\"Exception was raised, but which one ?\")\n",
    "    \n",
    "# if the exception is raised, code is halted, no execution of the next line\n",
    "print(\"I'm Always present at output, whatever exception raised\")"
   ]
  },
  {
   "cell_type": "code",
   "execution_count": null,
   "metadata": {
    "collapsed": true
   },
   "outputs": [],
   "source": [
    "a = 1\n",
    "b = 0\n",
    "try:\n",
    "    a = 1\n",
    "    b = 0\n",
    "    c = a / b\n",
    "except:\n",
    "    print(\"Exception was raised, but which one ?\")\n",
    "finally:    \n",
    "    print(\"I'm Always present at output, whatever exception raised\")"
   ]
  },
  {
   "cell_type": "code",
   "execution_count": null,
   "metadata": {},
   "outputs": [],
   "source": [
    "a = 1\n",
    "b = 0\n",
    "try:\n",
    "    a = 1\n",
    "    b = 0\n",
    "    a / b\n",
    "except Exception as e:   # we can label the exception to reuse later\n",
    "    print(\"First print me, then raise \\\"{}\\\" exception again\".format(e))\n",
    "    raise                      # raises last exception again"
   ]
  },
  {
   "cell_type": "code",
   "execution_count": null,
   "metadata": {},
   "outputs": [],
   "source": [
    "a = 1\n",
    "b = 0\n",
    "try:\n",
    "    a = 1\n",
    "    b = 0\n",
    "    a[0] # try \"a[0]\" instead\n",
    "except ZeroDivisionError as e:\n",
    "    print(\"I'm printed when a division by zero occurs: \\\"{}\\\"\".format(e))\n",
    "    raise                      # raises last exception again\n",
    "except Exception as e:\n",
    "    print(\"I'm printed for any other exception: here \\\"{}\\\"\".format(e))\n",
    "    raise\n",
    "finally:\n",
    "    print(\"I'm Always present at output, whatever exception raised\")"
   ]
  },
  {
   "cell_type": "markdown",
   "metadata": {},
   "source": [
    "## boolean logic <a name=\"boolean logic\"/>\n",
    "\n",
    "### Getting acquainted with boolean expressions in python\n",
    "\n",
    "* For fancier string layout when printing to stdout, see [input output](https://docs.python.org/3.6/tutorial/inputoutput.html)"
   ]
  },
  {
   "cell_type": "code",
   "execution_count": null,
   "metadata": {},
   "outputs": [],
   "source": [
    "print(True and False)\n",
    "print(True or True and False)  # operator precedence?\n",
    "print(bin(0b1100 ^ 0b1010))    # binary\n",
    "print(bin(12 ^ 10))            # dynamic"
   ]
  },
  {
   "cell_type": "markdown",
   "metadata": {},
   "source": [
    "### trickier behaviour when not dealing with logical expressions"
   ]
  },
  {
   "cell_type": "code",
   "execution_count": null,
   "metadata": {},
   "outputs": [],
   "source": [
    "print(1 and 2)\n",
    "print(bool(1) and bool(2))\n",
    "print(True and \"print me\")  # if the first statement evaluates to True print second\n",
    "print(False and \"print me\") # if the first statement evaluates to False print False\n",
    "print(\"print me\" and True)  # non-commutative!\n",
    "print(\"print me\" and False) "
   ]
  },
  {
   "cell_type": "markdown",
   "metadata": {},
   "source": [
    "## buffer <a name=\"buffer\"/>\n",
    "### below we repeat the LIFO (or FILO) stack"
   ]
  },
  {
   "cell_type": "code",
   "execution_count": null,
   "metadata": {
    "collapsed": true
   },
   "outputs": [],
   "source": [
    "l = list(range(10))   # list with elements from 0 to 9\n",
    "print(l)              \n",
    "while l:              # bool of empty list is False, otherwise True\n",
    "    element = l.pop() # pop last element from list (LIFO or stack)\n",
    "    print('popped element {} from list'.format(element))\n",
    "    print('list = {}'.format(l))"
   ]
  },
  {
   "cell_type": "markdown",
   "metadata": {},
   "source": [
    "### implement a (FIFO) buffer\n",
    "* you might want to have a look at [data structures](https://docs.python.org/3.6/tutorial/datastructures.html)"
   ]
  },
  {
   "cell_type": "code",
   "execution_count": null,
   "metadata": {},
   "outputs": [],
   "source": [
    "l = list(range(10))\n",
    "print(l)"
   ]
  },
  {
   "cell_type": "markdown",
   "metadata": {},
   "source": [
    "## iterators <a name=\"iterators\"/>"
   ]
  },
  {
   "cell_type": "code",
   "execution_count": null,
   "metadata": {},
   "outputs": [],
   "source": [
    "l = list(range(10))        # this is an iterable\n",
    "it = l.__iter__()          # this is an iterator\n",
    "print(it.__next__())       # getting elements, one by one \n",
    "print(it.__next__())\n",
    "print(it.__next__())\n",
    "\n",
    "while it:\n",
    "    print(it.__next__())   # generates a StopIteration exception when no more elements"
   ]
  },
  {
   "cell_type": "code",
   "execution_count": null,
   "metadata": {},
   "outputs": [],
   "source": [
    "l = list(range(10))        # this is an iterable\n",
    "\n",
    "it2 = l.__iter__()\n",
    "try:\n",
    "    while it2:\n",
    "        print(it2.__next__())\n",
    "except StopIteration:\n",
    "    pass\n",
    "finally:\n",
    "    print(\"no more elements in it2\")"
   ]
  },
  {
   "cell_type": "markdown",
   "metadata": {},
   "source": [
    "#### But wait! ... we've reinvented the for-loop"
   ]
  },
  {
   "cell_type": "code",
   "execution_count": null,
   "metadata": {},
   "outputs": [],
   "source": [
    "for element in list(range(10)):\n",
    "    print(element)\n",
    "print(\"no more elements in the iterator\")"
   ]
  },
  {
   "cell_type": "markdown",
   "metadata": {},
   "source": [
    "## Primes <a name=\"primes\" />\n",
    "#### Get all prime numbers below 1000\n",
    "_HINT_: use `for`, `break`, and `else`"
   ]
  },
  {
   "cell_type": "code",
   "execution_count": null,
   "metadata": {},
   "outputs": [],
   "source": []
  }
 ],
 "metadata": {
  "kernelspec": {
   "display_name": "Python [default]",
   "language": "python",
   "name": "python3"
  },
  "language_info": {
   "codemirror_mode": {
    "name": "ipython",
    "version": 3
   },
   "file_extension": ".py",
   "mimetype": "text/x-python",
   "name": "python",
   "nbconvert_exporter": "python",
   "pygments_lexer": "ipython3",
   "version": "3.6.3"
  },
  "latex_envs": {
   "LaTeX_envs_menu_present": true,
   "autocomplete": true,
   "bibliofile": "biblio.bib",
   "cite_by": "apalike",
   "current_citInitial": 1,
   "eqLabelWithNumbers": true,
   "eqNumInitial": 1,
   "hotkeys": {
    "equation": "Ctrl-E",
    "itemize": "Ctrl-I"
   },
   "labels_anchors": false,
   "latex_user_defs": false,
   "report_style_numbering": false,
   "user_envs_cfg": false
  },
  "varInspector": {
   "cols": {
    "lenName": 16,
    "lenType": 16,
    "lenVar": 40
   },
   "kernels_config": {
    "python": {
     "delete_cmd_postfix": "",
     "delete_cmd_prefix": "del ",
     "library": "var_list.py",
     "varRefreshCmd": "print(var_dic_list())"
    },
    "r": {
     "delete_cmd_postfix": ") ",
     "delete_cmd_prefix": "rm(",
     "library": "var_list.r",
     "varRefreshCmd": "cat(var_dic_list()) "
    }
   },
   "types_to_exclude": [
    "module",
    "function",
    "builtin_function_or_method",
    "instance",
    "_Feature"
   ],
   "window_display": false
  }
 },
 "nbformat": 4,
 "nbformat_minor": 2
}
