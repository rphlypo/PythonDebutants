{
 "cells": [
  {
   "cell_type": "markdown",
   "metadata": {},
   "source": [
    "# 1. The Python environment"
   ]
  },
  {
   "cell_type": "markdown",
   "metadata": {},
   "source": [
    "## 1.1 What is Python ?\n",
    "\n",
    "* an ecosystem &gg; language\n",
    "\n",
    "\n",
    "* REPL : Python executes in a so-called _read-eval-print loop_\n",
    "\n",
    "\n",
    "* interpreted language (no compilation needed)\n",
    "\n",
    "\n",
    "* multiplatform\n",
    "\n",
    "\n",
    "* dynamic typing\n",
    "\n",
    "\n",
    "* automatic memory administration (garbage collector)\n",
    "\n",
    "\n",
    "* exception handler"
   ]
  },
  {
   "cell_type": "markdown",
   "metadata": {},
   "source": [
    "Example : \n",
    "```python\n",
    "a = 42\n",
    "a\n",
    "```\n",
    "Interpreter\n",
    "1. reads the string 'a = 42' from prompt\n",
    "2. evaluates the string as assignment a &leftarrow; 42 (read: a points to memory containing int '42')\n",
    "3. returns the result to the reader"
   ]
  },
  {
   "cell_type": "code",
   "execution_count": null,
   "metadata": {
    "collapsed": true
   },
   "outputs": [],
   "source": [
    "a = 42\n",
    "a"
   ]
  },
  {
   "cell_type": "code",
   "execution_count": null,
   "metadata": {
    "collapsed": true
   },
   "outputs": [],
   "source": [
    "a = 1 \n",
    "print(type(a))\n",
    "b = 1. \n",
    "print(type(b))\n",
    "a = a + b # dynamic language, a changes its type\n",
    "print(type(c))"
   ]
  },
  {
   "cell_type": "code",
   "execution_count": null,
   "metadata": {
    "collapsed": true
   },
   "outputs": [],
   "source": [
    "a = 'hello '\n",
    "b = 'world! '\n",
    "print((a + b) * 2)"
   ]
  },
  {
   "cell_type": "markdown",
   "metadata": {},
   "source": [
    "## 1.2 Distributions\n",
    "\n",
    "Python comes in different flavours\n",
    "\n",
    "* [CPython](https://www.python.org/downloads/)\n",
    "\n",
    "* [Anaconda, inc.](https://anaconda.org/)\n",
    "\n",
    "* [Enthought](https://www.enthought.com/)'s python\n",
    "\n",
    "* [IPython](http://ipython.org) (enchanced interactive Python shell) &rightarrow; [Jupyter](http://jupyter.org)\n",
    "\n",
    "* [Embedded Python](https://wiki.python.org/moin/EmbeddedPython), Python for ARM\n",
    "\n",
    "* [Jython](http://www.jython.org) Python for JAVA\n",
    "\n",
    "* [PyPy.js](http://pypyjs.org) javascript implementation that is Python-compliant\n",
    "\n",
    "\n",
    "### Anaconda\n",
    "\n",
    "and more specifically [miniconda](https://conda.io/miniconda.html)\n",
    "\n",
    "* for-profit &amp; community\n",
    "\n",
    "  * free to use\n",
    "\n",
    "  * paid service packs and rack space\n",
    "\n",
    "\n",
    "* isolated environments\n",
    "\n",
    "  * maintain different python/package versions for compatibility\n",
    "  \n",
    "  * isolate test environments from production environments\n",
    "  \n",
    "  * redistribute your environment using a `yaml` description file\n",
    "\n",
    "\n",
    "* package manager with dependency checks\n",
    "\n",
    "    ```bash\n",
    "    conda install <package>\n",
    "    conda update <package>\n",
    "    conda install -c conda-forge <package>\n",
    "    conda create --name mynewenv python=3.6 scipy=1.0\n",
    "    ```\n",
    "\n",
    "* well documented\n",
    "\n",
    "  * conda [documentation](https://conda.io/docs/)\n",
    "\n",
    "### alternative: python package index (pypi)\n",
    "\n",
    "* uses [`pip`](https://pypi.org/project/pip/)"
   ]
  },
  {
   "cell_type": "markdown",
   "metadata": {},
   "source": [
    "## 1.3 programming environments\n",
    "\n",
    "### integrated development and learning environment ([IDLE](https://docs.python.org/3/library/idle.html))\n",
    "\n",
    "* good starting point for interactive programming with Python\n",
    "  \n",
    "* itself entirely written in Python, using `tkinter`\n",
    "  \n",
    "* debugger, color code, &#8230; (much like Matlab&reg;'s)\n",
    "\n",
    "\n",
    "### [Spyder](https://pythonhosted.org/spyder/)\n",
    "\n",
    "* scientific programming IDLE (even more Matlab&reg; like)\n",
    "\n",
    "* included in [_Python(x,y)_](http://python-xy.github.io/)"
   ]
  },
  {
   "cell_type": "markdown",
   "metadata": {},
   "source": [
    "### The [Jupyter](http://jupyter.org/) notebook\n",
    "\n",
    "You're reading through a Jupyter notebook.\n",
    "\n",
    "* extension of [IPython](http://ipython.org/)\n",
    "\n",
    "* cells can be executed in any order\n",
    "\n",
    "* mixing code, figures, and text (annotations, LaTeX, HTML, js)\n",
    "\n",
    "* declaration/initialisation of variables in temporal order, not spatial order!\n",
    "\n",
    "Once a variable is declared it can be used everywhere else!\n",
    "\n",
    "&rightarrow; If you have not done so yet, get a look at the [Jupyter notebook basics](./extra/NotebookIntro.ipynb)"
   ]
  },
  {
   "cell_type": "markdown",
   "metadata": {},
   "source": [
    "## 1.4 standard packages and scientific python stack\n",
    "\n",
    "* Python has a multitude of packages, mostly community driven\n",
    "\n",
    "  * [Python standard library](https://docs.python.org/3/library/index.html): a good thing to know, included with every Python distribution\n",
    "  \n",
    "  * [scientific Python stack](https://scipy.org/stackspec.html) (obsolete, but good starting point)\n",
    "  \n",
    "    * centered around package for scientific computing `scipy`\n",
    "    \n",
    "    * vectors, matrices and multidimensional tables: `numpy`\n",
    "    \n",
    "    * plotting: `matplotlib`\n",
    "    \n",
    "    * augmented interpreter: `ìpython`\n",
    "    \n",
    "    * data structures and data analysis: `pandas`\n",
    "    \n",
    "    * symbolic computing: `sympy`\n",
    "    \n",
    "    * continuous integration / testing: `nose`\n",
    "    \n",
    "  * many, many other packages\n",
    "  \n",
    "### how to use packages\n",
    "\n",
    "```python\n",
    "import package\n",
    "from package import function\n",
    "import packages as my_package_name\n",
    "from package import function as my_function_name\n",
    "```"
   ]
  },
  {
   "cell_type": "code",
   "execution_count": null,
   "metadata": {
    "collapsed": true
   },
   "outputs": [],
   "source": [
    "import math\n",
    "math.exp(1)"
   ]
  },
  {
   "cell_type": "code",
   "execution_count": null,
   "metadata": {
    "collapsed": true
   },
   "outputs": [],
   "source": [
    "from math import exp\n",
    "exp(1)"
   ]
  },
  {
   "cell_type": "code",
   "execution_count": null,
   "metadata": {
    "collapsed": true
   },
   "outputs": [],
   "source": [
    "import math as m\n",
    "m.exp(1)"
   ]
  },
  {
   "cell_type": "code",
   "execution_count": null,
   "metadata": {
    "collapsed": true
   },
   "outputs": [],
   "source": [
    "from math import exp as e\n",
    "e(1)"
   ]
  },
  {
   "cell_type": "code",
   "execution_count": null,
   "metadata": {
    "collapsed": true
   },
   "outputs": [],
   "source": [
    "from keyword import kwlist as reserved_python_keywords\n",
    "reserved_python_keywords # these keywords cannot be used as variable names!"
   ]
  },
  {
   "cell_type": "markdown",
   "metadata": {},
   "source": [
    "## 1.5 References\n",
    "\n",
    "* [Python tutorials (python-course.eu)](http://www.python-course.eu)\n",
    "\n",
    "\n",
    "* [Good starting point (python.org)](https://www.python.org/)\n",
    "\n",
    "\n",
    "* [numpy for matlab users](https://docs.scipy.org/doc/numpy-1.13.0/user/numpy-for-matlab-users.html)\n",
    "\n",
    "\n",
    "* Grus, J.: \"Data Science from Scratch,\" O’Reilly\n",
    "\n",
    "\n",
    "* Idris, I.: \"Numpy Beginner’s guide,\" Packt Publishing\n",
    "\n",
    "\n",
    "* McKinney, W.: \"Python for Data Analysis,\" O’Reilly\n",
    "\n",
    "\n",
    "* Rossant, C.: \"IPython Interactive computing and Visualization Cookbook,\" Packt Publishing\n",
    "\n",
    "\n",
    "* Swinnen, G.: \"Apprendre à programmer avec Python3,\" Eyrolles (ISBN 978-2-212-13434-6)"
   ]
  }
 ],
 "metadata": {
  "anaconda-cloud": {},
  "kernelspec": {
   "display_name": "Python [conda env:inp]",
   "language": "python",
   "name": "conda-env-inp-py"
  },
  "language_info": {
   "codemirror_mode": {
    "name": "ipython",
    "version": 3
   },
   "file_extension": ".py",
   "mimetype": "text/x-python",
   "name": "python",
   "nbconvert_exporter": "python",
   "pygments_lexer": "ipython3",
   "version": "3.6.5"
  },
  "varInspector": {
   "cols": {
    "lenName": 16,
    "lenType": 16,
    "lenVar": 40
   },
   "kernels_config": {
    "python": {
     "delete_cmd_postfix": "",
     "delete_cmd_prefix": "del ",
     "library": "var_list.py",
     "varRefreshCmd": "print(var_dic_list())"
    },
    "r": {
     "delete_cmd_postfix": ") ",
     "delete_cmd_prefix": "rm(",
     "library": "var_list.r",
     "varRefreshCmd": "cat(var_dic_list()) "
    }
   },
   "types_to_exclude": [
    "module",
    "function",
    "builtin_function_or_method",
    "instance",
    "_Feature"
   ],
   "window_display": false
  }
 },
 "nbformat": 4,
 "nbformat_minor": 2
}
