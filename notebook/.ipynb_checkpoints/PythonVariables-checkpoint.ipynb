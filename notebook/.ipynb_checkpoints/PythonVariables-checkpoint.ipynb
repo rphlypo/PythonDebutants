{
 "cells": [
  {
   "cell_type": "markdown",
   "metadata": {},
   "source": [
    "# Variables in Python\n",
    "\n",
    "1. [data types](#data types)\n",
    "1. [indexing](#indexing)\n",
    "1. [basic operators](#basic operators)\n",
    "1. [strings and docstrings](#strings and docstrings)\n",
    "1. [number representation](#number representation)\n",
    "\n",
    "## Data types <a name=\"data types\"></a>\n",
    "\n",
    "#### Look at the data types of `a` and `b` by executing the below cell "
   ]
  },
  {
   "cell_type": "code",
   "execution_count": 1,
   "metadata": {},
   "outputs": [
    {
     "name": "stdout",
     "output_type": "stream",
     "text": [
      "<class 'int'>\n",
      "<class 'str'>\n"
     ]
    }
   ],
   "source": [
    "a = 3\n",
    "print(type(a))      # print statements are always displayed\n",
    "b = \"Hello world!\"\n",
    "print(type(b))      # print statements are always displayed"
   ]
  },
  {
   "cell_type": "markdown",
   "metadata": {},
   "source": [
    "#### What happens if `print()` is omitted ?"
   ]
  },
  {
   "cell_type": "code",
   "execution_count": 3,
   "metadata": {},
   "outputs": [
    {
     "data": {
      "text/plain": [
       "str"
      ]
     },
     "execution_count": 3,
     "metadata": {},
     "output_type": "execute_result"
    }
   ],
   "source": [
    "a = 3\n",
    "type(a)\n",
    "b = \"Hello world!\"\n",
    "type(b)              # only the last output to std out is visualised"
   ]
  },
  {
   "cell_type": "markdown",
   "metadata": {},
   "source": [
    "#### Of what type are the following variables ?"
   ]
  },
  {
   "cell_type": "code",
   "execution_count": 4,
   "metadata": {
    "collapsed": true
   },
   "outputs": [],
   "source": [
    "x = 4\n",
    "y = 2\n",
    "z = x / y  # tricky one !\n",
    "u = True\n",
    "w = 2.0\n",
    "c = 1 + 1j\n",
    "s = \"hello world!\"\n",
    "l = [1, 3, 5]\n",
    "d = {\"a\" : 1, \"z\" : 26}\n",
    "t = (\"hello\", \"world\")\n",
    "v = {'a', 'b', 'c', 'd'}"
   ]
  },
  {
   "cell_type": "markdown",
   "metadata": {},
   "source": [
    "## indexing <a name=\"indexing\"></a>\n",
    "\n",
    "* get the first element of `x` using a positive index\n",
    "* get the last element of `x` using a positive index\n",
    "* get the last element of `x` using a negative index\n",
    "* get the first element of `x` using a negative index"
   ]
  },
  {
   "cell_type": "code",
   "execution_count": 9,
   "metadata": {
    "collapsed": true
   },
   "outputs": [],
   "source": [
    "x = [1, 2, 3, 4]"
   ]
  },
  {
   "cell_type": "markdown",
   "metadata": {},
   "source": [
    "## Basic operators and operator precedence <a name=\"basic operators\"></a>\n",
    "\n",
    "Remark the operator precedence in the last example"
   ]
  },
  {
   "cell_type": "code",
   "execution_count": 4,
   "metadata": {},
   "outputs": [
    {
     "name": "stdout",
     "output_type": "stream",
     "text": [
      "x / y = 8.3333\n",
      "x // y = 8\n",
      "x % y = 1\n",
      "Euclidean division: x = x // y * y + x % y = 25\n"
     ]
    }
   ],
   "source": [
    "x = 25\n",
    "y = 3\n",
    "print(\"x / y = {:.5g}\".format(x/y))\n",
    "print(\"x // y = {}\".format(x // y))\n",
    "print(\"x % y = {}\".format(x%y))\n",
    "print(\"Euclidean division: x = x // y * y + x % y = {}\".format(x // y * y + x % y))"
   ]
  },
  {
   "cell_type": "code",
   "execution_count": 5,
   "metadata": {},
   "outputs": [
    {
     "data": {
      "text/plain": [
       "'Hello world! Hello world! Hello world! '"
      ]
     },
     "execution_count": 5,
     "metadata": {},
     "output_type": "execute_result"
    }
   ],
   "source": [
    "a = \"Hello \"\n",
    "b = \"world! \"\n",
    "(a + b)*3"
   ]
  },
  {
   "cell_type": "code",
   "execution_count": 10,
   "metadata": {},
   "outputs": [
    {
     "name": "stdout",
     "output_type": "stream",
     "text": [
      "6\n",
      "1\n",
      "True\n"
     ]
    }
   ],
   "source": [
    "print(3 << 1)  # one shift to the left is a multiplication by 2\n",
    "print(3 >> 1)  # one shift to the right is an integer division by 2\n",
    "\n",
    "x = 29 # change this integer value freely\n",
    "k = 3 # change this positive integer value freely\n",
    "print(x >> k == x // 2 ** k) "
   ]
  },
  {
   "cell_type": "markdown",
   "metadata": {},
   "source": [
    "Complete the below with print statements to check the truth values of the exercise on slide 3.6"
   ]
  },
  {
   "cell_type": "code",
   "execution_count": 11,
   "metadata": {},
   "outputs": [
    {
     "name": "stdout",
     "output_type": "stream",
     "text": [
      "True\n",
      "True\n",
      "True\n",
      "False\n",
      "True\n",
      "False\n",
      "True\n",
      "False\n",
      "False\n",
      "True\n",
      "False\n",
      "True\n"
     ]
    }
   ],
   "source": [
    "print(5 == 5)"
   ]
  },
  {
   "cell_type": "markdown",
   "metadata": {},
   "source": [
    "## strings and docstrings <a name=\"strings and docstrings\"></a>"
   ]
  },
  {
   "cell_type": "code",
   "execution_count": 12,
   "metadata": {},
   "outputs": [
    {
     "data": {
      "text/plain": [
       "'x equals 3.3333, y equals 1.42857'"
      ]
     },
     "execution_count": 12,
     "metadata": {},
     "output_type": "execute_result"
    }
   ],
   "source": [
    "\"x equals {x:.5g}, y equals {y:.5f}\".format(x = 10/3, y = 10/7)"
   ]
  },
  {
   "cell_type": "code",
   "execution_count": 13,
   "metadata": {},
   "outputs": [
    {
     "name": "stdout",
     "output_type": "stream",
     "text": [
      "I am a string\n",
      "x equals 3, y equals 5\n",
      "x equals 3, y equals 7\n",
      "x equals 0.33333\n",
      "x equals 3.3333, y equals 1.42857\n"
     ]
    }
   ],
   "source": [
    "print(\"I am a {}\".format(\"string\"))\n",
    "print(\"x equals {}, y equals {}\".format(3, 5))           # order of appearance\n",
    "print(\"x equals {x}, y equals {y}\".format(x = 3, y = 7)) # key-value pairs\n",
    "print(\"x equals {:.5g}\".format(1/3))                     # 5 significant digits\n",
    "s = \"x equals {x:.5g}, y equals {y:.5f}\".format(x = 10/3, y = 10/7)\n",
    "print(s)"
   ]
  },
  {
   "cell_type": "markdown",
   "metadata": {},
   "source": [
    "## number representation <a name=\"number representation\"></a>"
   ]
  },
  {
   "cell_type": "code",
   "execution_count": null,
   "metadata": {
    "collapsed": true
   },
   "outputs": [],
   "source": [
    "x = 23\n",
    "print(x.to_bytes(1, 'big'))\n",
    "y = 1025\n",
    "print(y.to_bytes(2, 'big'))     # big endian\n",
    "print(y.to_bytes(2, 'little'))  # little endian"
   ]
  },
  {
   "cell_type": "code",
   "execution_count": 20,
   "metadata": {},
   "outputs": [
    {
     "name": "stdout",
     "output_type": "stream",
     "text": [
      "x = 0.1\n",
      "x = 3602879701896397 / 36028797018963968\n",
      "x = 0.1\n",
      "x = 0.1\n",
      "y = 1.0\n",
      "y = 1.0\n",
      "y = 1 / 1\n"
     ]
    }
   ],
   "source": [
    "x = 1/10\n",
    "print(\"x = {}\".format(x))\n",
    "fracx = x.as_integer_ratio()\n",
    "print(\"x = {num} / {den}\".format(num=fracx[0], den=fracx[1]))\n",
    "print(\"x = {:.6g}\".format(x))       # 6 significative digits / format(x, '.6g')\n",
    "print(\"x = {}\".format(x, '.24g'))   # 24 significative digits\n",
    "y = x * 10\n",
    "print(\"y = {}\".format(y))\n",
    "print(\"y = {}\".format(y, '.24g'))     # 24 significative digits\n",
    "fracy = y.as_integer_ratio()\n",
    "print(\"y = {num} / {den}\".format(num=fracy[0], den=fracy[1]))"
   ]
  }
 ],
 "metadata": {
  "kernelspec": {
   "display_name": "Python [default]",
   "language": "python",
   "name": "python3"
  },
  "language_info": {
   "codemirror_mode": {
    "name": "ipython",
    "version": 3
   },
   "file_extension": ".py",
   "mimetype": "text/x-python",
   "name": "python",
   "nbconvert_exporter": "python",
   "pygments_lexer": "ipython3",
   "version": "3.6.3"
  },
  "latex_envs": {
   "LaTeX_envs_menu_present": true,
   "autocomplete": true,
   "bibliofile": "biblio.bib",
   "cite_by": "apalike",
   "current_citInitial": 1,
   "eqLabelWithNumbers": true,
   "eqNumInitial": 1,
   "hotkeys": {
    "equation": "Ctrl-E",
    "itemize": "Ctrl-I"
   },
   "labels_anchors": false,
   "latex_user_defs": false,
   "report_style_numbering": false,
   "user_envs_cfg": false
  },
  "varInspector": {
   "cols": {
    "lenName": 16,
    "lenType": 16,
    "lenVar": 40
   },
   "kernels_config": {
    "python": {
     "delete_cmd_postfix": "",
     "delete_cmd_prefix": "del ",
     "library": "var_list.py",
     "varRefreshCmd": "print(var_dic_list())"
    },
    "r": {
     "delete_cmd_postfix": ") ",
     "delete_cmd_prefix": "rm(",
     "library": "var_list.r",
     "varRefreshCmd": "cat(var_dic_list()) "
    }
   },
   "types_to_exclude": [
    "module",
    "function",
    "builtin_function_or_method",
    "instance",
    "_Feature"
   ],
   "window_display": false
  }
 },
 "nbformat": 4,
 "nbformat_minor": 2
}
