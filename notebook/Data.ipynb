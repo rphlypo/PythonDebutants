{
 "cells": [
  {
   "cell_type": "markdown",
   "metadata": {
    "collapsed": true
   },
   "source": [
    "# Data processing <a name=\"index\" />\n",
    "\n",
    "1. [example intro](#example intro)\n",
    "1. [numpy package](#numpy package)\n",
    "1. [ndarray operations](#operations)\n",
    "1. [indexing](#indexing)\n",
    "1. [copies and views](#view)\n",
    "1. [advanced indexing and broadcasting](#broadcasting)\n",
    "\n",
    "## Example intro <a name=\"example intro\" />"
   ]
  },
  {
   "cell_type": "code",
   "execution_count": null,
   "metadata": {},
   "outputs": [],
   "source": [
    "import numpy as np\n",
    "from scipy.stats import gaussian_kde\n",
    "from bokeh.io import output_notebook, push_notebook, show\n",
    "from bokeh.plotting import figure\n",
    "from ipywidgets import interact\n",
    "\n",
    "output_notebook()"
   ]
  },
  {
   "cell_type": "code",
   "execution_count": null,
   "metadata": {},
   "outputs": [],
   "source": [
    "n_samples, n_vars = 10, 1000\n",
    "X = np.random.uniform(size=(n_samples, n_vars), low=-1, high=1)\n",
    "s = X.sum(axis=0)\n",
    "g = gaussian_kde(s, 1)\n",
    "x = np.linspace(-n_samples, n_samples, 200 * n_samples + 1)\n",
    "\n",
    "# set up figure\n",
    "p = figure(title=\"kde of sum of {} uniform variables on [-1, 1]\".format(n_samples), plot_height=400, plot_width=600)\n",
    "r = p.line(x, g(x))\n",
    "h = show(p, notebook_handle=True)\n",
    "\n",
    "@interact(kde_width=(.01, 1, .01))\n",
    "def update(kde_width):\n",
    "    g = gaussian_kde(s, kde_width)\n",
    "    r.data_source.data['y'] = g(x)\n",
    "    push_notebook(handle=h)\n",
    "    "
   ]
  },
  {
   "cell_type": "markdown",
   "metadata": {},
   "source": [
    "## `numpy` package <a name=\"numpy package\" />\n",
    "[back to index](#index)\n",
    "\n",
    "### `ndarray` initialisation and elementary operators"
   ]
  },
  {
   "cell_type": "code",
   "execution_count": null,
   "metadata": {},
   "outputs": [],
   "source": [
    "import numpy as np\n",
    "x = np.identity(10)              # The identity matrix in IF^{10x10} (IF = IR ou IC)\n",
    "y = np.ones(shape=(10, 10)) * .1 # a matrix of ones of shape 10x10, all elements multiplied by 0.1\n",
    "z = y - x                        # difference of two matrices (must be of \"compatible\" size)\n",
    "z = np.diag(z.sum(axis=1)) - z   # Laplacian of the fully connected (weighted) symmetric graph\n",
    "print(type(z))\n",
    "print(z.dtype)                   # what is the type() of the entries\n",
    "print(z)"
   ]
  },
  {
   "cell_type": "markdown",
   "metadata": {},
   "source": [
    "### convert `list` to `ndarray`\n",
    "#### ... and an introduction to views\n",
    "\n",
    "This is also a good opportunity to check attributes like `ndim`, `shape`, `size`, `dtype`, and `itemsize`"
   ]
  },
  {
   "cell_type": "code",
   "execution_count": null,
   "metadata": {},
   "outputs": [],
   "source": [
    "x = list(range(20))\n",
    "print(\"x is of type {}\".format(type(x)))\n",
    "print(\"\\nx = {}\".format(x))\n",
    "X = np.array(x)      # casting the list to a numpy.ndarray\n",
    "print(\"\\nX is of type {}\".format(type(X)))\n",
    "print(\"\\nX =\\n{}\".format(X))\n",
    "X.reshape(4, 5)      # reshape does not act on the array, but returns a \"view\"\n",
    "print(\"\\nX = \\n{}\".format(X))\n",
    "Y = X.reshape(4, 5)  # attribution of a view to a variable stores that view\n",
    "print(\"\\nY =\\n{}\".format(Y))\n",
    "X[3] = 100           # but BE CAREFUL: Y is a reference to a view of X!\n",
    "print(\"\\nChanged X[3] to {}\".format(X[3]))\n",
    "print(\"\\nY =\\n{}\".format(Y))"
   ]
  },
  {
   "cell_type": "markdown",
   "metadata": {},
   "source": [
    "#### can you see what has changed between the version above and below?"
   ]
  },
  {
   "cell_type": "code",
   "execution_count": null,
   "metadata": {},
   "outputs": [],
   "source": [
    "x = list(range(20))\n",
    "print(\"x is of type {}\".format(type(x)))\n",
    "print(\"\\nx = {}\".format(x))\n",
    "X = np.array(x)                 # casting the list to a numpy.ndarray\n",
    "print(\"\\nX is of type {}\".format(type(X)))\n",
    "print(\"\\nX =\\n{}\".format(X))\n",
    "X.reshape(4, 5)                 # reshape does not act on the array, but returns a \"view\"\n",
    "print(\"\\nX = \\n{}\".format(X))\n",
    "Y = X.reshape(4, 5, order='F')  # attribution of a view to a variable stores that view\n",
    "print(\"\\nY =\\n{}\".format(Y))\n",
    "X[3] = 100                      # but BE CAREFUL: Y is a reference to a view of X!\n",
    "print(\"\\nChanged X[3] to {}\".format(X[3]))\n",
    "print(\"\\nY =\\n{}\".format(Y))"
   ]
  },
  {
   "cell_type": "markdown",
   "metadata": {},
   "source": [
    "#### array creation is dynamic (types are derived from the data)\n",
    "see also [enumerate](https://docs.python.org/3/library/functions.html#enumerate) for `enumerate` or type \n",
    "```python\n",
    "enumerate?\n",
    "```\n",
    "in the notebook"
   ]
  },
  {
   "cell_type": "code",
   "execution_count": null,
   "metadata": {},
   "outputs": [],
   "source": [
    "z = list()\n",
    "z.append(np.array([1, 2, 3]))\n",
    "z.append(np.array([1., 2, 3]))\n",
    "z.append(np.array([1 + 1j, 2, 3]))\n",
    "z.append(np.array([\"a\", \"b\", \"c\"]))\n",
    "\n",
    "for k, z_ in enumerate(z):\n",
    "    print(\"type of elements in z[{ix}] is {x.dtype}\".format(ix=k, x=z_))"
   ]
  },
  {
   "cell_type": "markdown",
   "metadata": {},
   "source": [
    "### Create a `ndarray` from a function"
   ]
  },
  {
   "cell_type": "code",
   "execution_count": null,
   "metadata": {},
   "outputs": [],
   "source": [
    "def f(i, j):\n",
    "    return np.abs(i - j)\n",
    "\n",
    "print(np.fromfunction(f, (5, 5), dtype=int))"
   ]
  },
  {
   "cell_type": "markdown",
   "metadata": {},
   "source": [
    "#### Exercise\n",
    "Create a matrix that is $n$ by $n$ in size whose entries are\n",
    "$$\n",
    "\\exp\\left(-\\frac{\\left|x[i] - x[j]\\right|^2}{2}\\right)\n",
    "$$\n",
    "for a vector $x$ of shape $(n,)$.\n",
    "\n",
    "_Hint_: look for `partial` in the package [functools](https://docs.python.org/3/library/functools.html)"
   ]
  },
  {
   "cell_type": "code",
   "execution_count": null,
   "metadata": {},
   "outputs": [],
   "source": [
    "from functools import partial\n",
    "import numpy as np\n",
    "import matplotlib.pyplot as plt\n",
    "import seaborn as sns\n",
    "sns.set()\n",
    "%matplotlib notebook\n",
    "\n",
    "n = 50\n",
    "\n",
    "x = np.random.normal(size=(n,))\n",
    "\n",
    "# Create the function f that depends on both indices and the data x\n",
    "# then create g as a partial evaluation of f where the data has been fixed to x\n",
    "\n",
    "mat = np.fromfunction(g, (n, n), dtype=int)\n",
    "\n",
    "fig = plt.figure(figsize=(8, 6))\n",
    "ax = fig.add_subplot(111)\n",
    "mats = ax.matshow(mat)\n",
    "plt.colorbar(mats)"
   ]
  },
  {
   "cell_type": "markdown",
   "metadata": {},
   "source": [
    "## operations on `ndarray`s <a name=\"operations\" />"
   ]
  },
  {
   "cell_type": "code",
   "execution_count": null,
   "metadata": {},
   "outputs": [],
   "source": [
    "def sep(k=5):\n",
    "    print('\\n' + '-'*k + '\\n')\n",
    "\n",
    "x = np.random.randint(201, size=(4, 5))\n",
    "print(x)\n",
    "sep()\n",
    "\n",
    "# universal functions\n",
    "x -= 100  # inline operator subtracts 100 of each element\n",
    "print(x)\n",
    "sep()\n",
    "\n",
    "# unary functions\n",
    "print(np.max(x))\n",
    "print(np.sum(x))\n",
    "print(x.sum(axis=0))\n",
    "print(x.sum(axis=0).shape) # /!\\ returns a vector, which is always a \"column\" vector\n",
    "print(x.sum(axis=1))\n",
    "print(x.sum(axis=1).shape) # /!\\ returns a vector, which is always a \"column\" vector\n",
    "sep()\n",
    "\n",
    "# n-ary functions\n",
    "\n",
    "print(np.vstack([x] * 3))\n",
    "sep()\n",
    "print(np.hstack([x] * 3))\n",
    "sep()\n",
    "y = x.T.dot(x)\n",
    "print(y)"
   ]
  },
  {
   "cell_type": "markdown",
   "metadata": {},
   "source": [
    "## numpy indexing <a name=\"indexing\" />\n",
    "[back to index](#index)"
   ]
  },
  {
   "cell_type": "code",
   "execution_count": null,
   "metadata": {},
   "outputs": [],
   "source": [
    "x = np.arange(12).reshape(3, 4, order='F') # --> same as np.array(range(12)).reshape(3, 4)\n",
    "print(x)\n",
    "print(x[1, 2])     # single element\n",
    "print(x[:, 2])     # single column\n",
    "print(x[[1, 2], [0, 3]]) # two elements"
   ]
  },
  {
   "cell_type": "markdown",
   "metadata": {},
   "source": [
    "But these are all __views__! "
   ]
  },
  {
   "cell_type": "code",
   "execution_count": null,
   "metadata": {},
   "outputs": [],
   "source": [
    "y = x[:, 2]\n",
    "x[0, 2] = 0\n",
    "print(y)"
   ]
  },
  {
   "cell_type": "markdown",
   "metadata": {},
   "source": [
    "`ndarray`s can be indexed as lists of lists!"
   ]
  },
  {
   "cell_type": "code",
   "execution_count": null,
   "metadata": {},
   "outputs": [],
   "source": [
    "def sep(n=5):\n",
    "    print('\\n' + n * '-' + '\\n')\n",
    "\n",
    "x = np.random.uniform(size=(2, 3, 4))\n",
    "print(x)\n",
    "sep()\n",
    "print(x[0])\n",
    "sep()\n",
    "print(x[0][1])\n",
    "sep()\n",
    "print(x[0][1][2])\n",
    "sep()\n",
    "print(x[0, 1, 2])"
   ]
  },
  {
   "cell_type": "markdown",
   "metadata": {},
   "source": [
    "## Copies and views <a name=\"view\" />"
   ]
  },
  {
   "cell_type": "code",
   "execution_count": null,
   "metadata": {},
   "outputs": [],
   "source": [
    "x = np.empty(shape=(2, 3))\n",
    "print(id(x))\n",
    "x += 1        # in-place operator --> leaves reference as is\n",
    "print(id(x))\n",
    "x = x + 1     # not an in-place operator --> creates a copy\n",
    "print(id(x))\n",
    "print(x.base)"
   ]
  },
  {
   "cell_type": "code",
   "execution_count": null,
   "metadata": {},
   "outputs": [],
   "source": [
    "def func(x):\n",
    "    print(\"id(x) = {}\".format(id(x)))\n",
    "    print(x.flags.owndata)\n",
    "    \n",
    "y = np.empty(shape=(2, 2))\n",
    "print(\"id(y) = {}\".format(id(y)))\n",
    "func(y)    # arguments are always passed by reference"
   ]
  },
  {
   "cell_type": "code",
   "execution_count": null,
   "metadata": {},
   "outputs": [],
   "source": [
    "def sep(n=5):\n",
    "    print('\\n' + n * '-' + '\\n')\n",
    "    \n",
    "y = np.random.randint(11, size=(2, 3)) - 5\n",
    "\n",
    "w = y\n",
    "print(w is y)           # True\n",
    "print(w.base is y)      # False, w is y\n",
    "print(w.base is y.base) # True, w is y\n",
    "print(w.flags.owndata)  # True, since y owns data and w is y\n",
    "sep()\n",
    "\n",
    "x = y.view()            # create a view only, no ownership\n",
    "print(x is y)           # False, it is a reference to y\n",
    "print(x.base is y)      # True, the base reference of x is y\n",
    "print(x.flags.owndata)  # False, x is not the owner\n",
    "\n",
    "sep()\n",
    "z = y.copy()            # create a copy, ownership\n",
    "print(z is y)           # False\n",
    "print(z.base is y)      # False, z independent of y\n",
    "print(z.flags.owndata)  # True, z is the owner"
   ]
  },
  {
   "cell_type": "code",
   "execution_count": null,
   "metadata": {},
   "outputs": [],
   "source": [
    "def sep(n=5):\n",
    "    print('\\n' + n * '-' + '\\n')\n",
    "    \n",
    "x = np.random.randint(10, size=(2, 3, 4)) # how confusing to use size here !\n",
    "print(x.size)   # 24 elements\n",
    "print(x.shape)  # shape (2, 3, 4)\n",
    "print(x)\n",
    "sep()\n",
    "\n",
    "y = x[:, 1, :]  # shape (2, 4)\n",
    "print(y.shape)\n",
    "y[0, 0] = -y[0, 0]\n",
    "\n",
    "print(x)        # y is a reference to a part of x! it's a \"view\", not a \"copy\"!"
   ]
  },
  {
   "cell_type": "markdown",
   "metadata": {},
   "source": [
    "## advanced indexing and broadcasting <a name=\"broadcasting\" />"
   ]
  },
  {
   "cell_type": "code",
   "execution_count": null,
   "metadata": {},
   "outputs": [],
   "source": [
    "def sep(n=5):\n",
    "    print('\\n' + n * '-' + '\\n')\n",
    "\n",
    "x = np.arange(12) * 2\n",
    "print(x[np.array([1, 1, 3])])                   # [2, 2, 6]\n",
    "sep()\n",
    "print(x[np.array([[1, 1], [1, 0]])])            # [[2, 2], [2, 0]]\n",
    "sep()\n",
    "print(x.resize(3, 4))                           # resize x to [[0, 2, 4, 6], ...] in-place, returns None!\n",
    "sep()\n",
    "print(x)\n",
    "sep()\n",
    "print(x[np.array([1, 1]), np.array([0, 3])])    # returns [8, 14]"
   ]
  },
  {
   "cell_type": "code",
   "execution_count": null,
   "metadata": {},
   "outputs": [],
   "source": [
    "x = np.random.normal(size=(1000, 4), loc=10, scale=4)\n",
    "m = x.mean(axis=0)\n",
    "s = x.std(axis=0)\n",
    "print(\"variables have\\n\\tmean {loc}\\n\\t std {scale}\".format(loc=m, scale=s))\n",
    "print(m.shape)\n",
    "print(s.shape)\n",
    "print(\"standardising the variables ...\")\n",
    "x = (x - m) / s            # magic called broadcasting\n",
    "print(\"variables have\\n\\tmean {loc} \\n\\t std {scale}\".format(loc=x.mean(axis=0), scale=x.std(axis=0)))"
   ]
  }
 ],
 "metadata": {
  "kernelspec": {
   "display_name": "Python [conda env:inp]",
   "language": "python",
   "name": "conda-env-inp-py"
  },
  "latex_envs": {
   "LaTeX_envs_menu_present": true,
   "autocomplete": true,
   "bibliofile": "biblio.bib",
   "cite_by": "apalike",
   "current_citInitial": 1,
   "eqLabelWithNumbers": true,
   "eqNumInitial": 1,
   "hotkeys": {
    "equation": "Ctrl-E",
    "itemize": "Ctrl-I"
   },
   "labels_anchors": false,
   "latex_user_defs": false,
   "report_style_numbering": false,
   "user_envs_cfg": false
  },
  "varInspector": {
   "cols": {
    "lenName": 16,
    "lenType": 16,
    "lenVar": 40
   },
   "kernels_config": {
    "python": {
     "delete_cmd_postfix": "",
     "delete_cmd_prefix": "del ",
     "library": "var_list.py",
     "varRefreshCmd": "print(var_dic_list())"
    },
    "r": {
     "delete_cmd_postfix": ") ",
     "delete_cmd_prefix": "rm(",
     "library": "var_list.r",
     "varRefreshCmd": "cat(var_dic_list()) "
    }
   },
   "types_to_exclude": [
    "module",
    "function",
    "builtin_function_or_method",
    "instance",
    "_Feature"
   ],
   "window_display": false
  }
 },
 "nbformat": 4,
 "nbformat_minor": 2
}
