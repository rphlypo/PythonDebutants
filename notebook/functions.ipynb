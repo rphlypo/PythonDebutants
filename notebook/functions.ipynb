{
 "cells": [
  {
   "cell_type": "markdown",
   "metadata": {},
   "source": [
    "# Functions\n",
    "\n",
    "1. [function arguments](#function arguments)\n",
    "1. [derangements](#derangements)\n",
    "1. [variable scope](#variable scope)\n",
    "\n",
    "## Function arguments <a name=\"function arguments\" />"
   ]
  },
  {
   "cell_type": "code",
   "execution_count": null,
   "metadata": {
    "collapsed": true
   },
   "outputs": [],
   "source": [
    "def pow(x, a=2):\n",
    "    return x ** a"
   ]
  },
  {
   "cell_type": "code",
   "execution_count": null,
   "metadata": {},
   "outputs": [],
   "source": [
    "y = func() # try different function calls\n",
    "print(y)"
   ]
  },
  {
   "cell_type": "markdown",
   "metadata": {},
   "source": [
    "#### Illustrating the packing and unpacking"
   ]
  },
  {
   "cell_type": "code",
   "execution_count": null,
   "metadata": {},
   "outputs": [],
   "source": [
    "def multiargs(*args, **kwargs):\n",
    "    print(args)\n",
    "    print(kwargs)\n",
    "\n",
    "multiargs(3, 'hi', ['a', 'b', 'c'], x=1, y='y', z=[1, 2, 3])"
   ]
  },
  {
   "cell_type": "markdown",
   "metadata": {},
   "source": [
    "## derangements <a name=\"derangments\" />\n",
    "Let $!n$ be the number of ways one can permute $n$ elements, without having any of them unaltered (the $n$ hat problem: let $n$ men enter a room and exchange their hats so that no man returns home with his own hat)\n",
    "\n",
    "_HINT_: use recursion"
   ]
  },
  {
   "cell_type": "code",
   "execution_count": null,
   "metadata": {
    "collapsed": true
   },
   "outputs": [],
   "source": [
    "def derangement(n):\n",
    "    \"\"\" computes the number of derangements of n items\n",
    "    \"\"\""
   ]
  },
  {
   "cell_type": "markdown",
   "metadata": {},
   "source": [
    "#### implement the permutation function\n",
    "compute the number of ways one can permute $n$ elements ($n!$), using recursion, and show that \n",
    "$$\n",
    "\\frac{!n}{n!}\\xrightarrow{n\\to\\infty}\\frac{1}{e}\n",
    "$$\n",
    "\n",
    "_HINT_: $n=20$ is already fairly close to $+\\infty$\n",
    "\n",
    "_HINT 2_: you may want to import some function from the `math` module"
   ]
  },
  {
   "cell_type": "code",
   "execution_count": null,
   "metadata": {
    "collapsed": true
   },
   "outputs": [],
   "source": [
    "def factorial(n):\n",
    "    \"\"\" computes the number of permutations of n items\n",
    "    \"\"\""
   ]
  },
  {
   "cell_type": "code",
   "execution_count": null,
   "metadata": {},
   "outputs": [],
   "source": [
    "for k in range(2, 25):  # the following sequence should converge to 1/e\n",
    "    print(derangement(k) / factorial(k))"
   ]
  },
  {
   "cell_type": "markdown",
   "metadata": {},
   "source": [
    "## Variable scope <a name=\"variable scope\" />"
   ]
  },
  {
   "cell_type": "code",
   "execution_count": null,
   "metadata": {},
   "outputs": [],
   "source": [
    "def add(x = 3, y = 5):\n",
    "    return x + y + z  # bad habit: difficult to foresee what z will be at function call !\n",
    "z = 3\n",
    "print(add())\n",
    "z = 2\n",
    "print(add())"
   ]
  },
  {
   "cell_type": "markdown",
   "metadata": {},
   "source": [
    "#### Better is to use decorators\n",
    "Can't we just change the behaviour of `add` without changing the function (for backward compatibility for instance)\n",
    "\n",
    "Let's make addition an $n$-ary operation instead of just a binary one"
   ]
  },
  {
   "cell_type": "code",
   "execution_count": null,
   "metadata": {},
   "outputs": [],
   "source": [
    "def nary(func):\n",
    "    def func_wrapper(*args, **kwargs):\n",
    "        values = list(args) + [kwargs[d] for d in kwargs.keys()]\n",
    "        if not len(values):\n",
    "            return func\n",
    "        elif len(values) <= 2 and ('x' in kwargs.keys() or 'y' in kwargs.keys()):\n",
    "            return func(*args, **kwargs)\n",
    "        else:\n",
    "            f = func(values[-1], values[-2])\n",
    "            values.pop()\n",
    "            values.pop()\n",
    "            while values:\n",
    "                f = func(f, values[-1])\n",
    "                values.pop()\n",
    "            return f\n",
    "    return func_wrapper\n",
    "\n",
    "@nary\n",
    "def add(x = 3, y = 5):\n",
    "    return x + y\n",
    "\n",
    "print(add(10, z = 6, x = 3, y = 5))\n",
    "\n",
    "@nary\n",
    "def mult(x = 1, y = 2):\n",
    "    return x * y\n",
    "\n",
    "print(mult(1, 2, 3, 4))"
   ]
  }
 ],
 "metadata": {
  "kernelspec": {
   "display_name": "Python [conda env:inp]",
   "language": "python",
   "name": "conda-env-inp-py"
  },
  "language_info": {
   "codemirror_mode": {
    "name": "ipython",
    "version": 3
   },
   "file_extension": ".py",
   "mimetype": "text/x-python",
   "name": "python",
   "nbconvert_exporter": "python",
   "pygments_lexer": "ipython3",
   "version": "3.6.3"
  },
  "latex_envs": {
   "LaTeX_envs_menu_present": true,
   "autocomplete": true,
   "bibliofile": "biblio.bib",
   "cite_by": "apalike",
   "current_citInitial": 1,
   "eqLabelWithNumbers": true,
   "eqNumInitial": 1,
   "hotkeys": {
    "equation": "Ctrl-E",
    "itemize": "Ctrl-I"
   },
   "labels_anchors": false,
   "latex_user_defs": false,
   "report_style_numbering": false,
   "user_envs_cfg": false
  },
  "varInspector": {
   "cols": {
    "lenName": 16,
    "lenType": 16,
    "lenVar": 40
   },
   "kernels_config": {
    "python": {
     "delete_cmd_postfix": "",
     "delete_cmd_prefix": "del ",
     "library": "var_list.py",
     "varRefreshCmd": "print(var_dic_list())"
    },
    "r": {
     "delete_cmd_postfix": ") ",
     "delete_cmd_prefix": "rm(",
     "library": "var_list.r",
     "varRefreshCmd": "cat(var_dic_list()) "
    }
   },
   "types_to_exclude": [
    "module",
    "function",
    "builtin_function_or_method",
    "instance",
    "_Feature"
   ],
   "window_display": false
  }
 },
 "nbformat": 4,
 "nbformat_minor": 2
}
