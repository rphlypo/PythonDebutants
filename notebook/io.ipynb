{
 "cells": [
  {
   "cell_type": "markdown",
   "metadata": {},
   "source": [
    "# handling input/output\n",
    "\n",
    "1. [file handling](#file handling)\n",
    "1. [modules](#modules)"
   ]
  },
  {
   "cell_type": "markdown",
   "metadata": {},
   "source": [
    "## File handling <a name=\"file handling\" />\n",
    "The different modes in which a file can be opened can be found at [reading and writing files](https://docs.python.org/3.6/tutorial/inputoutput.html#reading-and-writing-files)"
   ]
  },
  {
   "cell_type": "code",
   "execution_count": null,
   "metadata": {
    "collapsed": true
   },
   "outputs": [],
   "source": [
    "fid = open(\"test.txt\", \"w+\")\n",
    "print(\"working with file: file open? {}\".format(not(fid.closed)))\n",
    "if not fid.closed:\n",
    "    print(\"do not forget to close your file to avoid data corruption\")\n",
    "fid.close()\n",
    "print(\"stopped working with file: file open? {}\\n\".format(not(fid.closed)))\n",
    "\n",
    "with open(\"test.txt\", \"r\") as fid:\n",
    "    print(\"context active: file open? {}\".format(not(fid.closed)))\n",
    "print(\"context inactive: file open? {}\".format(not(fid.closed)))"
   ]
  },
  {
   "cell_type": "markdown",
   "metadata": {},
   "source": [
    "### Making a word histogram\n",
    "_HINT:_ Search for \"Aligning the text and specifying a width\" on [formatting strings](https://docs.python.org/3/library/string.html#format-string-syntax)"
   ]
  },
  {
   "cell_type": "code",
   "execution_count": null,
   "metadata": {
    "collapsed": true
   },
   "outputs": [],
   "source": [
    "from string import ascii_letter\n",
    "from operator import item_getter\n",
    "from urllib.request import urlopen\n",
    "\n",
    "d = dict() # initialise an empty dictionary\n",
    "\n",
    "with urlopen(\"http://www.textfiles.com/science/kennedy.txt\") as f: # acts just as open(filename, \"r\")\n",
    "    for line in f:\n",
    "        for word in line.split():\n",
    "            word = word.decode(\"ascii\") # binary strings --> ascii strings\n",
    "            word = \"\".join([c for c in word.lower() if c in ascii_letters]) # make lower case, purge punctuation\n",
    "            # *** to complete *** : use the dictionary d to store word frequencies\n",
    "\n",
    "# sorting the dictionary such that words with highest frequency appear first\n",
    "ordered_d = OrderedDict(sorted(d.items(), key=lambda x: x[1])[::-1] ) \n",
    "\n",
    "# printing\n",
    "for k in ordered.keys():\n",
    "    \"\"\"\n",
    "    *** to complete *** with print statement such as to print lines with words and their frequency\n",
    "    word1      : +++++++\n",
    "    long_word2 : +++\n",
    "    \"\"\""
   ]
  },
  {
   "cell_type": "markdown",
   "metadata": {},
   "source": [
    "## Modules <a name=\"modules\" />"
   ]
  },
  {
   "cell_type": "code",
   "execution_count": null,
   "metadata": {
    "collapsed": true
   },
   "outputs": [],
   "source": [
    "log(100)/log(10)"
   ]
  },
  {
   "cell_type": "markdown",
   "metadata": {},
   "source": [
    "#### `log` is a function in the `math` module\n",
    "after executing the next cell, try executing the previous cell again!"
   ]
  },
  {
   "cell_type": "code",
   "execution_count": null,
   "metadata": {
    "collapsed": true
   },
   "outputs": [],
   "source": [
    "import math\n",
    "math.log(100)/math.log(10)"
   ]
  },
  {
   "cell_type": "markdown",
   "metadata": {},
   "source": [
    "#### creating your own module (easy starter's guide)\n",
    "For more information see the [modules tutorial](https://docs.python.org/3/tutorial/modules.html)"
   ]
  },
  {
   "cell_type": "code",
   "execution_count": null,
   "metadata": {
    "collapsed": true
   },
   "outputs": [],
   "source": [
    "print(a) # variable not defined"
   ]
  },
  {
   "cell_type": "code",
   "execution_count": null,
   "metadata": {
    "collapsed": true
   },
   "outputs": [],
   "source": [
    "import mymodule\n",
    "\n",
    "print(mymodule.a) # but it is in this module\n",
    "\n",
    "from mymodule import a\n",
    "\n",
    "print(a)"
   ]
  }
 ],
 "metadata": {
  "kernelspec": {
   "display_name": "Python [conda env:inp]",
   "language": "python",
   "name": "conda-env-inp-py"
  },
  "language_info": {
   "codemirror_mode": {
    "name": "ipython",
    "version": 3
   },
   "file_extension": ".py",
   "mimetype": "text/x-python",
   "name": "python",
   "nbconvert_exporter": "python",
   "pygments_lexer": "ipython3",
   "version": "3.6.3"
  },
  "latex_envs": {
   "LaTeX_envs_menu_present": true,
   "autocomplete": true,
   "bibliofile": "biblio.bib",
   "cite_by": "apalike",
   "current_citInitial": 1,
   "eqLabelWithNumbers": true,
   "eqNumInitial": 1,
   "hotkeys": {
    "equation": "Ctrl-E",
    "itemize": "Ctrl-I"
   },
   "labels_anchors": false,
   "latex_user_defs": false,
   "report_style_numbering": false,
   "user_envs_cfg": false
  },
  "varInspector": {
   "cols": {
    "lenName": 16,
    "lenType": 16,
    "lenVar": 40
   },
   "kernels_config": {
    "python": {
     "delete_cmd_postfix": "",
     "delete_cmd_prefix": "del ",
     "library": "var_list.py",
     "varRefreshCmd": "print(var_dic_list())"
    },
    "r": {
     "delete_cmd_postfix": ") ",
     "delete_cmd_prefix": "rm(",
     "library": "var_list.r",
     "varRefreshCmd": "cat(var_dic_list()) "
    }
   },
   "types_to_exclude": [
    "module",
    "function",
    "builtin_function_or_method",
    "instance",
    "_Feature"
   ],
   "window_display": false
  }
 },
 "nbformat": 4,
 "nbformat_minor": 2
}
