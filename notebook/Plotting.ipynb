{
 "cells": [
  {
   "cell_type": "markdown",
   "metadata": {},
   "source": [
    "# Plotting in Python\n",
    "\n",
    "1. [Introduction to Bokeh](#intro bokeh)\n",
    "1. [First Bokeh plot](#first bokeh plot)\n",
    "1. [interactive plotting](#interactive)\n",
    "1. [apps](#apps)\n",
    "\n",
    "## Introduction to Bokeh <a name=\"intro bokeh\" />\n",
    "\n",
    "For the `zip` command on line 13, see also [zip and unzip](https://docs.python.org/3/library/functions.html#zip)\n",
    "\n",
    "Display line numbers &rightarrow; <kbd>ESC</kbd>, then <kbd>L</kbd>\n",
    "Keyboard shortcuts &rightarrow; <kbd>ESC</kbd>, then <kbd>H</kbd>"
   ]
  },
  {
   "cell_type": "code",
   "execution_count": null,
   "metadata": {},
   "outputs": [],
   "source": [
    "from bokeh.plotting import figure, gridplot, show\n",
    "from bokeh.io import output_notebook\n",
    "import math\n",
    "from bokeh.models import ColumnDataSource\n",
    "\n",
    "# integrate into notebook\n",
    "output_notebook()\n",
    "\n",
    "# prepare some date\n",
    "N = 300\n",
    "x = [x * 4 * math.pi / (N - 1) for x in range(N)]\n",
    "y = [(math.sin(t), math.cos(t), math.cos(t) + math.sin(t)) for t in x] \n",
    "y0, y1, y2 = zip(*y)  \n",
    "\n",
    "# create a new plot\n",
    "s1 = figure(width=300, plot_height=300, title=\"cos\", y_axis_label=\"y\", x_axis_label=\"x\")\n",
    "s1.circle(x, y0, size=10, color=\"navy\", alpha=0.5)\n",
    "\n",
    "# NEW: create a new plot and share both ranges\n",
    "s2 = figure(width=300, height=300, x_range=s1.x_range, y_range=s1.y_range, title=\"sin\", x_axis_label=\"x\")\n",
    "s2.triangle(x, y1, size=10, color=\"firebrick\", alpha=0.5)\n",
    "\n",
    "# NEW: create a new plot and share only one range\n",
    "s3 = figure(width=300, height=300, x_range=s1.x_range, title=\"cos+sin\", x_axis_label=\"x\")\n",
    "s3.square(x, y2, size=10, color=\"olive\", alpha=0.5)\n",
    "\n",
    "# NEW: put the subplots in a gridplot\n",
    "p = gridplot([[s1, s2, s3]], toolbar_location=None)\n",
    "\n",
    "# show the results\n",
    "show(p)"
   ]
  },
  {
   "cell_type": "markdown",
   "metadata": {},
   "source": [
    "## First Bokeh plot <a name=\"first bokeh plot\" />\n",
    "\n",
    "1. A circle plot where the power of lists is illustrated (look at the size keyword argument)\n",
    "1. Make a figure with a line glyph `p.line(x, y)`\n",
    "1. Make a similar plot to the _rotating squares_ of _sodream_ (see below)\n",
    "\n",
    "![rotating squares](./extra/rotating_squares_by_sodream.jpg)"
   ]
  },
  {
   "cell_type": "code",
   "execution_count": null,
   "metadata": {},
   "outputs": [],
   "source": [
    "from bokeh.plotting import figure\n",
    "from bokeh.io import show, output_notebook\n",
    "from random import randint, uniform\n",
    "\n",
    "output_notebook()\n",
    "\n",
    "N = 20\n",
    "\n",
    "p = figure(title=\"My first Bokeh plot\")\n",
    "p.circle([uniform(-2, 2) for _ in range(N)], [uniform(-2, 2) for _ in range(N)],\n",
    "         size=[randint(2, 5)*5 for _ in range(N)],\n",
    "         color='navy', alpha=0.3)\n",
    "show(p)"
   ]
  },
  {
   "cell_type": "code",
   "execution_count": null,
   "metadata": {
    "collapsed": true
   },
   "outputs": [],
   "source": []
  },
  {
   "cell_type": "code",
   "execution_count": null,
   "metadata": {},
   "outputs": [],
   "source": []
  },
  {
   "cell_type": "markdown",
   "metadata": {},
   "source": [
    "## Bokeh app <a name=\"app\" />\n",
    "\n",
    "### An introduction to ipywidgets and interact\n",
    "\n",
    "Documentation of the [Jupyter ipywidgets](http://ipywidgets.readthedocs.io/en/stable/index.html). Look at how the interact function automatically chooses the interactive [widget](http://ipywidgets.readthedocs.io/en/stable/examples/Using%20Interact.html) as a function of your data type:\n",
    "\n",
    "| Keyword argument | Widget |\n",
    "|:--|:---|\n",
    "| `True` or `False` | Checkbox |\n",
    "| 'Hi there' | Text |\n",
    "| value or (min,max) or (min,max,step) if integers are passed | IntSlider |\n",
    "| value or (min,max) or (min,max,step) if floats are passed | FloatSlider |\n",
    "| ['orange','apple'] or {'one':1,'two':2} | Dropdown |"
   ]
  },
  {
   "cell_type": "code",
   "execution_count": null,
   "metadata": {
    "collapsed": true
   },
   "outputs": [],
   "source": [
    "from ipywidgets import interact\n",
    "\n",
    "def m(x, y):\n",
    "    return (x, y)\n",
    "\n",
    "interact(m, x=True, y=1.0) # using interact as a function modifier"
   ]
  },
  {
   "cell_type": "code",
   "execution_count": null,
   "metadata": {
    "collapsed": true
   },
   "outputs": [],
   "source": [
    "@interact(x=True, y=1.0)   # using interact as a decorator\n",
    "def g(x, y):\n",
    "    return (x, y)"
   ]
  },
  {
   "cell_type": "markdown",
   "metadata": {},
   "source": [
    "### Combining interact with Bokeh\n",
    "\n",
    "First load some modules"
   ]
  },
  {
   "cell_type": "code",
   "execution_count": null,
   "metadata": {},
   "outputs": [],
   "source": [
    "from ipywidgets import interact\n",
    "\n",
    "from bokeh.io import output_notebook, push_notebook, show\n",
    "from bokeh.plotting import figure\n",
    "from bokeh.models import ColumnDataSource\n",
    "\n",
    "from math import pi, sin   # a math constant and function\n",
    "\n",
    "output_notebook()          # show and push_notebook should send data to notebook"
   ]
  },
  {
   "cell_type": "markdown",
   "metadata": {},
   "source": [
    "Set up data and basic plot"
   ]
  },
  {
   "cell_type": "code",
   "execution_count": null,
   "metadata": {},
   "outputs": [],
   "source": [
    "# Set up data\n",
    "N = 200\n",
    "x = [2 * pi * t / (N-1) for t in range(N)]\n",
    "y = [sin(t) for t in x]\n",
    "\n",
    "# Set up figure\n",
    "p = figure(title=\"a simple interactive plotting example\", plot_height=300, plot_width=800, y_range=(-2.5, 2.5))\n",
    "r = p.line(x, y, line_width=2)\n",
    "h = show(p, notebook_handle=True)"
   ]
  },
  {
   "cell_type": "markdown",
   "metadata": {},
   "source": [
    "And now let the interaction come into play"
   ]
  },
  {
   "cell_type": "code",
   "execution_count": null,
   "metadata": {},
   "outputs": [],
   "source": [
    "print('Interact with {}'.format(h.doc.title))\n",
    "@interact(k=(.1, 10, .1), phi=(0., 2*pi, .1), a=(0., 2, .1), b=(-1., 1, .1))\n",
    "def update(k=1, phi=0, a=1, b=0):\n",
    "    r.data_source.data['y'] = [a * sin(k * t + phi) + b for t in x]\n",
    "    push_notebook(handle=h)"
   ]
  },
  {
   "cell_type": "code",
   "execution_count": null,
   "metadata": {},
   "outputs": [],
   "source": [
    "p=figure()\n",
    "show(p)"
   ]
  }
 ],
 "metadata": {
  "kernelspec": {
   "display_name": "Python [conda env:inp]",
   "language": "python",
   "name": "conda-env-inp-py"
  },
  "language_info": {
   "codemirror_mode": {
    "name": "ipython",
    "version": 3
   },
   "file_extension": ".py",
   "mimetype": "text/x-python",
   "name": "python",
   "nbconvert_exporter": "python",
   "pygments_lexer": "ipython3",
   "version": "3.6.3"
  },
  "latex_envs": {
   "LaTeX_envs_menu_present": true,
   "autocomplete": true,
   "bibliofile": "biblio.bib",
   "cite_by": "apalike",
   "current_citInitial": 1,
   "eqLabelWithNumbers": true,
   "eqNumInitial": 1,
   "hotkeys": {
    "equation": "Ctrl-E",
    "itemize": "Ctrl-I"
   },
   "labels_anchors": false,
   "latex_user_defs": false,
   "report_style_numbering": false,
   "user_envs_cfg": false
  },
  "varInspector": {
   "cols": {
    "lenName": 16,
    "lenType": 16,
    "lenVar": 40
   },
   "kernels_config": {
    "python": {
     "delete_cmd_postfix": "",
     "delete_cmd_prefix": "del ",
     "library": "var_list.py",
     "varRefreshCmd": "print(var_dic_list())"
    },
    "r": {
     "delete_cmd_postfix": ") ",
     "delete_cmd_prefix": "rm(",
     "library": "var_list.r",
     "varRefreshCmd": "cat(var_dic_list()) "
    }
   },
   "types_to_exclude": [
    "module",
    "function",
    "builtin_function_or_method",
    "instance",
    "_Feature"
   ],
   "window_display": false
  }
 },
 "nbformat": 4,
 "nbformat_minor": 2
}
