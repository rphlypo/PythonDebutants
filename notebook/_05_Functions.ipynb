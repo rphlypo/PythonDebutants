{
 "cells": [
  {
   "cell_type": "markdown",
   "metadata": {},
   "source": [
    "# 5. Functions\n",
    "\n",
    "1. [introduction](#intro)\n",
    "1. [function arguments](#function arguments)\n",
    "1. [nested functions](#nested functions)\n",
    "1. [zipping and unzipping](#zip)\n",
    "1. [variable scope](#variable scope)\n",
    "1. [decorators](#decorator)\n",
    "1. [mutable/immutable arguments](#mutable arguments)\n",
    "1. [Exercise: building a graph](#graph)\n",
    "\n"
   ]
  },
  {
   "cell_type": "markdown",
   "metadata": {},
   "source": [
    "## 5.1 Introduction <a name=\"intro\"/a>\n",
    "\n",
    "* a __function__ takes arguments, __operates__ on these, and (optionally) __returns__ a result\n",
    "\n",
    "  * function declaration: __def__\n",
    "\n",
    "  * function arguments: __positional__ or __keyword__-value\n",
    "  \n",
    "  * function definition is a compound statement: header + suite\n",
    "\n",
    "```python\n",
    "def function():\n",
    "    print(\"I'm called upon the function call\")\n",
    "\n",
    "def function_with_return():\n",
    "    print(\"I'm called upon the function call\")\n",
    "    return 1\n",
    "````\n",
    "\n",
    "  * __return__ statement (optional):  returns `tuple`\n",
    "  \n",
    "  * Valid function names are the same as the valid variable names (a function is a variable!)"
   ]
  },
  {
   "cell_type": "markdown",
   "metadata": {},
   "source": [
    "## 5.2 Function arguments <a name=\"function arguments\" />\n",
    "\n",
    "### 5.2.1 positional vs. keyword--value\n",
    "\n",
    "* positional or keyword--value\n",
    "\n",
    "  * positional &rightarrow; __required__ at function call &sim; `tuple`\n",
    "\n",
    "  * keyword--value pairs &sim; `dictionary`\n",
    "\n",
    "    * specify __default values__ at declaration\n",
    "\n",
    "    * after `positional` arguments in calls\n",
    "\n",
    "    * can be arbitrarily permuted, omitted, &#8230;\n",
    "\n",
    "\n",
    "* possible function calls based on positional/keyword arguments\n",
    "\n",
    "    ```python\n",
    "    def power(x, a=2):\n",
    "        \"\"\" function to compute the power a of x\n",
    "        arguments\n",
    "        ---------\n",
    "        x : the base\n",
    "        a : the exponent (defaults to 2)\n",
    "        \n",
    "        returns\n",
    "        -------\n",
    "        x^a\n",
    "        \"\"\"\n",
    "        return x ** a\n",
    "    \n",
    "    # different function calls\n",
    "    power(3)         # uses default a=2\n",
    "    power(3, 3)      # only positional arguments\n",
    "    power(4, a=3)    # positional followed by keyword argument\n",
    "    power(x=5, a=3)  # only keyword arguments\n",
    "    ```"
   ]
  },
  {
   "cell_type": "code",
   "execution_count": null,
   "metadata": {
    "collapsed": true
   },
   "outputs": [],
   "source": [
    "def power(x, a=2):\n",
    "    return x ** a"
   ]
  },
  {
   "cell_type": "code",
   "execution_count": null,
   "metadata": {
    "collapsed": true
   },
   "outputs": [],
   "source": [
    "y = power(3) # try different function calls with positional/keyword arguments\n",
    "# y = func(3), y = func(3, 3), y = func(x=4, a=1), y=func(5, a=3)\n",
    "print(y)"
   ]
  },
  {
   "cell_type": "markdown",
   "metadata": {},
   "source": [
    "#### What does the following code do?"
   ]
  },
  {
   "cell_type": "code",
   "execution_count": null,
   "metadata": {
    "collapsed": true
   },
   "outputs": [],
   "source": [
    "def square(x):\n",
    "    return x ** 2\n",
    "\n",
    "\n",
    "def cube(x):\n",
    "    return x ** 3\n",
    "\n",
    "\n",
    "operators = [square, cube]\n",
    "\n",
    "x = 2\n",
    "y = [op(x) for op in operators]"
   ]
  },
  {
   "cell_type": "markdown",
   "metadata": {},
   "source": [
    "### 5.2.3 argument annotation\n",
    "\n",
    "* function __annotation__ (optional metadata)\n",
    "\n",
    "  * `key: type` (positional) or `key: type = value` (keyword)\n",
    "  * `-> type` for return value\n",
    "\n",
    "    ```python\n",
    "    def pow(x: float, a: int = 2) -> float:\n",
    "        return x ** a\n",
    "    ```\n",
    "\n",
    "* does not have any incidence on the code execution!"
   ]
  },
  {
   "cell_type": "code",
   "execution_count": null,
   "metadata": {},
   "outputs": [],
   "source": [
    "def power(x: float, a: int = 2) -> float:\n",
    "    return float(x ** a)\n",
    "\n",
    "\n",
    "power(3, 1.1) # does work perfectly, no int is required, user should manage\n",
    "\n",
    "\n",
    "def power(x: float, a: int = 2) -> float:\n",
    "    if not isinstance(x, (int, float)):\n",
    "        raise TypeError('base should be of type float')\n",
    "    if not isinstance(a, int):\n",
    "        raise TypeError('exponent should be of type int')\n",
    "    return float(x ** a)"
   ]
  },
  {
   "cell_type": "markdown",
   "metadata": {},
   "source": [
    "### 5.2.4 packing and unpacking arguments\n",
    "\n",
    "* unpacking a tuple `tup` with `*tup`\n",
    "\n",
    "  * (1, 2, 3) &mapsto; 1, 2, 3\n",
    "\n",
    "\n",
    "* unpacking a dict `dic` with `**dic`\n",
    "\n",
    "  * {'a': 1, 'b': 2} &mapsto; a=1, b=2\n",
    "  \n",
    "  \n",
    "unpacking cannot be applied outside a function that must accept the number of arguments"
   ]
  },
  {
   "cell_type": "code",
   "execution_count": null,
   "metadata": {
    "collapsed": true
   },
   "outputs": [],
   "source": [
    "tup = (1, 2, 3)\n",
    "t = [*tup] # ok, implicit version of t = list(*tup)\n",
    "t = tuple(*tup) # not ok, tuple expects a single argument (container, list) to convert to tuple, here 3 arguments"
   ]
  },
  {
   "cell_type": "code",
   "execution_count": null,
   "metadata": {
    "collapsed": true
   },
   "outputs": [],
   "source": [
    "tup = (1, 2, 3)\n",
    "print(tup)\n",
    "print(*tup) # print takes any number of arguments\n",
    "d = {'a': 1, 'b': 2}\n",
    "print(d)\n",
    "print('a={a} and b={b}'.format(**d)) # keyword-value string formatting "
   ]
  },
  {
   "cell_type": "code",
   "execution_count": null,
   "metadata": {
    "collapsed": true
   },
   "outputs": [],
   "source": [
    "def multiargs(*args, **kwargs):\n",
    "    print(type(args))\n",
    "    print(args)\n",
    "    print(type(kwargs))\n",
    "    print(kwargs)\n",
    "\n",
    "    \n",
    "multiargs(3, 'hi', ['a', 'b', 'c'], x=1, y='y', z=[1, 2, 3])"
   ]
  },
  {
   "cell_type": "markdown",
   "metadata": {},
   "source": [
    "## 5.3 nested functions <a name=\"nested functions\" />\n",
    "\n",
    "### 5.3.1 functions returning functions\n",
    "\n",
    "Look at the below function definition: how would you use the function `func1`?"
   ]
  },
  {
   "cell_type": "code",
   "execution_count": null,
   "metadata": {
    "collapsed": true
   },
   "outputs": [],
   "source": [
    "def func1(a):\n",
    "    def func2(b):   # b is local to 'func2'\n",
    "        return b, a # \"a\" known in enclosing scope of 'func1', as a context for 'func2'\n",
    "    return func2"
   ]
  },
  {
   "cell_type": "code",
   "execution_count": null,
   "metadata": {
    "collapsed": true
   },
   "outputs": [],
   "source": [
    "f = func1(2)\n",
    "g = func1(4)\n",
    "\n",
    "print(f) # this is a function that can be called later\n",
    "\n",
    "z = f(3) # now calling 'f' with argument 3\n",
    "print(z) # 2 has been 'frozen' as a context for function 'f'\n",
    "\n",
    "print(g(3)) # 4 has been 'frozen' as a context for function 'g'"
   ]
  },
  {
   "cell_type": "markdown",
   "metadata": {},
   "source": [
    "**nested functions** is a very pythonic way of programming: look into [partial()](https://docs.python.org/3/library/functools.html#functools.partial). Understanding this, affirms you have solid knowledge of Python's functional programming framework.\n",
    "\n",
    "#### a more practical example"
   ]
  },
  {
   "cell_type": "code",
   "execution_count": null,
   "metadata": {
    "collapsed": true
   },
   "outputs": [],
   "source": [
    "def powerf(a=2):\n",
    "    def f(x):\n",
    "        return x ** a\n",
    "    return f\n",
    "\n",
    "\n",
    "x = 3\n",
    "p = powerf(2) # this is a function, not yet evaluated\n",
    "print(p(3))   # this evaluates the function at 3\n",
    "\n",
    "print(powerf(2)(3)) # this returns the function powerf(2) evaluated at 3"
   ]
  },
  {
   "cell_type": "markdown",
   "metadata": {},
   "source": [
    "### 5.3.2 argument passing\n",
    "\n",
    "One can pass through some arguments to another function call, without having to deal with each of the arguments separately"
   ]
  },
  {
   "cell_type": "code",
   "execution_count": null,
   "metadata": {
    "collapsed": true
   },
   "outputs": [],
   "source": [
    "# argument passing (recursion)\n",
    "def mult(a, *args):\n",
    "    if args:\n",
    "        print(a, args)\n",
    "        return a * mult(*args)\n",
    "    else:\n",
    "        print(a)\n",
    "        return a\n",
    "    \n",
    "\n",
    "t = tuple(range(1, 10))    \n",
    "mult(*t) # factorial of 9"
   ]
  },
  {
   "cell_type": "markdown",
   "metadata": {},
   "source": [
    "#### Exercise: derangements\n",
    "Let $!n$ be the number of ways one can permute $n$ elements, without having any of them unaltered (the $n$ hat problem: let $n$ men enter a room and exchange their hats so that no man returns home with his own hat)\n",
    "\n",
    "_HINT_: use recursion"
   ]
  },
  {
   "cell_type": "code",
   "execution_count": null,
   "metadata": {
    "collapsed": true
   },
   "outputs": [],
   "source": [
    "def derangement(n):\n",
    "    \"\"\" computes the number of derangements of n items\n",
    "    \n",
    "    The recursion resides in taking a single element, (n-1) choices for taking a second element :\n",
    "       * either they exchange with each other -> remains to compute a derangement on (n-2) elements\n",
    "       * either they do not -> remains to compute a derangement on (n-1) elements\n",
    "    \"\"\"\n",
    "    if n == 2:\n",
    "        return 1\n",
    "    elif n==3:\n",
    "        return 2\n",
    "    else:\n",
    "        return (n-1) * (derangement(n-2) + derangement(n-1))"
   ]
  },
  {
   "cell_type": "markdown",
   "metadata": {},
   "source": [
    "#### implement the permutation function\n",
    "compute the number of ways one can permute $n$ elements ($n!$), using recursion, and show that \n",
    "$$\n",
    "\\frac{!n}{n!}\\xrightarrow{n\\to\\infty}\\frac{1}{e}\n",
    "$$\n",
    "\n",
    "_HINT_: $n=20$ is already fairly close to $+\\infty$ &hellip;\n",
    "\n",
    "_HINT 2_: you may want to import some function from the `math` module"
   ]
  },
  {
   "cell_type": "code",
   "execution_count": null,
   "metadata": {
    "collapsed": true
   },
   "outputs": [],
   "source": [
    "def factorial(n):\n",
    "    \"\"\" computes the number of permutations of n items\n",
    "    \"\"\"\n",
    "    # to complete\n",
    "    \n",
    "    # first solution\n",
    "    # if n == 0:\n",
    "    #     return 1\n",
    "    # return n * factorial(n-1)\n",
    "    \n",
    "    # second solution\n",
    "    return mult(*tuple(range(1, n+1)))"
   ]
  },
  {
   "cell_type": "code",
   "execution_count": null,
   "metadata": {
    "collapsed": true
   },
   "outputs": [],
   "source": [
    "from math import exp\n",
    "# testing the hypothesis : complete\n",
    "for k in range(2, 25):  # the following sequence should converge to 1/e\n",
    "    print(derangement(k) / factorial(k) - 1 / exp(1))"
   ]
  },
  {
   "cell_type": "markdown",
   "metadata": {},
   "source": [
    "### 5.3.3  the anonymous function\n",
    "\n",
    "* lambda = function with no name\n",
    "\n",
    "  * `lambda <arguments> : <one-liner function expression>`\n",
    "\n",
    "    ```python\n",
    "    sq = lambda x: x ** 2  # matlab: sq = @(x) x^2\n",
    "    print(sq(3))\n",
    "    ```\n",
    "\n",
    "* comes in handy when a simple function is to be returned\n",
    "\n",
    "    ```python\n",
    "    def power(a=2):\n",
    "        return lambda x: x ** a\n",
    "    cube = power(3)\n",
    "    print(cube(3))\n",
    "    ```"
   ]
  },
  {
   "cell_type": "code",
   "execution_count": null,
   "metadata": {
    "collapsed": true
   },
   "outputs": [],
   "source": [
    "sq = lambda x: x ** 2\n",
    "print(sq(3))\n",
    "\n",
    "def power(a=2):\n",
    "    return lambda x: x ** a\n",
    "\n",
    "\n",
    "print([(k, power(a=k)(2)) for k in range(11)])"
   ]
  },
  {
   "cell_type": "markdown",
   "metadata": {},
   "source": [
    "## 5.4 zipping and unzipping <a name=\"zip\"/>\n",
    "\n",
    "* suppose we have two lists\n",
    "\n",
    "    ```python\n",
    "    x = [1, 2, 3]\n",
    "    y = [\"a\", \"b\", \"c\"]\n",
    "    ```\n",
    "\n",
    "* zipping: list of tuples &mapsto; multiple lists\n",
    "\n",
    "    ```python\n",
    "    z = zip(x, y)\n",
    "    # z = [(1, \"a\"), (2, \"b\"), (3, \"c\")]\n",
    "    ```\n",
    "\n",
    "* unzipping: multiple lists &mapsto; list of tuples\n",
    "\n",
    "    ```python\n",
    "    x, y = zip(*z)\n",
    "    # x, y = [1, 2, 3], [\"a\", \"b\", \"c\"]\n",
    "    ```"
   ]
  },
  {
   "cell_type": "code",
   "execution_count": null,
   "metadata": {
    "collapsed": true
   },
   "outputs": [],
   "source": [
    "x, y = [1, 2, 3], ['a', 'b', 'c']\n",
    "print(x, y)\n",
    "z = [_ for _ in zip(x, y)] # zip creates an iterator, not an iterable\n",
    "print(z)\n",
    "x_, y_ = zip(*z)\n",
    "print(x_, y_)"
   ]
  },
  {
   "cell_type": "markdown",
   "metadata": {},
   "source": [
    "#### enumerate: a zip operation\n",
    "\n",
    "`enumerate(container)` creates an iterator, not an iterable, it is similar to `[(k, container[k]) for k in range(len(container))]`"
   ]
  },
  {
   "cell_type": "code",
   "execution_count": null,
   "metadata": {
    "collapsed": true
   },
   "outputs": [],
   "source": [
    "y = ['a', 'b', 'c']\n",
    "for n, el in enumerate(y):\n",
    "    print('element {} is {}'.format(n, el))\n",
    "    \n",
    "    \n",
    "n_, y_ = zip(*[_ for _ in enumerate(y)])\n",
    "print(y_)\n",
    "\n",
    "\n",
    "# try doing the same using the iterable list\n",
    "  \n",
    "z = [(k, y[k]) for k in range(len(y))] # this is an iterable!\n",
    "\n",
    "for n, el in z:\n",
    "    print('element {} is {}'.format(n, el))"
   ]
  },
  {
   "cell_type": "markdown",
   "metadata": {},
   "source": [
    "## 5.5 Variable scope <a name=\"variable scope\" />\n",
    "\n",
    "It is crucial to understand the lifetime (scope) of your variables.\n",
    "\n",
    "### 5.5.1 Namespaces / Contexts\n",
    "\n",
    "make  names __unique__ to avoid ambiguity: orange &rightarrow; fruit or colour ?\n",
    "    \n",
    "* Python namespace = `dict`: name/key &mapsto; value\n",
    "\n",
    "\n",
    "* namespaces\n",
    "\n",
    "  * __built-in__ names (`while`, `def`, &#8230;): python start-up &rightarrow; quitting python\n",
    "  * __global__ namespace of module: module `import` _until_ end of script\n",
    "  * __local__ namespace of function: function call _until_ return/`Exception`\n",
    "  \n",
    "### 5.5.2 Variable scope\n",
    "\n",
    "* _region_ of program where variable name is unambiguous\n",
    "\n",
    "  * access to variable without namespace prefix\n",
    "  * defined statically, used dynamically\n",
    "\n",
    "\n",
    "* different levels (as per search priority)\n",
    "\n",
    "  * innermost scope: local variables\n",
    "  * scopes of enclosing functions (__closure__): from nearest to furthest\n",
    "  * next-to-last: module global variables\n",
    "  * outermost: built-in [functions](https://docs.python.org/3.6/library/functions.html) and [types](https://docs.python.org/3.6/library/stdtypes.html)"
   ]
  },
  {
   "cell_type": "code",
   "execution_count": null,
   "metadata": {
    "collapsed": true
   },
   "outputs": [],
   "source": [
    "def add(x=3, y=5):\n",
    "    return x + y\n",
    "print(add())\n",
    "print(add(2, 4))"
   ]
  },
  {
   "cell_type": "markdown",
   "metadata": {},
   "source": [
    "Now suppose we would like to extend the functionality of the above binary operator, to add two or three numbers. One possible solution is given below:"
   ]
  },
  {
   "cell_type": "code",
   "execution_count": null,
   "metadata": {
    "collapsed": true
   },
   "outputs": [],
   "source": [
    "def add(x=3, y=5):\n",
    "    return x + y + z  # bad habit: difficult to foresee what z will be at function call !\n",
    "z = 0         # makes \"add\" behave like a binary operator\n",
    "print(add())\n",
    "z = 3         # makes \"add\" behave like a ternary operator\n",
    "print(add())"
   ]
  },
  {
   "cell_type": "markdown",
   "metadata": {},
   "source": [
    "### 5.5.3 Closure\n",
    "\n",
    "* __pure function__: return value = $\\mathcal f$(args)\n",
    "\n",
    "  * does not depend on context, only on its arguments\n",
    "  * no side-effects\n",
    "  * only local variables\n",
    "\n",
    "\n",
    "* impure functions almost always have undesirable side effects"
   ]
  },
  {
   "cell_type": "code",
   "execution_count": null,
   "metadata": {
    "collapsed": true
   },
   "outputs": [],
   "source": [
    "def pure(x):\n",
    "    print(x) # x is local and passed by argument\n",
    "\n",
    "        \n",
    "def impure():\n",
    "    print(x) # x is taken from the enclosing scope (hence the executing script)\n",
    "\n",
    "    \n",
    "def impure2():\n",
    "    print(z)\n",
    "    \n",
    "x, y = \"spam\", \"eggs\"\n",
    "pure(x)\n",
    "pure(y)\n",
    "impure()  # result? must read function body\n",
    "impure2() # result? must read function body ... and the executing script"
   ]
  },
  {
   "cell_type": "markdown",
   "metadata": {},
   "source": [
    "## 5.6 Decorators <a name=\"decorator\"/>\n",
    "\n",
    "Changing a function ad hoc by using __function wrappers__\n",
    "\n",
    "* define $\\mathcal g: \\mathcal f\\mapsto \\mathcal h$\n",
    "\n",
    "* goal: extend/modify functionality of $\\mathcal f$"
   ]
  },
  {
   "cell_type": "code",
   "execution_count": null,
   "metadata": {
    "collapsed": true
   },
   "outputs": [],
   "source": [
    " def modifier(func):\n",
    "    def wrapper(x, y):\n",
    "        return func(x, -y)\n",
    "    return wrapper\n",
    "\n",
    "def add(x, y):\n",
    "    return x + y\n",
    "\n",
    "# function of function notation\n",
    "add = modifier(add)  # new \"add\"\n",
    "print(add(2, 3))\n",
    "\n",
    "# decorator notation -> specifies a 'context' of the function\n",
    "@modifier\n",
    "def add2(x, y):\n",
    "    return x + y\n",
    "\n",
    "print(add2(2, 3))"
   ]
  },
  {
   "cell_type": "code",
   "execution_count": null,
   "metadata": {
    "collapsed": true
   },
   "outputs": [],
   "source": [
    "def nary_add(x, *args): # 'nary_add' is a wrapper to 'add'\n",
    "    \"\"\" addition of an arbitrary number of arguments, mixed positional and keywords\n",
    "    \"\"\"\n",
    "    def add(x, y): # this will only work for the specific function 'add'\n",
    "        return x + y\n",
    "    \n",
    "    if args:\n",
    "        return add(x, nary_add(*args))\n",
    "    else:\n",
    "        return x\n",
    "       \n",
    "nary_add(1, 2, 3, 4)"
   ]
  },
  {
   "cell_type": "markdown",
   "metadata": {},
   "source": [
    "#### Better is to use decorators\n",
    "Can't we just change the behaviour of `add` without changing the initial function definition (for backward compatibility, for instance) ?\n",
    "\n",
    "Let's make addition an $n$-ary operation instead of just a binary one using a `decorator`."
   ]
  },
  {
   "cell_type": "code",
   "execution_count": null,
   "metadata": {
    "collapsed": true
   },
   "outputs": [],
   "source": [
    "def nary(func): # this will take any binary function and make it into an n-ary function\n",
    "    def func_wrapper(*args): # recursion like \n",
    "        if len(args) > 1:\n",
    "            return func(args[0], func_wrapper(*args[1:]))\n",
    "        else:\n",
    "            return args[0]\n",
    "    return func_wrapper\n",
    "            \n",
    "\n",
    "x = 3\n",
    "y = 5\n",
    "\n",
    "@nary\n",
    "def add(x, y):\n",
    "    return x + y\n",
    "\n",
    "add(10, 6, 3, 5)"
   ]
  },
  {
   "cell_type": "markdown",
   "metadata": {},
   "source": [
    "The generality of the decorator allows application to other functions"
   ]
  },
  {
   "cell_type": "code",
   "execution_count": null,
   "metadata": {
    "collapsed": true
   },
   "outputs": [],
   "source": [
    "@nary\n",
    "def mult(x, y):\n",
    "    return x * y\n",
    "\n",
    "@nary\n",
    "def power(x, y):\n",
    "    return x ** y\n",
    "\n",
    "print(mult(1, 2, 3, 4))\n",
    "print(power(1, 2, 3, 4))"
   ]
  },
  {
   "cell_type": "markdown",
   "metadata": {},
   "source": [
    "## 5.7 mutable and immutable arguments <a name=\"mutable arguments\" />\n",
    "\n",
    "* immutable arguments only live locally (argument passed value-wise)\n",
    "\n",
    "\n",
    "* mutable arguments live globally (argument passed reference-wise)\n",
    "\n",
    "\n",
    "* in memory organisation\n",
    "\n",
    "#### immutable"
   ]
  },
  {
   "cell_type": "code",
   "execution_count": null,
   "metadata": {
    "collapsed": true
   },
   "outputs": [],
   "source": [
    "x = 2 # create memory with 'int 2', point x to 'int 2'\n",
    "x = 3 # create memory with 'int 3', detach x from 'int 2' and point it to 'int 3'\n",
    "y = 3\n",
    "print(x == y)\n",
    "print(x is y) # points to the same memory space!"
   ]
  },
  {
   "cell_type": "code",
   "execution_count": null,
   "metadata": {
    "collapsed": true
   },
   "outputs": [],
   "source": [
    "tupx = (1, 2)\n",
    "tupy = (1, 2)\n",
    "print(tupx == tupy)\n",
    "print(tupx is tupy) # they are not the same tuple by construction\n",
    "print(tupx.__hash__() == tupy.__hash__()) # they can be used to index, since they have a same hashable id"
   ]
  },
  {
   "cell_type": "markdown",
   "metadata": {},
   "source": [
    "#### mutable\n",
    "\n",
    "mutable objects do not have a `__hash__` method"
   ]
  },
  {
   "cell_type": "code",
   "execution_count": null,
   "metadata": {
    "collapsed": true
   },
   "outputs": [],
   "source": [
    "x = [1, 2] # create memory with list head, point x to list head, create entries int 1, int 2 and joint them to list\n",
    "x[0] = 3   # change int 1 to int 3 in the list, but it stays the same list (same list header)\n",
    "print(x)\n",
    "y = [3, 2]\n",
    "print(x == y) # the lists contain the same values\n",
    "print(x is y) # they are not the same list!"
   ]
  },
  {
   "cell_type": "code",
   "execution_count": null,
   "metadata": {
    "collapsed": true
   },
   "outputs": [],
   "source": [
    "y = x = [1, 2] # the same as x = [1, 2]; y = x, both are pointers to the same list!\n",
    "y[1] = 3\n",
    "print(x) # changing y changes x (it is the same list)\n",
    "print(x is y)\n",
    "z = x.copy()\n",
    "z[0] = 10 # after copying references are detached and the list of x is copied, then referenced by z\n",
    "print(x)"
   ]
  },
  {
   "cell_type": "code",
   "execution_count": null,
   "metadata": {
    "collapsed": true
   },
   "outputs": [],
   "source": [
    "def change(x: int) -> None:\n",
    "    \"\"\" change the value of x locally\n",
    "    \"\"\"\n",
    "    x = 3\n",
    "\n",
    "y = 5\n",
    "print('before: ', y)\n",
    "change(y)\n",
    "print('after: ', y)\n",
    "\n",
    "def popper(x: list) -> None:\n",
    "    \"\"\" pop element from list, change x locally?\n",
    "    \"\"\"\n",
    "    x.pop()\n",
    "\n",
    "l = [1, 2, 3] # mutable\n",
    "print('before: ', l)\n",
    "popper(l)\n",
    "print('after: ', l)"
   ]
  },
  {
   "cell_type": "markdown",
   "metadata": {},
   "source": [
    "## 5.8 Exercise: building a graph <a name=\"graph\" />\n",
    "The goal is to construct a graph, where the nodes are keys in a dictionary (using strings, for instance), the edges are encoded in the node values. The graph is directed, and could be cyclic or acyclic.\n",
    "\n",
    "Required functionalities on a graph `G` at `node`:\n",
    "* get_descendants of a node at level $n$\n",
    "* get_ancestors of a node (parent, &#8230;)\n",
    "* get_siblings of a node (children of its parent node)\n",
    "* \"distance\" between two nodes (_if b is child of a in an acyclic graph, dist(a, b) = 1, dist(b, a) = $+\\infty$_), in a cyclic graph it is the minimum over all possible paths\n",
    "\n",
    "The functions should be written in a separate file `graphs.py` and imported as a module. Providing a possibility to have the file run in demo mode from the command line will be appreciated.\n",
    "\n",
    "#### Bonus 1: if one asks properties of a node that is not in the graph &rightarrow; manage Exception\n",
    "\n",
    "#### Bonus 2: implement a weighted graph\n",
    "\n",
    "An example digraph ![directed graph](./extra/digraph.gif)\n",
    "\n",
    "This exercise contains a wide variety of topics covered until now:\n",
    "* choice of datatype for representation\n",
    "* functions and recursion\n",
    "* function arguments\n",
    "* list comprehension\n",
    "* iterable (list) unpacking\n",
    "* exception handling\n",
    "* &#8230;"
   ]
  },
  {
   "cell_type": "code",
   "execution_count": null,
   "metadata": {
    "collapsed": true,
    "scrolled": false
   },
   "outputs": [],
   "source": [
    "from IPython.display import Markdown, display\n",
    "def printmd(string):\n",
    "    display(Markdown(string))\n",
    "\n",
    "text = ''\n",
    "with open('graphs.py', 'r') as fid:\n",
    "    for line in fid:\n",
    "        text += line\n",
    "\n",
    "printmd(\"```python\\n\" + text + \"\\n```\")"
   ]
  }
 ],
 "metadata": {
  "anaconda-cloud": {},
  "kernelspec": {
   "display_name": "Python [conda env:inp]",
   "language": "python",
   "name": "conda-env-inp-py"
  },
  "language_info": {
   "codemirror_mode": {
    "name": "ipython",
    "version": 3
   },
   "file_extension": ".py",
   "mimetype": "text/x-python",
   "name": "python",
   "nbconvert_exporter": "python",
   "pygments_lexer": "ipython3",
   "version": "3.6.3"
  },
  "latex_envs": {
   "LaTeX_envs_menu_present": true,
   "autocomplete": true,
   "bibliofile": "biblio.bib",
   "cite_by": "apalike",
   "current_citInitial": 1,
   "eqLabelWithNumbers": true,
   "eqNumInitial": 1,
   "hotkeys": {
    "equation": "Ctrl-E",
    "itemize": "Ctrl-I"
   },
   "labels_anchors": false,
   "latex_user_defs": false,
   "report_style_numbering": false,
   "user_envs_cfg": false
  },
  "varInspector": {
   "cols": {
    "lenName": 16,
    "lenType": 16,
    "lenVar": 40
   },
   "kernels_config": {
    "python": {
     "delete_cmd_postfix": "",
     "delete_cmd_prefix": "del ",
     "library": "var_list.py",
     "varRefreshCmd": "print(var_dic_list())"
    },
    "r": {
     "delete_cmd_postfix": ") ",
     "delete_cmd_prefix": "rm(",
     "library": "var_list.r",
     "varRefreshCmd": "cat(var_dic_list()) "
    }
   },
   "types_to_exclude": [
    "module",
    "function",
    "builtin_function_or_method",
    "instance",
    "_Feature"
   ],
   "window_display": false
  }
 },
 "nbformat": 4,
 "nbformat_minor": 2
}
