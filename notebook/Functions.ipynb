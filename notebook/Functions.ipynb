{
 "cells": [
  {
   "cell_type": "markdown",
   "metadata": {},
   "source": [
    "# Functions\n",
    "\n",
    "1. [function arguments](#function arguments)\n",
    "1. [derangements](#derangements)\n",
    "1. [nested functions](#nested functions)\n",
    "1. [argument passing](#passing)\n",
    "1. [variable scope](#variable scope)\n",
    "1. [Exercise: building a graph](#graph)\n",
    "\n",
    "## Function arguments <a name=\"function arguments\" />"
   ]
  },
  {
   "cell_type": "code",
   "execution_count": null,
   "metadata": {
    "collapsed": true
   },
   "outputs": [],
   "source": [
    "def pow(x, a=2):\n",
    "    return x ** a"
   ]
  },
  {
   "cell_type": "code",
   "execution_count": null,
   "metadata": {
    "collapsed": true
   },
   "outputs": [],
   "source": [
    "y = func(3) # try different function calls with positional/keyword arguments\n",
    "# y = func(3), y = func(3, 3), y = func(x=4, a=1), y=func(5, a=3)\n",
    "print(y)"
   ]
  },
  {
   "cell_type": "markdown",
   "metadata": {},
   "source": [
    "#### Illustrating the packing and unpacking"
   ]
  },
  {
   "cell_type": "code",
   "execution_count": null,
   "metadata": {
    "collapsed": true
   },
   "outputs": [],
   "source": [
    "def multiargs(*args, **kwargs):\n",
    "    print(args)\n",
    "    print(kwargs)\n",
    "\n",
    "multiargs(3, 'hi', ['a', 'b', 'c'], x=1, y='y', z=[1, 2, 3])"
   ]
  },
  {
   "cell_type": "markdown",
   "metadata": {},
   "source": [
    "## derangements <a name=\"derangments\" />\n",
    "Let $!n$ be the number of ways one can permute $n$ elements, without having any of them unaltered (the $n$ hat problem: let $n$ men enter a room and exchange their hats so that no man returns home with his own hat)\n",
    "\n",
    "_HINT_: use recursion"
   ]
  },
  {
   "cell_type": "code",
   "execution_count": null,
   "metadata": {
    "collapsed": true
   },
   "outputs": [],
   "source": [
    "def derangement(n):\n",
    "    \"\"\" computes the number of derangements of n items\n",
    "    \"\"\""
   ]
  },
  {
   "cell_type": "markdown",
   "metadata": {},
   "source": [
    "#### implement the permutation function\n",
    "compute the number of ways one can permute $n$ elements ($n!$), using recursion, and show that \n",
    "$$\n",
    "\\frac{!n}{n!}\\xrightarrow{n\\to\\infty}\\frac{1}{e}\n",
    "$$\n",
    "\n",
    "_HINT_: $n=20$ is already fairly close to $+\\infty$\n",
    "\n",
    "_HINT 2_: you may want to import some function from the `math` module"
   ]
  },
  {
   "cell_type": "code",
   "execution_count": null,
   "metadata": {
    "collapsed": true
   },
   "outputs": [],
   "source": [
    "def factorial(n):\n",
    "    \"\"\" computes the number of permutations of n items\n",
    "    \"\"\""
   ]
  },
  {
   "cell_type": "code",
   "execution_count": null,
   "metadata": {
    "collapsed": true
   },
   "outputs": [],
   "source": [
    "# testing the hypothesis\n",
    "for k in range(2, 25):  # the following sequence should converge to 1/e\n",
    "    print(derangement(k) / factorial(k))"
   ]
  },
  {
   "cell_type": "markdown",
   "metadata": {},
   "source": [
    "## nested functions <a name=\"nested functions\" />\n",
    "Look at the below function definition: how would you use the function `func1`?"
   ]
  },
  {
   "cell_type": "code",
   "execution_count": null,
   "metadata": {
    "collapsed": true
   },
   "outputs": [],
   "source": [
    "def func1(a):\n",
    "    x = a\n",
    "    def func2(b):\n",
    "        y = a # \"a\" known in enclosing function\n",
    "        x = b # x is local, not referring to b\n",
    "        return x, y\n",
    "    return func2"
   ]
  },
  {
   "cell_type": "code",
   "execution_count": null,
   "metadata": {
    "collapsed": true
   },
   "outputs": [],
   "source": []
  },
  {
   "cell_type": "markdown",
   "metadata": {},
   "source": [
    "## argument passing <a name=\"passing\" />"
   ]
  },
  {
   "cell_type": "code",
   "execution_count": null,
   "metadata": {
    "collapsed": true
   },
   "outputs": [],
   "source": [
    "def basic_fun(x, y, u=\"a\", v=\"b\"):\n",
    "    print(\"x={}, y={}, u={}, v={}\".format(x, y, u, v))\n",
    "\n",
    "def fun(a, b, *args, c=1, d=2, **kwargs):\n",
    "    print(\"a={}, b={}, c={}, d={}\".format(a, b, c, d))\n",
    "    basic_fun(*args, **kwargs)"
   ]
  },
  {
   "cell_type": "code",
   "execution_count": null,
   "metadata": {
    "collapsed": true
   },
   "outputs": [],
   "source": []
  },
  {
   "cell_type": "markdown",
   "metadata": {},
   "source": [
    "## Variable scope <a name=\"variable scope\" />"
   ]
  },
  {
   "cell_type": "code",
   "execution_count": null,
   "metadata": {
    "collapsed": true
   },
   "outputs": [],
   "source": [
    "def add(x=3, y=5):\n",
    "    return x + y\n",
    "print(add())\n",
    "print(add(2, 4))"
   ]
  },
  {
   "cell_type": "markdown",
   "metadata": {},
   "source": [
    "Now suppose we would like to extend the functionality of the above binary operator, to add two or three numbers. One possible solution is given below:"
   ]
  },
  {
   "cell_type": "code",
   "execution_count": null,
   "metadata": {
    "collapsed": true
   },
   "outputs": [],
   "source": [
    "def add(x=3, y=5):\n",
    "    return x + y + z  # bad habit: difficult to foresee what z will be at function call !\n",
    "z = 0         # makes \"add\" behave like a binary operator\n",
    "print(add())\n",
    "z = 3         # makes \"add\" behave like a ternary operator\n",
    "print(add())"
   ]
  },
  {
   "cell_type": "markdown",
   "metadata": {},
   "source": [
    "Rewriting the function for an arbitrary number of arguments"
   ]
  },
  {
   "cell_type": "code",
   "execution_count": null,
   "metadata": {
    "collapsed": true
   },
   "outputs": [],
   "source": [
    "def nary_add(*args, **kwargs):\n",
    "    \"\"\" addition of an arbitrary number of arguments, mixed positional and keywords\n",
    "    \"\"\"\n",
    "    def add(x=3, y=5):\n",
    "        return x + y\n",
    "    \n",
    "    values = list(args) + [kwargs[d] for d in kwargs.keys()]\n",
    "    if not len(values):\n",
    "        return add()\n",
    "    elif len(values) <= 2 and ('x' in kwargs.keys() or 'y' in kwargs.keys()):\n",
    "        return add(*args, **kwargs)\n",
    "    else:\n",
    "        f = add(values[-1], values[-2])\n",
    "        values = values[:-2]\n",
    "        while values:\n",
    "            f = add(f, values[-1])\n",
    "            values.pop()\n",
    "        return f\n",
    "    \n",
    "print(nary_add(1, 2, w=3, z=4))"
   ]
  },
  {
   "cell_type": "markdown",
   "metadata": {},
   "source": [
    "#### Better is to use decorators\n",
    "Can't we just change the behaviour of `add` without changing the initial function definition (for backward compatibility, for instance) ?\n",
    "\n",
    "Let's make addition an $n$-ary operation instead of just a binary one using a `decorator`."
   ]
  },
  {
   "cell_type": "code",
   "execution_count": null,
   "metadata": {
    "collapsed": true
   },
   "outputs": [],
   "source": [
    "def nary(func):\n",
    "    def func_wrapper(*args, **kwargs):\n",
    "        values = list(args) + [kwargs[d] for d in kwargs.keys()]\n",
    "        if not len(values):\n",
    "            return func\n",
    "        elif len(values) <= 2 and ('x' in kwargs.keys() or 'y' in kwargs.keys()):\n",
    "            return func(*args, **kwargs)\n",
    "        else:\n",
    "            f = func(values[-1], values[-2])\n",
    "            values = values[:-2]\n",
    "            while values:\n",
    "                f = func(f, values[-1])\n",
    "                values.pop()\n",
    "            return f\n",
    "    return func_wrapper\n",
    "\n",
    "@nary\n",
    "def add(x = 3, y = 5):\n",
    "    return x + y\n",
    "\n",
    "print(add(10, z = 6, x = 3, y = 5))"
   ]
  },
  {
   "cell_type": "markdown",
   "metadata": {},
   "source": [
    "The generality of the decorator allows application to other functions"
   ]
  },
  {
   "cell_type": "code",
   "execution_count": null,
   "metadata": {
    "collapsed": true
   },
   "outputs": [],
   "source": [
    "@nary\n",
    "def mult(x = 1, y = 2):\n",
    "    return x * y\n",
    "\n",
    "print(mult(1, 2, 3, 4))"
   ]
  },
  {
   "cell_type": "markdown",
   "metadata": {},
   "source": [
    "## mutable arguments <a name=\"mutable arguments\" />"
   ]
  },
  {
   "cell_type": "code",
   "execution_count": null,
   "metadata": {
    "collapsed": true
   },
   "outputs": [],
   "source": [
    "def popper(x):\n",
    "    x.pop()\n",
    "\n",
    "l = [1, 2, 3]\n",
    "popper(l)\n",
    "print(l)"
   ]
  },
  {
   "cell_type": "markdown",
   "metadata": {},
   "source": [
    "## Exercise: building a graph <a name=\"graph\" />\n",
    "The goal is to construct a graph, where the nodes are keys in a dictionary (using strings, for instance), the edges are encoded in the node values. The graph is directed, and could be cyclic or acyclic.\n",
    "\n",
    "Required functionalities on a graph `G` at `node`:\n",
    "* get_descendants of a node at level $n$\n",
    "* get_ancestors of a node (parent, &#8230;)\n",
    "* get_siblings of a node (children of its parent node)\n",
    "* \"distance\" between two nodes (_if b is child of a in an acyclic graph, dist(a, b) = 1, dist(b, a) = $+\\infty$_)\n",
    "\n",
    "The functions should be written in a separate file `graphs.py` and imported as a module. Providing a possibility to have the file run in demo mode from the command line will be appreciated.\n",
    "\n",
    "#### Bonus 1: if one asks properties of a node that is not in the graph &rightarrow; manage Exception\n",
    "\n",
    "#### Bonus 2: implement a weighted graph\n",
    "\n",
    "An example digraph ![directed graph](./extra/digraph.gif)\n",
    "\n",
    "This exercise contains a wide variety of topics covered until now:\n",
    "* choice of datatype for representation\n",
    "* functions and recursion\n",
    "* function arguments\n",
    "* list comprehension\n",
    "* iterable (list) unpacking\n",
    "* exception handling\n",
    "* &#8230;"
   ]
  }
 ],
 "metadata": {
  "kernelspec": {
   "display_name": "Python [conda env:inp]",
   "language": "python",
   "name": "conda-env-inp-py"
  },
  "language_info": {
   "codemirror_mode": {
    "name": "ipython",
    "version": 3
   },
   "file_extension": ".py",
   "mimetype": "text/x-python",
   "name": "python",
   "nbconvert_exporter": "python",
   "pygments_lexer": "ipython3",
   "version": "3.6.3"
  },
  "latex_envs": {
   "LaTeX_envs_menu_present": true,
   "autocomplete": true,
   "bibliofile": "biblio.bib",
   "cite_by": "apalike",
   "current_citInitial": 1,
   "eqLabelWithNumbers": true,
   "eqNumInitial": 1,
   "hotkeys": {
    "equation": "Ctrl-E",
    "itemize": "Ctrl-I"
   },
   "labels_anchors": false,
   "latex_user_defs": false,
   "report_style_numbering": false,
   "user_envs_cfg": false
  },
  "varInspector": {
   "cols": {
    "lenName": 16,
    "lenType": 16,
    "lenVar": 40
   },
   "kernels_config": {
    "python": {
     "delete_cmd_postfix": "",
     "delete_cmd_prefix": "del ",
     "library": "var_list.py",
     "varRefreshCmd": "print(var_dic_list())"
    },
    "r": {
     "delete_cmd_postfix": ") ",
     "delete_cmd_prefix": "rm(",
     "library": "var_list.r",
     "varRefreshCmd": "cat(var_dic_list()) "
    }
   },
   "types_to_exclude": [
    "module",
    "function",
    "builtin_function_or_method",
    "instance",
    "_Feature"
   ],
   "window_display": false
  }
 },
 "nbformat": 4,
 "nbformat_minor": 2
}
