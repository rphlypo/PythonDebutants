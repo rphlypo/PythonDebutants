{
 "cells": [
  {
   "cell_type": "markdown",
   "metadata": {
    "extensions": {
     "jupyter_dashboards": {
      "version": 1,
      "views": {
       "grid_default": {
        "col": 0,
        "height": 11,
        "hidden": false,
        "row": 0,
        "width": 12
       },
       "report_default": {}
      }
     }
    }
   },
   "source": [
    "# 2. Variables in Python\n",
    "\n",
    "1. [data types](#data types)\n",
    "1. [variable assignment](#assignment)\n",
    "1. [indexing](#indexing)\n",
    "1. [operators](#operators)\n",
    "1. [containers](#containers)\n",
    "1. [Exercise: matrix](#matrix)"
   ]
  },
  {
   "cell_type": "markdown",
   "metadata": {},
   "source": [
    "## 2.1 Data types <a name=\"data types\" />\n",
    "\n",
    "### 2.1.1 different types = different functionalities\n",
    "\n",
    "* scalars: `bool`, `int`, `float`, `complex`\n",
    "\n",
    "* strings: `string`\n",
    "\n",
    "* sequences: `list`, `tuples`\n",
    "\n",
    "* collections: `list`, `dictionary`, `set`\n",
    "\n",
    "data type inspection &rightarrow; `type( )`\n",
    "\n",
    "Look at the data types of `a` and `b` by executing the cell below "
   ]
  },
  {
   "cell_type": "code",
   "execution_count": null,
   "metadata": {
    "collapsed": true,
    "extensions": {
     "jupyter_dashboards": {
      "version": 1,
      "views": {
       "grid_default": {
        "hidden": true
       },
       "report_default": {}
      }
     }
    }
   },
   "outputs": [],
   "source": [
    "a = 3\n",
    "print(type(a))      # print statements are always displayed\n",
    "b = \"Hello world!\"\n",
    "print(type(b))      # print statements are always displayed"
   ]
  },
  {
   "cell_type": "markdown",
   "metadata": {
    "extensions": {
     "jupyter_dashboards": {
      "version": 1,
      "views": {
       "grid_default": {
        "col": 4,
        "height": 4,
        "hidden": false,
        "row": 11,
        "width": 4
       },
       "report_default": {}
      }
     }
    }
   },
   "source": [
    "Of what type are the following variables ?"
   ]
  },
  {
   "cell_type": "code",
   "execution_count": null,
   "metadata": {
    "collapsed": true,
    "extensions": {
     "jupyter_dashboards": {
      "version": 1,
      "views": {
       "grid_default": {
        "hidden": true
       },
       "report_default": {}
      }
     }
    }
   },
   "outputs": [],
   "source": [
    "x = 4\n",
    "y = 2\n",
    "z = x / y  # tricky one !\n",
    "u = True\n",
    "w = 2.0\n",
    "c = 1 + 1j\n",
    "s = \"hello world!\"\n",
    "l = [1, 3, 5]\n",
    "d = {\"a\" : 1, \"z\" : 26}\n",
    "t = (\"hello\", \"world\")\n",
    "v = {'a', 'b', 'c', 'd'}"
   ]
  },
  {
   "cell_type": "markdown",
   "metadata": {},
   "source": [
    "### 2.1.2 strings and docstrings\n",
    "\n",
    "* strings are encapsulated by '&emsp;' or \"&emsp;\" ('''&emsp;''' or \"\"\"&emsp;\"\"\" for multiline)\n",
    "\n",
    "* docstrings start with `#` or are encapsulated by \"\"\"&emsp;\"\"\" (multiline)\n",
    "\n",
    "    ```{python}\n",
    "    s1 = \"Hello world!\"     # basic string of which I'm the docstring\n",
    "    s2 = \"Spam and Eggs\"    \"\"\" I'm a multiline\n",
    "                            docstring, documenting\n",
    "                            myself\n",
    "                            \"\"\"\n",
    "    s3 = \"\"\" This is\n",
    "    a multiline\n",
    "    string\n",
    "    \"\"\"                     # docstring of multiline string\n",
    "    ```\n",
    "    \n",
    "* string formatting: `<string>.format(<value>)`\n",
    "\n",
    "    * `{}` &rightarrow; in order of presentation\n",
    "\n",
    "    * `{<key>}` &rightarrow; key&mdash;value pairs\n",
    "\n",
    "    * `{<key> : <formatter>}` &rightarrow; formatting is chosen\n",
    "\n",
    "```python\n",
    "\"I am a {}\".format(\"string\")\n",
    "\"x equals {}, y equals {}\".format(3, 5)            # order of appearance\n",
    "\"x = {x}, y = {y}, x = {x} again\".format(x=3, y=7) # key-value pairs (dict)\n",
    "\"x equals {:.5g}\".format(1/3)\n",
    "\"x equals {x:.5g}, y equals {y:.5f}\".format(x=10/3, y=10/7)\n",
    "```"
   ]
  },
  {
   "cell_type": "code",
   "execution_count": null,
   "metadata": {
    "collapsed": true
   },
   "outputs": [],
   "source": [
    "print(\"This is a string\")\n",
    "print(\"This is a {}string\".format(\"\"))                             # using the formatter\n",
    "print(\"This is a {}string\".format(\"longer \"))                      # using the formatter with a different argument\n",
    "print(\"This is a{0}{2}{1} string\".format(\"n \", \"longer\", \"even \")) # indexing the tuple of strings"
   ]
  },
  {
   "cell_type": "code",
   "execution_count": null,
   "metadata": {
    "collapsed": true
   },
   "outputs": [],
   "source": [
    "print(\"x equals {x}, y equals {y}\".format(y=10/7, x=10/3))\n",
    "# number of significant digits vs. number of digits after comma\n",
    "print(\"x equals {x:.5g}, y equals {y:.5f}\".format(x=10/3, y=10/7)) "
   ]
  },
  {
   "cell_type": "code",
   "execution_count": null,
   "metadata": {
    "collapsed": true
   },
   "outputs": [],
   "source": [
    "print(\"I am a {}\".format(\"string\"))\n",
    "print(\"x equals {}, y equals {}\".format(3, 5))           # order of appearance\n",
    "print(\"x equals {x}, y equals {y}\".format(y = 7, x = 3)) # key-value pairs\n",
    "print(\"x equals {:.5g}\".format(1/3))                     # 5 significant digits\n",
    "s = \"x equals {x:.5g}, y equals {y:.5f}\".format(x = 10/3, y = 10/7)\n",
    "print(s)"
   ]
  },
  {
   "cell_type": "markdown",
   "metadata": {},
   "source": [
    "#### Also allows for pretty output with alignment"
   ]
  },
  {
   "cell_type": "code",
   "execution_count": null,
   "metadata": {
    "collapsed": true
   },
   "outputs": [],
   "source": [
    "s=\"x : {:8.2f},  y: {:8.2f}\".format(10.2, 1.2)\n",
    "print(s) \n",
    "s=\"x : {0:8.2f},  y: {1:8.2f}\".format(10.2, 1.2)\n",
    "print(s) \n",
    "s=\"x : {1:8.2f},  y: {0:8.2f}\".format(10.2, 1.2)\n",
    "print(s) \n",
    "s=\"Art.: {a:3d},  Cost: {p:8.2f}\".format(a=59, p=102.2)\n",
    "print(s)"
   ]
  },
  {
   "cell_type": "markdown",
   "metadata": {},
   "source": [
    "### 2.1.3 number representation\n",
    "\n",
    "computers = manipulation of __bits__\n",
    "\n",
    "* integers &#10004;\n",
    "\n",
    "* &Rightarrow; rational numbers &#10004;\n",
    "\n",
    "  * irrational numbers ? transcendent numbers ?\n",
    "\n",
    "  * RSA &rightarrow; factorisation in primes = difficult\n",
    "\n",
    "    &Rightarrow; fraction approximation of real numbers = difficult\n",
    "\n",
    "  * easier : denominator = $2^k, k\\in\\mathbb Z$\n",
    "  \n",
    "* decimal number system\n",
    "\n",
    "  * $x=(-1)^s\\sum_{k=-\\infty}^{+\\infty}a_k\\ 10^k\\qquad$    for    $\\qquad a_k\\in [0,\\,9]\\cap \\mathbb{Z}$\n",
    "\n",
    "  * s is the sign $\\in\\{0,\\,1\\}$\n",
    "\n",
    "* binary number system\n",
    "\n",
    "  * $x=(-1)^s\\sum_{k=-\\infty}^{+\\infty}b_k\\ 2^k\\qquad$    for    $\\qquad s, b_k\\in \\{0,\\,1\\}$\n",
    "\n",
    "  * signed/unsigned, little/big endian, base-2 binary representation\n",
    "  * stored in memory by byte : 1 Byte = 2 hex = 8 bit $\\in \\lbrace 0,\\,1,\\,\\ldots,\\,9,\\,A,\\,B,\\,C,\\,D,\\,E,\\,F \\rbrace^2$, e.g., AF\n",
    "\n",
    "Note:\n",
    "big/little endian : most/least significant byte in lowest memory\n",
    "\n",
    "* Example 1: decimal 23\n",
    "\n",
    "  $\\begin{align}23 &= 2\\times 10^1 + 3\\times 10^0\\newline &=  1\\times 2^4 + 0 \\times 2^3 + 1\\times 2^2 + 1\\times 2^1 + 1\\times 2^0=\\_b 10111\\newline &= \\_B 17\\end{align}$"
   ]
  },
  {
   "cell_type": "code",
   "execution_count": null,
   "metadata": {
    "collapsed": true
   },
   "outputs": [],
   "source": [
    "x = 23\n",
    "print(x)\n",
    "print(x.to_bytes(1, 'big'))"
   ]
  },
  {
   "cell_type": "markdown",
   "metadata": {},
   "source": [
    "* Example 2 : decimal 1025"
   ]
  },
  {
   "cell_type": "code",
   "execution_count": null,
   "metadata": {
    "collapsed": true
   },
   "outputs": [],
   "source": [
    "y = 1025\n",
    "print(y)\n",
    "print(y.to_bytes(2, 'big'))     # big endian\n",
    "print(y.to_bytes(2, 'little'))  # little endian"
   ]
  },
  {
   "cell_type": "markdown",
   "metadata": {},
   "source": [
    "* representing __any__ number\n",
    "\n",
    "  * `float`: __IEEE 754-2008__\n",
    "\n",
    "  * s = _sign_, c = _significand_, q = _exponent_, b = _base_ (_radix_)\n",
    "\n",
    "    $x = -1^s\\times c\\times b^q = (-1)^s\\times c \\times b^q$\n",
    "\n",
    "  * representation for `qNaN`n `sNaN`, `-Inf`, `+Inf` (overflow)\n",
    "\n",
    "Note:\n",
    "quiet NaN and signalling NaN\n",
    "\n",
    "* Any number is __represented__ (*approximated* through a finite, truncated representation)\n",
    "\n",
    "  * e.g., 1/10 : easy in decimal (fractional) representation, difficult in binary representation"
   ]
  },
  {
   "cell_type": "code",
   "execution_count": null,
   "metadata": {
    "collapsed": true
   },
   "outputs": [],
   "source": [
    "y = 1/2\n",
    "print('y =', y)\n",
    "print('y = {:24g}'.format(y)) # 24 significative digits\n",
    "yn, yd = y.as_integer_ratio()\n",
    "print('y = {} / {}'.format(yn, yd))"
   ]
  },
  {
   "cell_type": "code",
   "execution_count": null,
   "metadata": {
    "collapsed": true
   },
   "outputs": [],
   "source": [
    "x = 1/10 # nice decimal representation, not so nice binary representation!\n",
    "print(x) # you're fooled\n",
    "xn, xd = x.as_integer_ratio()\n",
    "print('x = {} / {}'.format(xn, xd)) # auch !\n",
    "print('denominator = 2 ** 55 = {}'.format(2 ** 55))\n",
    "print('x = {}'.format(xn / xd)) # quick check --> ok!\n",
    "print(\"x = {:.6g}\".format(x))  # 6 significative digits / format(x, '.6g')\n",
    "print(\"x = {:.24g}\".format(x)) # 24 significative digits"
   ]
  },
  {
   "cell_type": "code",
   "execution_count": null,
   "metadata": {
    "collapsed": true
   },
   "outputs": [],
   "source": [
    "z = x * 10\n",
    "print(\"z = {}\".format(z))\n",
    "print(\"z = {:.24g}\".format(z))     # 24 significative digits --> this is truly one!\n",
    "fracz = z.as_integer_ratio()\n",
    "print(\"z = {num} / {den}\".format(num=fracz[0], den=fracz[1])) # yes, it is confirmed now!"
   ]
  },
  {
   "cell_type": "markdown",
   "metadata": {},
   "source": [
    "### 2.1.3 casting / type conversion"
   ]
  },
  {
   "cell_type": "markdown",
   "metadata": {},
   "source": [
    "#### string &rightarrow; number"
   ]
  },
  {
   "cell_type": "code",
   "execution_count": null,
   "metadata": {
    "collapsed": true
   },
   "outputs": [],
   "source": [
    "s = '789'\n",
    "print(s)\n",
    "print(type(s))\n",
    "\n",
    "# cast to \n",
    "i = int(s)\n",
    "print(i)\n",
    "print(type(i))\n",
    "\n",
    "# conversion to float\n",
    "d = float(s)\n",
    "print(d)\n",
    "print(type(d))"
   ]
  },
  {
   "cell_type": "markdown",
   "metadata": {},
   "source": [
    "#### number &rightarrow; string\n",
    "see also [string formatting](https://docs.python.org/3.6/library/string.html#formatstrings)"
   ]
  },
  {
   "cell_type": "code",
   "execution_count": null,
   "metadata": {
    "collapsed": true
   },
   "outputs": [],
   "source": [
    "d = 789.12\n",
    "print(type(d))\n",
    "\n",
    "s = str(d)\n",
    "print(s)\n",
    "print(type(s))\n",
    "\n",
    "s = format(d, '.6g') # 6 significative digits\n",
    "print(s)\n",
    "print(type(s))\n",
    "# This is actually short for '{}'.format(d, '.6g')\n",
    "\n",
    "s = format(d, '.6f') # 6 digits after decimal point\n",
    "print(s)\n",
    "print(type(s))"
   ]
  },
  {
   "cell_type": "markdown",
   "metadata": {},
   "source": [
    "#### list &leftrightarrow; tuple\n",
    "\n",
    "* **list**: ordered mutable collection, elements are delimited by square brackets `[]`\n",
    "* **tuple**: ordered immutable collection, elements are delimited by parentheses `()`\n",
    "\n",
    "A tuple could be seen as a list protected against modification"
   ]
  },
  {
   "cell_type": "code",
   "execution_count": null,
   "metadata": {
    "collapsed": true
   },
   "outputs": [],
   "source": [
    "tup = (1, 2, 3)\n",
    "print(tup)\n",
    "lst = list(tup)\n",
    "print(lst)\n",
    "\n",
    "parameters = (200, 'pressure', 10, 'speed')\n",
    "v1, leg1, v2, leg2 = parameters\n",
    "print(parameters)\n",
    "print(v1, leg1, v2, leg2)\n",
    "lst = list(parameters)\n",
    "print(lst)"
   ]
  },
  {
   "cell_type": "code",
   "execution_count": null,
   "metadata": {
    "collapsed": true
   },
   "outputs": [],
   "source": [
    "lst = [1, 2, 3]\n",
    "print(lst)\n",
    "\n",
    "tup = tuple(lst)\n",
    "print(tup)"
   ]
  },
  {
   "cell_type": "markdown",
   "metadata": {},
   "source": [
    "## 2.2 Variable assignment <a name=\"assignment\" />\n",
    "\n",
    "### 2.2.1 declaration, initialisation, and allocation\n",
    "\n",
    "* __declaration__ = type &amp; name ; pointer to memory address\n",
    "\n",
    "* __allocation__ = allocate specific value to memory block\n",
    "\n",
    "* __initialisation__ = declaration + allocation\n",
    "\n",
    "\n",
    "C language\n",
    "```C\n",
    "int a; // declaration : 'a' points to (random) 'int'-sized memory\n",
    "a = 3; // allocation : x0000 0000 0000 0011 into memory\n",
    "string b = \"Hello world!\"; // initialisation = declaration + allocation\n",
    "```\n",
    "\n",
    "Python (only initialisation!)\n",
    "```python\n",
    "a = int() # initialisation : a --> memory containing '0'\n",
    "a = 3     # same memory now contains '3'\n",
    "a = 3.    # same memory now contains a float '3' --> python is a dynamic typing language\n",
    "b = \"Hello world!\" # b --> another memory block\n",
    "```\n",
    "\n",
    "* data type &rightarrow; __constructor__\n",
    "\n",
    "    * `x = set([1, 2, 3])` equivalent to `x = {1, 2, 3}`\n",
    "    * `x = list([1, 2, 3])` equivalent to `x = [1, 2, 3]`\n",
    "    * `x = int(5.0)` equivalent to `x = 5`\n",
    "\n",
    "\n",
    "* also allows to __cast__ variables (_convert_ data type)\n",
    "\n",
    "    ```python\n",
    "    x = \"5.1\"\n",
    "    print(\"x is of type {}\".format(type(x)))\n",
    "    y = int(x)\n",
    "    print(\"y is of type {}\".format(type(y)))\n",
    "    z = tuple(y)\n",
    "    print(\"z is of type {}\".format(type(z)))\n",
    "    ```"
   ]
  },
  {
   "cell_type": "code",
   "execution_count": null,
   "metadata": {
    "collapsed": true
   },
   "outputs": [],
   "source": [
    "a = 10 # basis form\n",
    "a += 1 # in-place addition, equivalent to a = a + 1\n",
    "# advantage : a is evaluated only a single time (handy if a is a complicated expression)\n",
    "# under the basic form"
   ]
  },
  {
   "cell_type": "code",
   "execution_count": null,
   "metadata": {
    "collapsed": true
   },
   "outputs": [],
   "source": [
    "b = c = 10 # simultaneous assignment (going from right to left)\n",
    "print(b, c)\n",
    "\n",
    "d, e, f = (1.5, 2.5, 3.5) # multiple assignment (position-based)\n",
    "print(d, e, f)\n",
    "\n",
    "e, d = d, e # variable permutation\n",
    "print(d, e)\n",
    "\n",
    "m, n = [5,7] # list unpacking\n",
    "print(m, n)\n",
    "\n",
    "u, v, w = zip([1, 2, 3], ['a', 'b', 'c']) # aggregation of arguments\n",
    "print(u, v, w)\n",
    "\n",
    "x, y = zip(*[['a', 1], ['b', 2]]) # distribution of arguments\n",
    "print(x, y)"
   ]
  },
  {
   "cell_type": "markdown",
   "metadata": {
    "extensions": {
     "jupyter_dashboards": {
      "version": 1,
      "views": {
       "grid_default": {
        "col": 0,
        "height": 6,
        "hidden": false,
        "row": 15,
        "width": 12
       },
       "report_default": {}
      }
     }
    }
   },
   "source": [
    "## 2.3 Indexing <a name=\"indexing\" />\n",
    "\n",
    "### 2.3.1 basic indexing\n",
    "\n",
    "```python\n",
    "x = [1, 2, 3, 4, 5, 6]\n",
    "```\n",
    "\n",
    "* python: `0`-based indexing\n",
    "\n",
    "    ```python\n",
    "    x[0] = 1\n",
    "    ```\n",
    "\n",
    "* tail-based indexing: negative numbers\n",
    "\n",
    "    ```\n",
    "    x[-1] = 6\n",
    "    ```\n",
    "\n",
    "### 2.3.2 the slicer `:` \n",
    "\n",
    "applies to containers `list`, `tuple`, `string`\n",
    "\n",
    "* `start:stop`\n",
    "* `:stop`\n",
    "* `start:`\n",
    "* `start:stop:step`\n",
    "* `start::step`\n",
    "* `:stop:step`\n",
    "* `::step`\n",
    "\n",
    "```python\n",
    "s = \"Hello world!\"\n",
    "s[4:7] # o w\n",
    "s[:5]  # Hello\n",
    "s[6:]  # world!\n",
    "s[:-1] # Hello world\n",
    "s[3:-2:2] # l ol\n",
    "s[::-1] # !dlrow olleH\n",
    "```\n",
    "\n",
    "#### Exercise\n",
    "\n",
    "* get the first element of `x` using a positive index\n",
    "* get the last element of `x` using a positive index\n",
    "* get the last element of `x` using a negative index\n",
    "* get the first element of `x` using a negative index\n",
    "* get the elements of `x` in reverse order"
   ]
  },
  {
   "cell_type": "code",
   "execution_count": null,
   "metadata": {
    "collapsed": true,
    "extensions": {
     "jupyter_dashboards": {
      "version": 1,
      "views": {
       "grid_default": {
        "hidden": true
       },
       "report_default": {}
      }
     }
    }
   },
   "outputs": [],
   "source": [
    "x = [1, 2, 3, 4]"
   ]
  },
  {
   "cell_type": "markdown",
   "metadata": {
    "extensions": {
     "jupyter_dashboards": {
      "version": 1,
      "views": {
       "grid_default": {
        "col": 8,
        "height": 4,
        "hidden": false,
        "row": 11,
        "width": 4
       },
       "report_default": {}
      }
     }
    }
   },
   "source": [
    "## 2.4 Basic operators and operator precedence <a name=\"operators\" />\n",
    "\n",
    "### 2.4.1 Basic operators\n",
    "\n",
    "* assignment: `=`\n",
    "\n",
    "* mathematical operators: `+`, `-`, `*`, `/`, `//`, `%`, `**`\n",
    "\n",
    "* string / list of string operators: `+`, `join`, `split`, ...\n",
    "\n",
    "* list operators: `+`, `append`, `extend`, `pop`, `insert`, `index`, ...\n",
    "\n",
    "* mixed operators: `*`\n",
    "\n",
    "    ```python\n",
    "    a = \"Hello \"\n",
    "    b = \"world! \"\n",
    "    (a+b) * 3     # mixed operator combining string & int\n",
    "    ```\n",
    "    \n",
    "* comparison operators `<`, `>`, `<=`, `>=`, `==`, `!=`\n",
    "\n",
    "* inline operators `+=`, `-=`, `*=`, `/=`, `%=`, `//=`\n",
    "\n",
    "* membership operator `in`\n",
    "\n",
    "* logical operators `&`, `|`, `^`, `~` (bitwise), `and`, `or`, `^` (xor), `and`, `not`\n",
    "\n",
    "* identity operator `is`\n",
    "\n",
    "* bitwise shifts `<<`, `>>`\n",
    "\n",
    "### 2.4.2 Operator precedence\n",
    "\n",
    "(mathematical) operators are evaluated as\n",
    "\n",
    "1. parentheses first\n",
    "\n",
    "1. order of precedence\n",
    "\n",
    "  2. `**`\n",
    "  2. `*`, `/`, `//`, `%`\n",
    "  2. `+`, `-`\n",
    "\n",
    "1. from left to right\n",
    "\n",
    "| Operator | Description |\n",
    "|:---------|:------------|\n",
    "| `**`             | exponentation |\n",
    "| `~` `+` `-`      | complement, __unary__ plus and minus |\n",
    "| `*` `/` `%` `//` | multiply, divide, modulo and floor division |\n",
    "| `+` `-`          | addition and subtraction |\n",
    "| `>>` `<<`        | right and left bitwise shift |\n",
    "| `&`              | bitwise __and__ |\n",
    "| `^` &vert;       | bitwise exclusive and regular __or__ |\n",
    "| `<=` `<` `>` `>=`| comparison operators |\n",
    "| `<>` `==` `!=`   | equality operators |\n",
    "| `=` `%=` `/=` `//=` `-=` `+=` `*=` `**=` | inline assignment operators |\n",
    "| `is`, `is not`   | __identity__ operators |\n",
    "| `in`, `not in`   | membership operators |\n",
    "|`not`, `or`, `and`| logical operators |"
   ]
  },
  {
   "cell_type": "code",
   "execution_count": null,
   "metadata": {
    "collapsed": true,
    "extensions": {
     "jupyter_dashboards": {
      "version": 1,
      "views": {
       "grid_default": {
        "hidden": true
       },
       "report_default": {}
      }
     }
    }
   },
   "outputs": [],
   "source": [
    "x = 25\n",
    "y = 3\n",
    "print(\"x / y = {:.5g}\".format(x / y))\n",
    "print(\"x // y = {}\".format(x // y))\n",
    "print(\"x % y = {}\".format(x % y))\n",
    "print(\"Euclidean division: x = x // y * y + x % y = {}\".format(x // y * y + x % y))"
   ]
  },
  {
   "cell_type": "code",
   "execution_count": null,
   "metadata": {
    "collapsed": true,
    "extensions": {
     "jupyter_dashboards": {
      "version": 1,
      "views": {
       "grid_default": {
        "hidden": true
       },
       "report_default": {}
      }
     }
    }
   },
   "outputs": [],
   "source": [
    "a = \"Hello \"\n",
    "b = \"world! \"\n",
    "(a + b) * 3"
   ]
  },
  {
   "cell_type": "code",
   "execution_count": null,
   "metadata": {
    "collapsed": true,
    "extensions": {
     "jupyter_dashboards": {
      "version": 1,
      "views": {
       "grid_default": {
        "hidden": true
       },
       "report_default": {}
      }
     }
    }
   },
   "outputs": [],
   "source": [
    "print(3 << 1)  # one shift to the left is a multiplication by 2\n",
    "print(3 >> 1)  # one shift to the right is an integer division by 2"
   ]
  },
  {
   "cell_type": "code",
   "execution_count": null,
   "metadata": {
    "collapsed": true,
    "extensions": {
     "jupyter_dashboards": {
      "version": 1,
      "views": {
       "grid_default": {
        "hidden": true
       },
       "report_default": {}
      }
     }
    }
   },
   "outputs": [],
   "source": [
    "x = 29 # change this integer value freely\n",
    "k = 3 # change this positive integer value freely\n",
    "print(x >> k == x // 2 ** k) # this will always evaluate to True"
   ]
  },
  {
   "cell_type": "markdown",
   "metadata": {
    "extensions": {
     "jupyter_dashboards": {
      "version": 1,
      "views": {
       "grid_default": {
        "col": 0,
        "height": 4,
        "hidden": false,
        "row": 21,
        "width": 4
       },
       "report_default": {}
      }
     }
    }
   },
   "source": [
    "Can you guess the truth values of the following statements?"
   ]
  },
  {
   "cell_type": "code",
   "execution_count": null,
   "metadata": {
    "collapsed": true,
    "extensions": {
     "jupyter_dashboards": {
      "version": 1,
      "views": {
       "grid_default": {
        "hidden": true
       },
       "report_default": {}
      }
     }
    }
   },
   "outputs": [],
   "source": [
    "5 == 5\n",
    "5 == 5.0\n",
    "5 is 5\n",
    "5 is 5.0\n",
    "\"Python\" in \"Monty Python\"\n",
    "\"Python\" == \"python\"\n",
    "1 in [1, 2, 3]\n",
    "1 not in [1, 2, 3]\n",
    "1 in [[1, 2], 3]\n",
    "1 in {1, 2, 3}\n",
    "(4 < 5) ^ (6 > -1)\n",
    "2 <= 8 < 15\n",
    "(3 == 3) or (9 > 24)"
   ]
  },
  {
   "cell_type": "markdown",
   "metadata": {
    "extensions": {
     "jupyter_dashboards": {
      "version": 1,
      "views": {
       "grid_default": {
        "col": 0,
        "height": 5,
        "hidden": false,
        "row": 29,
        "width": 12
       },
       "report_default": {}
      }
     }
    }
   },
   "source": [
    "## 2.5 More on containers: mutable vs. immutable <a name=\"containers\" />"
   ]
  },
  {
   "cell_type": "markdown",
   "metadata": {},
   "source": [
    "* Strings are not lists\n",
    "\n",
    "    * strings can be indexed &#8230;\n",
    "\n",
    "    * &#8230; but no reassignment"
   ]
  },
  {
   "cell_type": "code",
   "execution_count": null,
   "metadata": {
    "collapsed": true
   },
   "outputs": [],
   "source": [
    "s = \"spam eggs\"\n",
    "s[4] = \" and \"   "
   ]
  },
  {
   "cell_type": "markdown",
   "metadata": {},
   "source": [
    "* sets and dictionaries are __unordered__"
   ]
  },
  {
   "cell_type": "code",
   "execution_count": null,
   "metadata": {
    "collapsed": true
   },
   "outputs": [],
   "source": [
    "p = {1, 2, 3, 4}\n",
    "p[0] # returns Exception"
   ]
  },
  {
   "cell_type": "code",
   "execution_count": null,
   "metadata": {
    "collapsed": true
   },
   "outputs": [],
   "source": [
    "d = {\"a\": 1, \"b\": 2, \"c\": 3}\n",
    "d[0] # returns Exception"
   ]
  },
  {
   "cell_type": "code",
   "execution_count": null,
   "metadata": {
    "collapsed": true
   },
   "outputs": [],
   "source": [
    "d = {0: 1, 1: 2}\n",
    "d[0] # does work if 0 is a key in the dictionary"
   ]
  },
  {
   "cell_type": "markdown",
   "metadata": {},
   "source": [
    "* `list`, `dict`, and `set` &rightarrow; __mutable__\n",
    "\n",
    "    * object is passed by __reference__\n",
    "\n",
    "    * _contents_ are changed __without__ changing its reference\n",
    "\n",
    "* `int`, `float`, `str`, `frozenset`, `tuple` &rightarrow; __immutable__\n",
    "\n",
    "    * changing contents &Rightarrow; new reference / object\n",
    "    \n",
    "* `tuple`, `int`, `float`, `string`, `frozenset`, &#8230; &rightarrow; immutable\n",
    "\n",
    "* __hashable__ object (unique `id`) &rightarrow; index\n",
    "\n",
    "   ```python\n",
    "   x = (1, 2, 3)      # immutable & hashable\n",
    "   s = \"Hello world!\" # immutable & hashable\n",
    "   d = {x: 0, s: 1}   \n",
    "   print(d[(1, 2, 3)])\n",
    "   ```"
   ]
  },
  {
   "cell_type": "code",
   "execution_count": null,
   "metadata": {
    "collapsed": true,
    "extensions": {
     "jupyter_dashboards": {
      "version": 1,
      "views": {
       "grid_default": {
        "col": 4,
        "height": 4,
        "hidden": false,
        "row": 25,
        "width": 4
       },
       "report_default": {}
      }
     }
    }
   },
   "outputs": [],
   "source": [
    "l = ['s', 'p', 'a', 'm', ' ', 'e', 'g', 'g', 's']\n",
    "print(\"\".join(l)) \n",
    "m = l\n",
    "m[4] = '&'\n",
    "print(\"\".join(l))   # m is l => changing m has changed l ! ==> list is mutable"
   ]
  },
  {
   "cell_type": "markdown",
   "metadata": {
    "extensions": {
     "jupyter_dashboards": {
      "version": 1,
      "views": {
       "grid_default": {
        "col": 8,
        "height": 4,
        "hidden": false,
        "row": 25,
        "width": 4
       },
       "report_default": {}
      }
     }
    }
   },
   "source": [
    "#### initialisation of a list with a copy of a list"
   ]
  },
  {
   "cell_type": "code",
   "execution_count": null,
   "metadata": {
    "collapsed": true,
    "extensions": {
     "jupyter_dashboards": {
      "version": 1,
      "views": {
       "grid_default": {
        "col": 0,
        "height": 4,
        "hidden": false,
        "row": 34,
        "width": 4
       },
       "report_default": {}
      }
     }
    }
   },
   "outputs": [],
   "source": [
    "l = ['s', 'p', 'a', 'm', ' ', 'e', 'g', 'g', 's']\n",
    "print(\"\".join(l)) \n",
    "m = l.copy()\n",
    "m[4] = '&'\n",
    "print(\"\".join(l))   # m is a (shallow) copy of m => changing m has not changed l !"
   ]
  },
  {
   "cell_type": "markdown",
   "metadata": {
    "extensions": {
     "jupyter_dashboards": {
      "version": 1,
      "views": {
       "grid_default": {
        "col": 4,
        "height": 4,
        "hidden": false,
        "row": 34,
        "width": 4
       },
       "report_default": {}
      }
     }
    }
   },
   "source": [
    "#### Initialisation of a string with a string"
   ]
  },
  {
   "cell_type": "code",
   "execution_count": null,
   "metadata": {
    "collapsed": true,
    "extensions": {
     "jupyter_dashboards": {
      "version": 1,
      "views": {
       "grid_default": {
        "col": 8,
        "height": 4,
        "hidden": false,
        "row": 34,
        "width": 4
       },
       "report_default": {}
      }
     }
    }
   },
   "outputs": [],
   "source": [
    "s = \"spam eggs\"\n",
    "print(s)\n",
    "q = s\n",
    "q = q.replace(\" \", \"&\") # changing q has no impact on s ==> string is immutable\n",
    "print(s)"
   ]
  },
  {
   "cell_type": "markdown",
   "metadata": {},
   "source": [
    "## 2.6 Exercise: Matrix <a name=\"matrix\" />\n",
    "Construct a matrix of size 2 by 2 using\n",
    "1. a list of lists, using double indexing\n",
    "   * `x[i]` returns the i-th list\n",
    "   * `x[i][j]` returns the j-th element of the i-th list\n",
    "1. a dictionary\n",
    "\n",
    "Now what solution would you use for a matrix of size 10 by 10 where only 10 entries are non-zero? Construct a such matrix."
   ]
  },
  {
   "cell_type": "code",
   "execution_count": null,
   "metadata": {
    "collapsed": true
   },
   "outputs": [],
   "source": []
  }
 ],
 "metadata": {
  "anaconda-cloud": {},
  "extensions": {
   "jupyter_dashboards": {
    "activeView": "grid_default",
    "version": 1,
    "views": {
     "grid_default": {
      "cellMargin": 10,
      "defaultCellHeight": 20,
      "maxColumns": 12,
      "name": "grid",
      "type": "grid"
     },
     "report_default": {
      "name": "report",
      "type": "report"
     }
    }
   }
  },
  "kernelspec": {
   "display_name": "Python [default]",
   "language": "python",
   "name": "python3"
  },
  "language_info": {
   "codemirror_mode": {
    "name": "ipython",
    "version": 3
   },
   "file_extension": ".py",
   "mimetype": "text/x-python",
   "name": "python",
   "nbconvert_exporter": "python",
   "pygments_lexer": "ipython3",
   "version": "3.6.3"
  },
  "latex_envs": {
   "LaTeX_envs_menu_present": true,
   "autocomplete": true,
   "bibliofile": "biblio.bib",
   "cite_by": "apalike",
   "current_citInitial": 1,
   "eqLabelWithNumbers": true,
   "eqNumInitial": 1,
   "hotkeys": {
    "equation": "Ctrl-E",
    "itemize": "Ctrl-I"
   },
   "labels_anchors": false,
   "latex_user_defs": false,
   "report_style_numbering": false,
   "user_envs_cfg": false
  },
  "varInspector": {
   "cols": {
    "lenName": 16,
    "lenType": 16,
    "lenVar": 40
   },
   "kernels_config": {
    "python": {
     "delete_cmd_postfix": "",
     "delete_cmd_prefix": "del ",
     "library": "var_list.py",
     "varRefreshCmd": "print(var_dic_list())"
    },
    "r": {
     "delete_cmd_postfix": ") ",
     "delete_cmd_prefix": "rm(",
     "library": "var_list.r",
     "varRefreshCmd": "cat(var_dic_list()) "
    }
   },
   "types_to_exclude": [
    "module",
    "function",
    "builtin_function_or_method",
    "instance",
    "_Feature"
   ],
   "window_display": false
  }
 },
 "nbformat": 4,
 "nbformat_minor": 2
}
