{
 "cells": [
  {
   "cell_type": "markdown",
   "metadata": {
    "extensions": {
     "jupyter_dashboards": {
      "version": 1,
      "views": {
       "grid_default": {
        "col": 0,
        "height": 11,
        "hidden": false,
        "row": 0,
        "width": 12
       },
       "report_default": {}
      }
     }
    }
   },
   "source": [
    "# Variables in Python\n",
    "\n",
    "1. [data types](#data types)\n",
    "1. [indexing](#indexing)\n",
    "1. [operators](#operators)\n",
    "1. [strings and docstrings](#strings and docstrings)\n",
    "1. [number representation](#number representation)\n",
    "1. [casting](#casting)\n",
    "1. [containers](#containers)\n",
    "1. [matrix](#matrix)\n",
    "\n",
    "## Data types <a name=\"data types\" />\n",
    "\n",
    "#### Look at the data types of `a` and `b` by executing the below cell "
   ]
  },
  {
   "cell_type": "code",
   "execution_count": null,
   "metadata": {
    "collapsed": true,
    "extensions": {
     "jupyter_dashboards": {
      "version": 1,
      "views": {
       "grid_default": {
        "hidden": true
       },
       "report_default": {}
      }
     }
    }
   },
   "outputs": [],
   "source": [
    "a = 3\n",
    "print(type(a))      # print statements are always displayed\n",
    "b = \"Hello world!\"\n",
    "print(type(b))      # print statements are always displayed"
   ]
  },
  {
   "cell_type": "markdown",
   "metadata": {
    "extensions": {
     "jupyter_dashboards": {
      "version": 1,
      "views": {
       "grid_default": {
        "col": 0,
        "height": 4,
        "hidden": false,
        "row": 11,
        "width": 4
       },
       "report_default": {}
      }
     }
    }
   },
   "source": [
    "#### What happens if `print()` is omitted ?"
   ]
  },
  {
   "cell_type": "code",
   "execution_count": null,
   "metadata": {
    "collapsed": true,
    "extensions": {
     "jupyter_dashboards": {
      "version": 1,
      "views": {
       "grid_default": {
        "hidden": true
       },
       "report_default": {}
      }
     }
    }
   },
   "outputs": [],
   "source": [
    "a = 3\n",
    "type(a)\n",
    "b = \"Hello world!\"\n",
    "type(b)              # only the last output to std out is visualised"
   ]
  },
  {
   "cell_type": "markdown",
   "metadata": {
    "extensions": {
     "jupyter_dashboards": {
      "version": 1,
      "views": {
       "grid_default": {
        "col": 4,
        "height": 4,
        "hidden": false,
        "row": 11,
        "width": 4
       },
       "report_default": {}
      }
     }
    }
   },
   "source": [
    "#### Of what type are the following variables ?"
   ]
  },
  {
   "cell_type": "code",
   "execution_count": null,
   "metadata": {
    "collapsed": true,
    "extensions": {
     "jupyter_dashboards": {
      "version": 1,
      "views": {
       "grid_default": {
        "hidden": true
       },
       "report_default": {}
      }
     }
    }
   },
   "outputs": [],
   "source": [
    "x = 4\n",
    "y = 2\n",
    "z = x / y  # tricky one !\n",
    "u = True\n",
    "w = 2.0\n",
    "c = 1 + 1j\n",
    "s = \"hello world!\"\n",
    "l = [1, 3, 5]\n",
    "d = {\"a\" : 1, \"z\" : 26}\n",
    "t = (\"hello\", \"world\")\n",
    "v = {'a', 'b', 'c', 'd'}"
   ]
  },
  {
   "cell_type": "markdown",
   "metadata": {
    "extensions": {
     "jupyter_dashboards": {
      "version": 1,
      "views": {
       "grid_default": {
        "col": 0,
        "height": 6,
        "hidden": false,
        "row": 15,
        "width": 12
       },
       "report_default": {}
      }
     }
    }
   },
   "source": [
    "## Indexing <a name=\"indexing\" />\n",
    "\n",
    "* get the first element of `x` using a positive index\n",
    "* get the last element of `x` using a positive index\n",
    "* get the last element of `x` using a negative index\n",
    "* get the first element of `x` using a negative index"
   ]
  },
  {
   "cell_type": "code",
   "execution_count": null,
   "metadata": {
    "collapsed": true,
    "extensions": {
     "jupyter_dashboards": {
      "version": 1,
      "views": {
       "grid_default": {
        "hidden": true
       },
       "report_default": {}
      }
     }
    }
   },
   "outputs": [],
   "source": [
    "x = [1, 2, 3, 4]"
   ]
  },
  {
   "cell_type": "markdown",
   "metadata": {
    "extensions": {
     "jupyter_dashboards": {
      "version": 1,
      "views": {
       "grid_default": {
        "col": 8,
        "height": 4,
        "hidden": false,
        "row": 11,
        "width": 4
       },
       "report_default": {}
      }
     }
    }
   },
   "source": [
    "## Basic operators and operator precedence <a name=\"operators\" />\n",
    "\n",
    "Remark the operator precedence in the last example"
   ]
  },
  {
   "cell_type": "code",
   "execution_count": null,
   "metadata": {
    "collapsed": true,
    "extensions": {
     "jupyter_dashboards": {
      "version": 1,
      "views": {
       "grid_default": {
        "hidden": true
       },
       "report_default": {}
      }
     }
    }
   },
   "outputs": [],
   "source": [
    "x = 25\n",
    "y = 3\n",
    "print(\"x / y = {:.5g}\".format(x/y))\n",
    "print(\"x // y = {}\".format(x // y))\n",
    "print(\"x % y = {}\".format(x%y))\n",
    "print(\"Euclidean division: x = x // y * y + x % y = {}\".format(x // y * y + x % y))"
   ]
  },
  {
   "cell_type": "code",
   "execution_count": null,
   "metadata": {
    "collapsed": true,
    "extensions": {
     "jupyter_dashboards": {
      "version": 1,
      "views": {
       "grid_default": {
        "hidden": true
       },
       "report_default": {}
      }
     }
    }
   },
   "outputs": [],
   "source": [
    "a = \"Hello \"\n",
    "b = \"world! \"\n",
    "(a + b)*3"
   ]
  },
  {
   "cell_type": "code",
   "execution_count": null,
   "metadata": {
    "collapsed": true,
    "extensions": {
     "jupyter_dashboards": {
      "version": 1,
      "views": {
       "grid_default": {
        "hidden": true
       },
       "report_default": {}
      }
     }
    }
   },
   "outputs": [],
   "source": [
    "print(3 << 1)  # one shift to the left is a multiplication by 2\n",
    "print(3 >> 1)  # one shift to the right is an integer division by 2\n",
    "\n",
    "x = 29 # change this integer value freely\n",
    "k = 3 # change this positive integer value freely\n",
    "print(x >> k == x // 2 ** k) "
   ]
  },
  {
   "cell_type": "markdown",
   "metadata": {
    "extensions": {
     "jupyter_dashboards": {
      "version": 1,
      "views": {
       "grid_default": {
        "col": 0,
        "height": 4,
        "hidden": false,
        "row": 21,
        "width": 4
       },
       "report_default": {}
      }
     }
    }
   },
   "source": [
    "Complete the below with print statements to check the truth values of the exercise on slide 3.6"
   ]
  },
  {
   "cell_type": "code",
   "execution_count": null,
   "metadata": {
    "collapsed": true,
    "extensions": {
     "jupyter_dashboards": {
      "version": 1,
      "views": {
       "grid_default": {
        "hidden": true
       },
       "report_default": {}
      }
     }
    }
   },
   "outputs": [],
   "source": [
    "print(5 == 5)"
   ]
  },
  {
   "cell_type": "markdown",
   "metadata": {
    "extensions": {
     "jupyter_dashboards": {
      "version": 1,
      "views": {
       "grid_default": {
        "col": 4,
        "height": 4,
        "hidden": false,
        "row": 21,
        "width": 4
       },
       "report_default": {}
      }
     }
    }
   },
   "source": [
    "## strings and docstrings <a name=\"strings and docstrings\" />\n",
    "### Formatting strings"
   ]
  },
  {
   "cell_type": "code",
   "execution_count": null,
   "metadata": {
    "collapsed": true,
    "extensions": {
     "jupyter_dashboards": {
      "version": 1,
      "views": {
       "grid_default": {
        "hidden": true
       },
       "report_default": {}
      }
     }
    }
   },
   "outputs": [],
   "source": [
    "print(\"This is a string\")\n",
    "print(\"This is a {}string\".format(\"\"))                             # using the formatter\n",
    "print(\"This is a {}string\".format(\"longer \"))                      # using the formatter with a different argument\n",
    "print(\"This is a{0}{2}{1} string\".format(\"n \", \"longer\", \"even \")) # indexing the tuple of strings"
   ]
  },
  {
   "cell_type": "code",
   "execution_count": null,
   "metadata": {
    "collapsed": true,
    "extensions": {
     "jupyter_dashboards": {
      "version": 1,
      "views": {
       "grid_default": {
        "hidden": true
       },
       "report_default": {}
      }
     }
    }
   },
   "outputs": [],
   "source": [
    "print(\"x equals {x}, y equals {y}\".format(y=10/7, x=10/3))\n",
    "# number of significant digits vs. number of digits after comma\n",
    "print(\"x equals {x:.5g}, y equals {y:.5f}\".format(x=10/3, y=10/7)) "
   ]
  },
  {
   "cell_type": "code",
   "execution_count": null,
   "metadata": {
    "collapsed": true,
    "extensions": {
     "jupyter_dashboards": {
      "version": 1,
      "views": {
       "grid_default": {
        "hidden": true
       },
       "report_default": {}
      }
     }
    }
   },
   "outputs": [],
   "source": [
    "print(\"I am a {}\".format(\"string\"))\n",
    "print(\"x equals {}, y equals {}\".format(3, 5))           # order of appearance\n",
    "print(\"x equals {x}, y equals {y}\".format(y = 7, x = 3)) # key-value pairs\n",
    "print(\"x equals {:.5g}\".format(1/3))                     # 5 significant digits\n",
    "s = \"x equals {x:.5g}, y equals {y:.5f}\".format(x = 10/3, y = 10/7)\n",
    "print(s)"
   ]
  },
  {
   "cell_type": "markdown",
   "metadata": {
    "extensions": {
     "jupyter_dashboards": {
      "version": 1,
      "views": {
       "grid_default": {
        "col": 8,
        "height": 4,
        "hidden": false,
        "row": 21,
        "width": 4
       },
       "report_default": {}
      }
     }
    }
   },
   "source": [
    "## number representation <a name=\"number representation\"></a>"
   ]
  },
  {
   "cell_type": "code",
   "execution_count": null,
   "metadata": {
    "collapsed": true,
    "extensions": {
     "jupyter_dashboards": {
      "version": 1,
      "views": {
       "grid_default": {
        "hidden": true
       },
       "report_default": {}
      }
     }
    }
   },
   "outputs": [],
   "source": [
    "x = 23\n",
    "print(x.to_bytes(1, 'big'))\n",
    "y = 1025\n",
    "print(y.to_bytes(2, 'big'))     # big endian\n",
    "print(y.to_bytes(2, 'little'))  # little endian"
   ]
  },
  {
   "cell_type": "code",
   "execution_count": null,
   "metadata": {
    "collapsed": true,
    "extensions": {
     "jupyter_dashboards": {
      "version": 1,
      "views": {
       "grid_default": {
        "hidden": true
       },
       "report_default": {}
      }
     }
    }
   },
   "outputs": [],
   "source": [
    "x = 1/10\n",
    "print(\"x = {}\".format(x))\n",
    "fracx = x.as_integer_ratio()\n",
    "print(\"x = {num} / {den}\".format(num=fracx[0], den=fracx[1]))\n",
    "print(\"x = {:.6g}\".format(x))       # 6 significative digits / format(x, '.6g')\n",
    "print(\"x = {:.24g}\".format(x))   # 24 significative digits\n",
    "y = x * 10\n",
    "print(\"y = {}\".format(y))\n",
    "print(\"y = {:.24g}\".format(y))     # 24 significative digits\n",
    "fracy = y.as_integer_ratio()\n",
    "print(\"y = {num} / {den}\".format(num=fracy[0], den=fracy[1]))"
   ]
  },
  {
   "cell_type": "markdown",
   "metadata": {
    "extensions": {
     "jupyter_dashboards": {
      "version": 1,
      "views": {
       "grid_default": {
        "col": 0,
        "height": 4,
        "hidden": false,
        "row": 25,
        "width": 4
       },
       "report_default": {}
      }
     }
    }
   },
   "source": [
    "## Casting <a name=\"casting\" />\n",
    "### Object initialisation and casting"
   ]
  },
  {
   "cell_type": "code",
   "execution_count": null,
   "metadata": {
    "extensions": {
     "jupyter_dashboards": {
      "version": 1,
      "views": {
       "grid_default": {
        "hidden": true
       },
       "report_default": {}
      }
     }
    }
   },
   "outputs": [],
   "source": [
    "x = \"5\"\n",
    "print(\"x is of type {}\".format(type(x)))\n",
    "y = int(x)\n",
    "print(\"y is of type {}\".format(type(y)))\n",
    "z = tuple([y])\n",
    "print(\"z is of type {}\".format(type(z)))"
   ]
  },
  {
   "cell_type": "markdown",
   "metadata": {
    "extensions": {
     "jupyter_dashboards": {
      "version": 1,
      "views": {
       "grid_default": {
        "col": 0,
        "height": 5,
        "hidden": false,
        "row": 29,
        "width": 12
       },
       "report_default": {}
      }
     }
    }
   },
   "source": [
    "## More on sets, lists, dictionaries, and tuples <a name=\"containers\" />\n",
    "### Lists are not strings : mutable and immutable objects\n",
    "#### initialisation of a list with a list"
   ]
  },
  {
   "cell_type": "code",
   "execution_count": null,
   "metadata": {
    "collapsed": true,
    "extensions": {
     "jupyter_dashboards": {
      "version": 1,
      "views": {
       "grid_default": {
        "col": 4,
        "height": 4,
        "hidden": false,
        "row": 25,
        "width": 4
       },
       "report_default": {}
      }
     }
    }
   },
   "outputs": [],
   "source": [
    "l = ['s', 'p', 'a', 'm', ' ', 'e', 'g', 'g', 's']\n",
    "print(\"\".join(l)) \n",
    "m = l\n",
    "m[4] = '&'\n",
    "print(\"\".join(l))   # m is l => changing m has changed l ! ==> list is mutable"
   ]
  },
  {
   "cell_type": "markdown",
   "metadata": {
    "extensions": {
     "jupyter_dashboards": {
      "version": 1,
      "views": {
       "grid_default": {
        "col": 8,
        "height": 4,
        "hidden": false,
        "row": 25,
        "width": 4
       },
       "report_default": {}
      }
     }
    }
   },
   "source": [
    "#### initialisation of a list with a copy of a list"
   ]
  },
  {
   "cell_type": "code",
   "execution_count": null,
   "metadata": {
    "collapsed": true,
    "extensions": {
     "jupyter_dashboards": {
      "version": 1,
      "views": {
       "grid_default": {
        "col": 0,
        "height": 4,
        "hidden": false,
        "row": 34,
        "width": 4
       },
       "report_default": {}
      }
     }
    }
   },
   "outputs": [],
   "source": [
    "l = ['s', 'p', 'a', 'm', ' ', 'e', 'g', 'g', 's']\n",
    "print(\"\".join(l)) \n",
    "m = l.copy()\n",
    "m[4] = '&'\n",
    "print(\"\".join(l))   # m is a (shallow) copy of m => changing m has not changed l !"
   ]
  },
  {
   "cell_type": "markdown",
   "metadata": {
    "extensions": {
     "jupyter_dashboards": {
      "version": 1,
      "views": {
       "grid_default": {
        "col": 4,
        "height": 4,
        "hidden": false,
        "row": 34,
        "width": 4
       },
       "report_default": {}
      }
     }
    }
   },
   "source": [
    "#### Initialisation of a string with a string"
   ]
  },
  {
   "cell_type": "code",
   "execution_count": null,
   "metadata": {
    "collapsed": true,
    "extensions": {
     "jupyter_dashboards": {
      "version": 1,
      "views": {
       "grid_default": {
        "col": 8,
        "height": 4,
        "hidden": false,
        "row": 34,
        "width": 4
       },
       "report_default": {}
      }
     }
    }
   },
   "outputs": [],
   "source": [
    "s = \"spam eggs\"\n",
    "print(s)\n",
    "q = s\n",
    "q = q.replace(\" \", \"&\") # changing q has no impact on s ==> string is immutable\n",
    "print(s)"
   ]
  },
  {
   "cell_type": "markdown",
   "metadata": {},
   "source": [
    "## Matrix <a name=\"matrix\" />\n",
    "Construct a matrix of size 2 by 2 using\n",
    "1. a list of lists, using double indexing\n",
    "   * `x[i]` returns the i-th list\n",
    "   * `x[i][j]` returns the j-th element of the i-th list\n",
    "1. a dictionary\n",
    "\n",
    "Now what solution would you use for a matrix of size 10 by 10 where only 10 entries are non-zero? Construct a such matrix."
   ]
  },
  {
   "cell_type": "code",
   "execution_count": null,
   "metadata": {
    "collapsed": true
   },
   "outputs": [],
   "source": []
  }
 ],
 "metadata": {
  "extensions": {
   "jupyter_dashboards": {
    "activeView": "grid_default",
    "version": 1,
    "views": {
     "grid_default": {
      "cellMargin": 10,
      "defaultCellHeight": 20,
      "maxColumns": 12,
      "name": "grid",
      "type": "grid"
     },
     "report_default": {
      "name": "report",
      "type": "report"
     }
    }
   }
  },
  "kernelspec": {
   "display_name": "Python [default]",
   "language": "python",
   "name": "python3"
  },
  "language_info": {
   "codemirror_mode": {
    "name": "ipython",
    "version": 3
   },
   "file_extension": ".py",
   "mimetype": "text/x-python",
   "name": "python",
   "nbconvert_exporter": "python",
   "pygments_lexer": "ipython3",
   "version": "3.6.3"
  },
  "latex_envs": {
   "LaTeX_envs_menu_present": true,
   "autocomplete": true,
   "bibliofile": "biblio.bib",
   "cite_by": "apalike",
   "current_citInitial": 1,
   "eqLabelWithNumbers": true,
   "eqNumInitial": 1,
   "hotkeys": {
    "equation": "Ctrl-E",
    "itemize": "Ctrl-I"
   },
   "labels_anchors": false,
   "latex_user_defs": false,
   "report_style_numbering": false,
   "user_envs_cfg": false
  },
  "varInspector": {
   "cols": {
    "lenName": 16,
    "lenType": 16,
    "lenVar": 40
   },
   "kernels_config": {
    "python": {
     "delete_cmd_postfix": "",
     "delete_cmd_prefix": "del ",
     "library": "var_list.py",
     "varRefreshCmd": "print(var_dic_list())"
    },
    "r": {
     "delete_cmd_postfix": ") ",
     "delete_cmd_prefix": "rm(",
     "library": "var_list.r",
     "varRefreshCmd": "cat(var_dic_list()) "
    }
   },
   "types_to_exclude": [
    "module",
    "function",
    "builtin_function_or_method",
    "instance",
    "_Feature"
   ],
   "window_display": false
  }
 },
 "nbformat": 4,
 "nbformat_minor": 2
}
