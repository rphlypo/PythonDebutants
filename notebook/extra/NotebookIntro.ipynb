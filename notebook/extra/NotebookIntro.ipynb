{
 "cells": [
  {
   "cell_type": "markdown",
   "metadata": {
    "extensions": {
     "jupyter_dashboards": {
      "version": 1,
      "views": {
       "grid_default": {
        "col": 0,
        "height": 15,
        "hidden": false,
        "row": 0,
        "width": null
       },
       "report_default": {
        "hidden": false
       }
      }
     }
    },
    "nbpresent": {
     "id": "f1b9243a-a42d-4ac2-b86a-d791edffc665"
    }
   },
   "source": [
    "\n",
    "\n",
    "## Using the notebook\n",
    "\n",
    "* The cursor determines the currently active cell\n",
    "  * <kbd>CTRL</kbd> + <kbd>ENTER</kbd> executes the current cell contents\n",
    "  * <kbd>SHIFT</kbd> + <kbd>ENTER</kbd> executes the current cell and moves to next (creates a new cell if last)\n",
    "\n",
    "* Change from edit to meta mode by pressing <kbd>ESC</kbd>\n",
    "  * followed by <kbd>h</kbd> to get help\n",
    "  * followed by <kbd>m</kbd> to convert to text mode (markdown)\n",
    "  * followed by <kbd>y</kbd> to convert to code\n",
    "  * followed by <kbd>x</kbd> to delete current cell\n",
    "  \n",
    "* change back from meta to edit mode by pressing <kbd>ENTER</kbd>\n",
    "  * when in edit mode <kbd>ENTER</kbd> provides a line feed or allows to edit rendered text\n",
    "  * _text mode_ allows for $\\LaTeX$ equations, html, javascript, ...\n",
    "  * _code mode_ allows for code completion (<kbd>TAB</kbd>), help (?), ..."
   ]
  },
  {
   "cell_type": "markdown",
   "metadata": {
    "extensions": {
     "jupyter_dashboards": {
      "version": 1,
      "views": {
       "grid_default": {
        "col": 0,
        "height": 4,
        "hidden": false,
        "row": 15,
        "width": 4
       },
       "report_default": {
        "hidden": false
       }
      }
     }
    },
    "nbpresent": {
     "id": "12c4d02e-e699-4c06-847b-121e9f7a9057"
    }
   },
   "source": [
    "#### Execute the following cell for help"
   ]
  },
  {
   "cell_type": "code",
   "execution_count": null,
   "metadata": {
    "extensions": {
     "jupyter_dashboards": {
      "version": 1,
      "views": {
       "grid_default": {
        "hidden": true
       },
       "report_default": {
        "hidden": true
       }
      }
     }
    },
    "nbpresent": {
     "id": "3db84198-b824-4e07-9f31-c98e922cabb0"
    }
   },
   "outputs": [],
   "source": [
    "int?"
   ]
  },
  {
   "cell_type": "markdown",
   "metadata": {
    "extensions": {
     "jupyter_dashboards": {
      "version": 1,
      "views": {
       "grid_default": {
        "col": 4,
        "height": 4,
        "hidden": false,
        "row": 15,
        "width": 4
       },
       "report_default": {
        "hidden": false
       }
      }
     }
    },
    "nbpresent": {
     "id": "e41b5576-1960-49ac-80f5-70b3bf503a3f"
    }
   },
   "source": [
    "#### Use tab completion by placing your cursor after `fl` or after `int.` and using <kbd>TAB</kbd>"
   ]
  },
  {
   "cell_type": "code",
   "execution_count": null,
   "metadata": {
    "extensions": {
     "jupyter_dashboards": {
      "version": 1,
      "views": {
       "grid_default": {
        "hidden": true
       },
       "report_default": {
        "hidden": true
       }
      }
     }
    },
    "nbpresent": {
     "id": "c542459c-77e9-408f-9a57-db53d38d0b34"
    }
   },
   "outputs": [],
   "source": [
    "fl\n",
    "int."
   ]
  },
  {
   "cell_type": "markdown",
   "metadata": {
    "extensions": {
     "jupyter_dashboards": {
      "version": 1,
      "views": {
       "grid_default": {
        "col": 8,
        "height": 4,
        "hidden": false,
        "row": 15,
        "width": 4
       },
       "report_default": {
        "hidden": false
       }
      }
     }
    },
    "nbpresent": {
     "id": "c8c84675-8fa9-4ef2-9fda-a28fe0c7faa8"
    }
   },
   "source": [
    "#### Display to `std out` using `print()` function\n",
    "\n",
    "* the hash-symbol (`#`) starts a single line comment\n",
    "\n",
    "* we will come back to string formatting later"
   ]
  },
  {
   "cell_type": "code",
   "execution_count": null,
   "metadata": {
    "extensions": {
     "jupyter_dashboards": {
      "version": 1,
      "views": {
       "grid_default": {
        "hidden": true
       },
       "report_default": {
        "hidden": true
       }
      }
     }
    },
    "nbpresent": {
     "id": "bab76f15-a4d5-4e31-970a-85b4faa22a9d"
    }
   },
   "outputs": [],
   "source": [
    "print(\"Hello world!\")  # An all-time classic\n",
    "print(\"Spam and eggs\") # Monthy python is often referenced in ... python\n",
    "print(\"foo and bar\")   # More classical"
   ]
  },
  {
   "cell_type": "markdown",
   "metadata": {},
   "source": [
    "* print automatically uses the object's representation (see later)"
   ]
  },
  {
   "cell_type": "code",
   "execution_count": null,
   "metadata": {},
   "outputs": [],
   "source": [
    "print(1 + 2 + 1) # an integer\n",
    "print(1 + 2.0 + 1) # a float\n",
    "print((1 + 1j) * (1 - 1j)) # a complex number\n",
    "print(dict(a=1, b=2, c=1)) # a dictionary\n",
    "print(set([1, 2, 1])) # a set \n",
    "print(list((1, 2, 1))) # a list\n",
    "print(tuple([1, 2, 1])) # a tuple"
   ]
  }
 ],
 "metadata": {
  "anaconda-cloud": {},
  "extensions": {
   "jupyter_dashboards": {
    "activeView": "report_default",
    "version": 1,
    "views": {
     "grid_default": {
      "cellMargin": 10,
      "defaultCellHeight": 20,
      "maxColumns": 12,
      "name": "grid",
      "type": "grid"
     },
     "report_default": {
      "name": "report",
      "type": "report"
     }
    }
   }
  },
  "kernelspec": {
   "display_name": "Python [default]",
   "language": "python",
   "name": "python3"
  },
  "language_info": {
   "codemirror_mode": {
    "name": "ipython",
    "version": 3
   },
   "file_extension": ".py",
   "mimetype": "text/x-python",
   "name": "python",
   "nbconvert_exporter": "python",
   "pygments_lexer": "ipython3",
   "version": "3.5.5"
  },
  "latex_envs": {
   "LaTeX_envs_menu_present": true,
   "autocomplete": true,
   "bibliofile": "biblio.bib",
   "cite_by": "apalike",
   "current_citInitial": 1,
   "eqLabelWithNumbers": true,
   "eqNumInitial": 1,
   "hotkeys": {
    "equation": "Ctrl-E",
    "itemize": "Ctrl-I"
   },
   "labels_anchors": false,
   "latex_user_defs": false,
   "report_style_numbering": false,
   "user_envs_cfg": false
  },
  "varInspector": {
   "cols": {
    "lenName": 16,
    "lenType": 16,
    "lenVar": 40
   },
   "kernels_config": {
    "python": {
     "delete_cmd_postfix": "",
     "delete_cmd_prefix": "del ",
     "library": "var_list.py",
     "varRefreshCmd": "print(var_dic_list())"
    },
    "r": {
     "delete_cmd_postfix": ") ",
     "delete_cmd_prefix": "rm(",
     "library": "var_list.r",
     "varRefreshCmd": "cat(var_dic_list()) "
    }
   },
   "types_to_exclude": [
    "module",
    "function",
    "builtin_function_or_method",
    "instance",
    "_Feature"
   ],
   "window_display": false
  }
 },
 "nbformat": 4,
 "nbformat_minor": 2
}
