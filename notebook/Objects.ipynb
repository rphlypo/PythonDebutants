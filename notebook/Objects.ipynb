{
 "cells": [
  {
   "cell_type": "markdown",
   "metadata": {},
   "source": [
    "# Object-oriented programming\n",
    "\n",
    "1. [class declaration](#class declaration)\n",
    "1. [attributes and methods](#attributes and methods)\n",
    "1. [inheritance](#inheritance)"
   ]
  },
  {
   "cell_type": "markdown",
   "metadata": {},
   "source": [
    "## Class declaration <a name=\"class declaration\" />"
   ]
  },
  {
   "cell_type": "code",
   "execution_count": null,
   "metadata": {
    "collapsed": true
   },
   "outputs": [],
   "source": [
    "class Graph:\n",
    "    def __init__(self, G):\n",
    "        self.G = G"
   ]
  },
  {
   "cell_type": "code",
   "execution_count": null,
   "metadata": {},
   "outputs": [],
   "source": [
    "g = Graph(dict()) # create an empty graph\n",
    "print(g)"
   ]
  },
  {
   "cell_type": "markdown",
   "metadata": {},
   "source": [
    "## Attributes and methods <a name=\"attributes and methods\" />"
   ]
  },
  {
   "cell_type": "code",
   "execution_count": null,
   "metadata": {},
   "outputs": [],
   "source": [
    "class Quadrilateral:\n",
    "    n_sides = 4                # class attribute\n",
    "    def __init__(self, sides): # __init__ \n",
    "        self.sides = sides     # instance attribute\n",
    "\n",
    "    def circumference(self):\n",
    "        circumference = 0\n",
    "        for s in self.sides:\n",
    "            circumference += s\n",
    "        if circumference >= 2 * max(*self.sides):\n",
    "            return circumference\n",
    "        else:\n",
    "            return False"
   ]
  },
  {
   "cell_type": "code",
   "execution_count": null,
   "metadata": {},
   "outputs": [],
   "source": [
    "q = Quadrilateral((1, 2, 3, 4))\n",
    "print(\"the class attribute n_sides = {}\".format(Quadrilateral.n_sides))\n",
    "print(\"the class attribute n_sides is also an attribute of the instance q: {}\".format(q.n_sides))\n",
    "print(\"the instance attribute sides = {}\".format(q.sides))"
   ]
  },
  {
   "cell_type": "markdown",
   "metadata": {},
   "source": [
    "#### print the circumference of q"
   ]
  },
  {
   "cell_type": "markdown",
   "metadata": {},
   "source": [
    "## Inheritance <a name=\"inheritance\" />"
   ]
  },
  {
   "cell_type": "code",
   "execution_count": null,
   "metadata": {
    "collapsed": true
   },
   "outputs": [],
   "source": [
    "class Rectangle(Quadrilateral):\n",
    "    def __init__(self, sides):\n",
    "        self.sides = [sides[0], sides[1]] * 2"
   ]
  },
  {
   "cell_type": "code",
   "execution_count": null,
   "metadata": {},
   "outputs": [],
   "source": [
    "r = Rectangle([1, 2])\n",
    "print(r.sides)\n",
    "print(r.circumference)\n",
    "print(isinstance(r, Rectangle))     # r is a Rectangle\n",
    "print(isinstance(r, Quadrilateral)) # r is also a Quadrilateral !"
   ]
  },
  {
   "cell_type": "code",
   "execution_count": null,
   "metadata": {
    "collapsed": true
   },
   "outputs": [],
   "source": [
    "import math\n",
    "\n",
    "class Polygone:\n",
    "    def __init__(self, sides):\n",
    "        self.sides = tuple(sides)\n",
    "        self.n_sides = len(sides)\n",
    "        \n",
    "    def circumference(self):\n",
    "        circumference = 0\n",
    "        for s in self.sides:\n",
    "            circumference += s\n",
    "        if circumference >= 2 * max(*self.sides):\n",
    "            return circumference\n",
    "        else:\n",
    "            return False\n",
    "        \n",
    "\n",
    "class Equilateral(Polygone):    \n",
    "    def __init__(self, side, n_sides):\n",
    "        self.n_sides\n",
    "        self.sides = (side,) * n_sides\n",
    "        \n",
    "    def circumference(self):\n",
    "        return self.sides[0] * self.n_sides\n",
    "    \n",
    "    def surface(self):\n",
    "        return self.n_sides * (self.sides[0] / 2) ** 2 / math.tan(math.pi / self.n_sides)\n",
    "        \n",
    "        \n",
    "class Quadrilateral(Polygone):\n",
    "    n_sides = 4\n",
    "    def __init__(self, sides):\n",
    "        self.sides = tuple(sides)\n",
    "     \n",
    "    \n",
    "class Rectangle(Quadrilateral):\n",
    "    def __init__(self, sides):\n",
    "        self.sides = tuple(sides) * 2\n",
    "        \n",
    "        \n",
    "class Square(Equilateral, Rectangle):\n",
    "    def __init__(self, side):\n",
    "        self.sides = (side,) * 4"
   ]
  },
  {
   "cell_type": "code",
   "execution_count": null,
   "metadata": {},
   "outputs": [],
   "source": [
    "s = Square(3)\n",
    "print(s.surface())\n",
    "print(s.circumference())\n",
    "print(s.n_sides)\n",
    "print(Square.n_sides)"
   ]
  }
 ],
 "metadata": {
  "kernelspec": {
   "display_name": "Python [conda env:inp]",
   "language": "python",
   "name": "conda-env-inp-py"
  },
  "language_info": {
   "codemirror_mode": {
    "name": "ipython",
    "version": 3
   },
   "file_extension": ".py",
   "mimetype": "text/x-python",
   "name": "python",
   "nbconvert_exporter": "python",
   "pygments_lexer": "ipython3",
   "version": "3.6.3"
  },
  "latex_envs": {
   "LaTeX_envs_menu_present": true,
   "autocomplete": true,
   "bibliofile": "biblio.bib",
   "cite_by": "apalike",
   "current_citInitial": 1,
   "eqLabelWithNumbers": true,
   "eqNumInitial": 1,
   "hotkeys": {
    "equation": "Ctrl-E",
    "itemize": "Ctrl-I"
   },
   "labels_anchors": false,
   "latex_user_defs": false,
   "report_style_numbering": false,
   "user_envs_cfg": false
  },
  "varInspector": {
   "cols": {
    "lenName": 16,
    "lenType": 16,
    "lenVar": 40
   },
   "kernels_config": {
    "python": {
     "delete_cmd_postfix": "",
     "delete_cmd_prefix": "del ",
     "library": "var_list.py",
     "varRefreshCmd": "print(var_dic_list())"
    },
    "r": {
     "delete_cmd_postfix": ") ",
     "delete_cmd_prefix": "rm(",
     "library": "var_list.r",
     "varRefreshCmd": "cat(var_dic_list()) "
    }
   },
   "types_to_exclude": [
    "module",
    "function",
    "builtin_function_or_method",
    "instance",
    "_Feature"
   ],
   "window_display": false
  }
 },
 "nbformat": 4,
 "nbformat_minor": 2
}
