{
 "cells": [
  {
   "cell_type": "markdown",
   "metadata": {},
   "source": [
    "# 3. Flow control\n",
    "\n",
    "1. [introduction](#introduction)\n",
    "1. [Boolean logic](#boolean logic)\n",
    "1. [Exceptions](#exception handling)\n",
    "1. [iterators](#iterators)\n",
    "1. [Break-continue-pass](#break-cont-pass)\n",
    "1. Exercise: [prime sift](#primes)\n",
    "\n",
    "## 3.1 Introduction <a name=\"introduction\" />\n",
    "\n",
    "### 3.1.1 Motivating example: sample from a distribution\n",
    "\n",
    "Consider a distribution with the following expression\n",
    "$$\n",
    "f_X(x) = \\begin{cases}\n",
    "2 - \\frac{1}{2x^2} & \\text{if } 1/2<x\\leq 1\\\\\n",
    "\\frac{2}{z^2} - \\frac{1}{2} & \\text{if } 1<x\\leq 2\\\\\n",
    "0 & \\text{otherwise}\n",
    "\\end{cases}\n",
    "$$\n",
    "\n",
    "Sample from the distribution using a Monte Carlo sampler."
   ]
  },
  {
   "cell_type": "code",
   "execution_count": null,
   "metadata": {
    "collapsed": true
   },
   "outputs": [],
   "source": [
    "# import a plotting library for showing the results\n",
    "from matplotlib import pyplot as plt\n",
    "%matplotlib notebook\n",
    "\n",
    "# list comprehension: simple generation of a list with a for loop\n",
    "X = [3/2*x/1000 + 1/2 for x in range(1000)] # range(1000) is a generator\n",
    "fX = [2 - 1/(2 * x**2) if x < 1 else 2 / x**2 - 1/2 for x in X]\n",
    "fig, ax = plt.subplots()\n",
    "ax.plot(X, fX)\n",
    "ax.set_xlabel(r'$x$')\n",
    "ax.set_ylabel(r'$f_X$')\n",
    "ax.set_title(r'probability density function of $x$'); # ; to suppress the output to std out of last line"
   ]
  },
  {
   "cell_type": "code",
   "execution_count": null,
   "metadata": {
    "collapsed": true
   },
   "outputs": [],
   "source": [
    "n_samples = 100000 # use 1e4 samples\n",
    "Xbins = [3/2*x/100 + 1/2 for x in range(100)] # range(1000) is a generator\n",
    "# draw samples uniformly over the square [1/2, 2] x [0, 3/2]\n",
    "import random\n",
    "samples = [(random.uniform(1/2, 2), random.uniform(0, 3/2)) for _ in range(n_samples)]\n",
    "# filter the samples, only samples for which the y-coordinate is under the curve should be retained\n",
    "samples = [s[0] for s in samples if s[1] < min(2 - 1/(2 * s[0]**2), 2 / s[0]**2 - 1/2)]\n",
    "fig2, ax2 = plt.subplots()\n",
    "ax2.hist(samples, bins=Xbins)\n",
    "ax2.set_xlabel(r'$x$')\n",
    "ax2.set_ylabel('counts')\n",
    "ax2.set_title('observed frequencies of sample')\n",
    "print('percent of samples accepted: {:.1f}%'.format(len(samples)/n_samples*100))\n",
    "print('theoretical acceptance rate: {:.1f}%'.format(4/9*100))"
   ]
  },
  {
   "cell_type": "markdown",
   "metadata": {},
   "source": [
    "### 3.1.2 key ingredients for flow control\n",
    "\n",
    "1. conditional rerouting: indicates with program path is executed, given a condition is (un)satisfied\n",
    "1. an infinite loop: repeats until conditional rerouting tells otherwise\n",
    "1. a final condition: indicates when to terminate the iterations\n",
    "\n",
    "Python has two ways for **conditional rerouting**:\n",
    "* `if`/`elif`/`else` with condiotional statements \n",
    "* throw an `Exception` and handle it properly (`try` &#8230; `except` &#8230; `finally`)\n",
    "\n",
    "The **infinite loop** is created by \n",
    "```python\n",
    "while True:\n",
    "    <statements> # obligatory 4-space indentation!\n",
    "```\n",
    "\n",
    "A **final condition** can be\n",
    "* an exception `Exception:StopIteration`\n",
    "* a `break`, `continue`, or `return` statement"
   ]
  },
  {
   "cell_type": "markdown",
   "metadata": {},
   "source": [
    "## 3.2 conditional rerouting with boolean logic <a name=\"boolean logic\"/>\n",
    "\n",
    "### 3.2.1 Getting acquainted with boolean expressions in python\n",
    "\n",
    "#### basic boolean values and operators\n",
    "\n",
    "* 2 boolean values : `True` and `False`\n",
    "\n",
    "* comparison operators : `==`,&ensp; `>`,&ensp; `<`,&ensp; `<=`,&ensp; `>=`,&ensp; `~=`,&ensp; `is`\n",
    "\n",
    "* negation: `not`,&ensp; `!`\n",
    "\n",
    "#### comparison operators: _to be or not to be_\n",
    "\n",
    "| operator | meaning |\n",
    "|:-------- |:----|\n",
    "| `==` | __similar__ _or_ equal in __value__|\n",
    "| `is` | __identical__ _or_ same __object__ |\n",
    "\n",
    "_For fancier string layout when printing to stdout, see [input output](https://docs.python.org/3.6/tutorial/inputoutput.html)_\n",
    "\n",
    "#### combining logical statements through operators\n",
    "\n",
    "* joining statements &rightarrow; logical operations\n",
    "\n",
    "    * `and`, `or`\n",
    "    * bitwise: `&` (and), `|` (or), `^` (xor)\n",
    "    \n",
    "#### implicit boolean logic\n",
    "\n",
    "* predicates are used in flow control `if`, `while`\n",
    "\n",
    "* all following statements evaluate to `True`\n",
    "\n",
    "  ```python\n",
    "  0 == False\n",
    "  0 is not False\n",
    "  1 == True\n",
    "  1 is not True\n",
    "  2 != True\n",
    "  not 2 == True\n",
    "  bool(2) == True\n",
    "  bool(2) is True\n",
    "  bool([1, 2]) is True\n",
    "  bool([]) is False\n",
    "  ```"
   ]
  },
  {
   "cell_type": "code",
   "execution_count": null,
   "metadata": {
    "collapsed": true
   },
   "outputs": [],
   "source": [
    "print(True and False)\n",
    "print(True or True and False)  # operator precedence?\n",
    "print(bin(0b1100 ^ 0b1010))    # binary\n",
    "print(bin(12 ^ 10))            # explain!"
   ]
  },
  {
   "cell_type": "markdown",
   "metadata": {},
   "source": [
    "### 3.2.2 trickier behaviour when not dealing with logical expressions"
   ]
  },
  {
   "cell_type": "code",
   "execution_count": null,
   "metadata": {
    "collapsed": true
   },
   "outputs": [],
   "source": [
    "print(1 and 2)\n",
    "print(bool(1) and bool(2))\n",
    "print(True and \"print me\")  # if the first statement evaluates to True print second\n",
    "print(False and \"print me\") # if the first statement evaluates to False print False\n",
    "print(\"print me\" and True)  # non-commutative!\n",
    "print(\"print me\" and False) "
   ]
  },
  {
   "cell_type": "markdown",
   "metadata": {},
   "source": [
    "### 3.2.3 compound statements\n",
    "\n",
    "* compound statement = header + suite\n",
    "\n",
    "* separator `:`\n",
    "\n",
    "* suite &rightarrow; __4 space__ indentation!\n",
    "\n",
    "    ```python\n",
    "    if True:\n",
    "        print(\"execute me\")\n",
    "    ```\n",
    "\n",
    "  * header:<br />\n",
    "    &bbrk;&bbrk;&bbrk;&bbrk;suite\n",
    "    \n",
    "#### `if`/`elif`/`else` statement"
   ]
  },
  {
   "cell_type": "code",
   "execution_count": null,
   "metadata": {
    "collapsed": true
   },
   "outputs": [],
   "source": [
    "if True:\n",
    "    print('execute me')\n",
    "if False:\n",
    "    print('do not exectute me')\n",
    "if not False:\n",
    "    print('double negation is an affirmation')"
   ]
  },
  {
   "cell_type": "code",
   "execution_count": null,
   "metadata": {
    "collapsed": true
   },
   "outputs": [],
   "source": [
    "x = 1\n",
    "if x is 1:\n",
    "    print('x identifies with 1')\n",
    "elif x == 1: # Auch ! although True this does not get evaluated\n",
    "    print('the value of x is 1')\n",
    "else:\n",
    "    print('x has nothing to do with 1')"
   ]
  },
  {
   "cell_type": "markdown",
   "metadata": {},
   "source": [
    "#### `while` statement\n",
    "\n",
    "_HINT_: you can interrupt kernel execution with <kbd>Ctrl</kbd>+<kbd>C</kbd> or interupt the kernel by <kbd>ESC</kbd>+<kbd>I</kbd> or use the menu _Kernel_ &rightarrow; _Interrupt_"
   ]
  },
  {
   "cell_type": "code",
   "execution_count": null,
   "metadata": {
    "collapsed": true
   },
   "outputs": [],
   "source": [
    "while True: # infinite loop (no final condition), no user feedback\n",
    "    pass"
   ]
  },
  {
   "cell_type": "code",
   "execution_count": null,
   "metadata": {
    "collapsed": true
   },
   "outputs": [],
   "source": [
    "x = 1\n",
    "while True:\n",
    "    try:\n",
    "        x /= 2\n",
    "        if x < 0.01:\n",
    "            raise StopIteration\n",
    "    except StopIteration:\n",
    "        break # breaks here, but executes 'finally' suite first\n",
    "    finally:\n",
    "        print(\"Current value x = {:.3f}\".format(x))    "
   ]
  },
  {
   "cell_type": "code",
   "execution_count": null,
   "metadata": {
    "collapsed": true
   },
   "outputs": [],
   "source": [
    "while True:\n",
    "    try:\n",
    "        n = int(input(\"Give an integer value: \"))\n",
    "        break\n",
    "    except ValueError:\n",
    "        print(\"Auch! Try again ...\")"
   ]
  },
  {
   "cell_type": "markdown",
   "metadata": {},
   "source": [
    "#### Exercise: buffer\n",
    "\n",
    "* implement a _last in first out_ (LIFO) buffer"
   ]
  },
  {
   "cell_type": "code",
   "execution_count": null,
   "metadata": {
    "collapsed": true
   },
   "outputs": [],
   "source": [
    "l = list(range(10))   # list with 10 elements from 0 to 9\n",
    "print(l)              \n",
    "while l:              # bool of empty list is False, otherwise True\n",
    "    element = l.pop() # pop last element from list (LIFO or stack)\n",
    "    print('popped element {} from list'.format(element))\n",
    "    print('list = {}'.format(l))"
   ]
  },
  {
   "cell_type": "markdown",
   "metadata": {},
   "source": [
    "* implement a _first in first out_ (FIFO) buffer<br />\n",
    "  you might want to have a look at [data structures](https://docs.python.org/3.6/tutorial/datastructures.html)"
   ]
  },
  {
   "cell_type": "code",
   "execution_count": null,
   "metadata": {
    "collapsed": true
   },
   "outputs": [],
   "source": [
    "l = list(range(10))\n",
    "print(l)\n",
    "# complete"
   ]
  },
  {
   "cell_type": "markdown",
   "metadata": {},
   "source": [
    "## 3.3 Exception handling <a name=\"exception handling\" />\n",
    "\n",
    "### 3.3.1 the `try` &#8230; `except` &#8230; `finally` triplet\n",
    "\n",
    "* Exception (\"error\") &rightarrow; if not handled, code execution is stopped\n",
    "\n",
    "* handling Exceptions &rightarrow; `try` &#8230; `except` (&#8230; `finally`)"
   ]
  },
  {
   "cell_type": "code",
   "execution_count": null,
   "metadata": {
    "collapsed": true
   },
   "outputs": [],
   "source": [
    "a = 1\n",
    "b = 0\n",
    "a / b"
   ]
  },
  {
   "cell_type": "code",
   "execution_count": null,
   "metadata": {
    "collapsed": true
   },
   "outputs": [],
   "source": [
    "a = 1\n",
    "b = 0\n",
    "try:\n",
    "    a = 1\n",
    "    b = 0\n",
    "    c = a / b\n",
    "except:\n",
    "    print(\"Exception was raised, but which one ?\")"
   ]
  },
  {
   "cell_type": "code",
   "execution_count": null,
   "metadata": {
    "collapsed": true
   },
   "outputs": [],
   "source": [
    "a = 1\n",
    "b = 0\n",
    "try:\n",
    "    a = 1\n",
    "    b = 0\n",
    "    c = a / b\n",
    "except:\n",
    "    print(\"Exception was raised, but which one ?\")\n",
    "    \n",
    "# if the exception is raised, code is halted, no execution of the next line\n",
    "print(\"I'm Always present at output, whatever exception raised\")"
   ]
  },
  {
   "cell_type": "code",
   "execution_count": null,
   "metadata": {
    "collapsed": true
   },
   "outputs": [],
   "source": [
    "a = 1\n",
    "b = 0\n",
    "try:\n",
    "    a = 1\n",
    "    b = 0\n",
    "    c = a / b\n",
    "except:\n",
    "    print(\"Exception was raised, but which one ?\")\n",
    "finally:    \n",
    "    print(\"I'm Always present at output, whatever exception raised\")"
   ]
  },
  {
   "cell_type": "code",
   "execution_count": null,
   "metadata": {
    "collapsed": true
   },
   "outputs": [],
   "source": [
    "a = 1\n",
    "b = 0\n",
    "try:\n",
    "    a = 1\n",
    "    b = 0\n",
    "    a / b\n",
    "except Exception as e:   # we can label the exception to reuse later\n",
    "    print(\"First print me, then raise \\\"{}\\\" exception again\".format(e))\n",
    "    raise                      # raises last exception again"
   ]
  },
  {
   "cell_type": "code",
   "execution_count": null,
   "metadata": {
    "collapsed": true
   },
   "outputs": [],
   "source": [
    "a = 1\n",
    "b = 0\n",
    "try:\n",
    "    a = 1\n",
    "    b = 0\n",
    "    a / b\n",
    "except ZeroDivisionError as e: # only division-by-zero errors\n",
    "    print(\"I'm printed when a division by zero occurs: \\\"{}\\\"\".format(e))\n",
    "    raise                      # raises last exception again\n",
    "except Exception as e: # all other errors\n",
    "    print(\"I'm printed for any other exception: here \\\"{}\\\"\".format(e))\n",
    "    raise\n",
    "finally:\n",
    "    print(\"I'm Always present at output, whatever exception raised\")"
   ]
  },
  {
   "cell_type": "code",
   "execution_count": null,
   "metadata": {
    "collapsed": true
   },
   "outputs": [],
   "source": [
    "a = 1\n",
    "b = 0\n",
    "try:\n",
    "    a = 1\n",
    "    b = 0\n",
    "    a[0] # try \"a[0]\" instead\n",
    "except ZeroDivisionError as e: # only division-by-zero errors\n",
    "    print(\"I'm printed when a division by zero occurs: \\\"{}\\\"\".format(e))\n",
    "    raise                      # raises last exception again\n",
    "except Exception as e: # all other errors\n",
    "    print(\"I'm printed for any other exception: here \\\"{}\\\"\".format(e))\n",
    "    raise\n",
    "finally:\n",
    "    print(\"I'm Always present at output, whatever exception raised\")"
   ]
  },
  {
   "cell_type": "markdown",
   "metadata": {},
   "source": [
    "### 3.3.2 Raise an Exception on your own\n",
    "\n",
    "You may also want to raise your own Exception, see [errors and exceptions](https://docs.python.org/3.6/tutorial/errors.html)"
   ]
  },
  {
   "cell_type": "code",
   "execution_count": null,
   "metadata": {
    "collapsed": true
   },
   "outputs": [],
   "source": [
    "a = 1\n",
    "b = 0\n",
    "try:\n",
    "    raise StopIteration # all code after this Exception in the 'try' suite will not get executed\n",
    "    a = 11\n",
    "    b = 10\n",
    "except StopIteration:\n",
    "    print('You wanted to stop the execution of your code')\n",
    "finally:\n",
    "     print('Current values of a and b: a={} and b={}\\n'.format(a, b))\n",
    "\n",
    "a = 1\n",
    "b = 0\n",
    "try:\n",
    "    a = 11\n",
    "    b = 10\n",
    "    raise StopIteration\n",
    "except StopIteration:\n",
    "    print('You wanted to stop the execution of your code')\n",
    "finally:\n",
    "     print('Current values of a and b: a={} and b={}'.format(a, b))"
   ]
  },
  {
   "cell_type": "markdown",
   "metadata": {},
   "source": [
    "#### Exercise: your self-designed for-loop\n",
    "\n",
    "Define a for-loop using an infinite `while` and the `StopIteration` exception. The for-loop should print the 26 letters of the alphabet one by one on each line"
   ]
  },
  {
   "cell_type": "code",
   "execution_count": null,
   "metadata": {
    "collapsed": true
   },
   "outputs": [],
   "source": [
    "alphabet = 'abcdefghijklmnopqrstuvwxyz'\n",
    "# complete"
   ]
  },
  {
   "cell_type": "markdown",
   "metadata": {},
   "source": [
    "## 3.4 iterators <a name=\"iterators\"/>\n",
    "\n",
    "* __iterable__: returns its members one after another\n",
    "\n",
    "    * `__getitem__()`\n",
    "\n",
    "* __iterator__: datastream returning member after member\n",
    "\n",
    "    * `__next__()`\n",
    "\n",
    "* __generator__: function yielding a series of objects\n",
    "\n",
    "    * `yield`\n",
    "\n",
    "Note:\n",
    "generators require less memory, iterable not saved in memory\n",
    "\n",
    "![iterables, iterators, generators, &#8230;](./images/itergen.png)\n",
    "\n",
    "<div align='right'>Taken from [nvie.com](http://nvie.com/posts/iterators-vs-generators/)</div>"
   ]
  },
  {
   "cell_type": "markdown",
   "metadata": {},
   "source": [
    "### 3.4.1 `range`\n",
    "\n",
    "* `range(start, stop, step)` from start to stop with stepsize `step` (stop excluded!)\n",
    "\n",
    "    * `range(5)` &sim; `[0, 1, 2, 3, 4]`\n",
    "    \n",
    "    * `range(2, 5)` &sim; `[2, 3, 4]`\n",
    "    \n",
    "    * `range(0, 5, 2)` &sim; `[0, 2, 4]`\n",
    "\n",
    "\n",
    "* `iterator`, not an `iterable`\n",
    "\n",
    "    * `range(5)` is an iterator\n",
    "    \n",
    "    * `list(range(5))` transforms iterator into iterable\n",
    "    \n",
    "\n",
    "**Note:** `range(5)` cannot be indexed (it is not an iterable!)"
   ]
  },
  {
   "cell_type": "code",
   "execution_count": null,
   "metadata": {
    "collapsed": true
   },
   "outputs": [],
   "source": [
    "l = list(range(10))        # this is an iterable\n",
    "it = l.__iter__()          # this is an iterator\n",
    "print(it.__next__())       # getting elements, one by one \n",
    "print(it.__next__())\n",
    "print(it.__next__())\n",
    "\n",
    "while it:\n",
    "    print(it.__next__())   # generates a StopIteration exception when no more elements"
   ]
  },
  {
   "cell_type": "code",
   "execution_count": null,
   "metadata": {
    "collapsed": true
   },
   "outputs": [],
   "source": [
    "l = list(range(10))        # this is an iterable\n",
    "\n",
    "it2 = l.__iter__()\n",
    "try:\n",
    "    while it2:\n",
    "        print(it2.__next__())\n",
    "except StopIteration:\n",
    "    pass\n",
    "finally:\n",
    "    print(\"no more elements in it2\")"
   ]
  },
  {
   "cell_type": "markdown",
   "metadata": {},
   "source": [
    "#### But wait! ... this time we've truly reinvented the for-loop"
   ]
  },
  {
   "cell_type": "code",
   "execution_count": null,
   "metadata": {
    "collapsed": true
   },
   "outputs": [],
   "source": [
    "for element in range(10):\n",
    "    print(element)\n",
    "print(\"no more elements in the iterator\")"
   ]
  },
  {
   "cell_type": "markdown",
   "metadata": {},
   "source": [
    "### 3.4.2 list comprehension (very, very Pythonic)\n",
    "\n",
    "* constructing lists from iterators"
   ]
  },
  {
   "cell_type": "code",
   "execution_count": null,
   "metadata": {
    "collapsed": true
   },
   "outputs": [],
   "source": [
    "# general for\n",
    "y = list()\n",
    "for x in range(10):\n",
    "    y.append(x ** 2)\n",
    "print(y)\n",
    "\n",
    "# list comprehension\n",
    "z = [x ** 2 for x in range(10)] # z = y\n",
    "print(z)"
   ]
  },
  {
   "cell_type": "markdown",
   "metadata": {},
   "source": [
    "* more involved including conditional statements"
   ]
  },
  {
   "cell_type": "code",
   "execution_count": null,
   "metadata": {
    "collapsed": true
   },
   "outputs": [],
   "source": [
    "w = [(x, y) for x in [1, 2, 3] for y in [1, 2, 3] if x < y]\n",
    "print(w)\n",
    "t = [(x, y) if x < y else (x, ) for x in [1, 2, 3] for y in [1, 2, 3]]\n",
    "print(t)"
   ]
  },
  {
   "cell_type": "markdown",
   "metadata": {},
   "source": [
    "## 3.5 `break`, `continue`, and `pass` <a name=\"break-cont-pass\"/>\n",
    "\n",
    "* `break`: breaks out of innermost `for`- or `while`-loop\n",
    "\n",
    "    * `else` executed if no break occurs\n",
    "\n",
    "\n",
    "* `continue`: continues with next iteration of loop\n",
    "\n",
    "\n",
    "* `pass`: does nothing (but syntactical necessity)"
   ]
  },
  {
   "cell_type": "code",
   "execution_count": null,
   "metadata": {
    "collapsed": true
   },
   "outputs": [],
   "source": [
    "try:\n",
    "    1/0\n",
    "except ZeroDivisionError:\n",
    "    pass # do nothing special, just be aware that we might have encountered a ZeroDivisionError\n",
    "finally:\n",
    "    print(\"all is ok, we continue as if nothing happened\")"
   ]
  },
  {
   "cell_type": "markdown",
   "metadata": {},
   "source": [
    "## Exercise: Prime sift <a name=\"primes\" />\n",
    "#### Print all prime numbers below 1000\n",
    "_HINT_: use `for`, `break`, and `else` and a dynamically growing `list`"
   ]
  },
  {
   "cell_type": "code",
   "execution_count": null,
   "metadata": {
    "collapsed": true
   },
   "outputs": [],
   "source": []
  }
 ],
 "metadata": {
  "anaconda-cloud": {},
  "kernelspec": {
   "display_name": "Python [default]",
   "language": "python",
   "name": "python3"
  },
  "language_info": {
   "codemirror_mode": {
    "name": "ipython",
    "version": 3
   },
   "file_extension": ".py",
   "mimetype": "text/x-python",
   "name": "python",
   "nbconvert_exporter": "python",
   "pygments_lexer": "ipython3",
   "version": "3.6.3"
  },
  "latex_envs": {
   "LaTeX_envs_menu_present": true,
   "autocomplete": true,
   "bibliofile": "biblio.bib",
   "cite_by": "apalike",
   "current_citInitial": 1,
   "eqLabelWithNumbers": true,
   "eqNumInitial": 1,
   "hotkeys": {
    "equation": "Ctrl-E",
    "itemize": "Ctrl-I"
   },
   "labels_anchors": false,
   "latex_user_defs": false,
   "report_style_numbering": false,
   "user_envs_cfg": false
  },
  "varInspector": {
   "cols": {
    "lenName": 16,
    "lenType": 16,
    "lenVar": 40
   },
   "kernels_config": {
    "python": {
     "delete_cmd_postfix": "",
     "delete_cmd_prefix": "del ",
     "library": "var_list.py",
     "varRefreshCmd": "print(var_dic_list())"
    },
    "r": {
     "delete_cmd_postfix": ") ",
     "delete_cmd_prefix": "rm(",
     "library": "var_list.r",
     "varRefreshCmd": "cat(var_dic_list()) "
    }
   },
   "types_to_exclude": [
    "module",
    "function",
    "builtin_function_or_method",
    "instance",
    "_Feature"
   ],
   "window_display": false
  }
 },
 "nbformat": 4,
 "nbformat_minor": 2
}
